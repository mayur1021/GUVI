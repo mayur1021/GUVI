{
  "nbformat": 4,
  "nbformat_minor": 0,
  "metadata": {
    "colab": {
      "name": "Assignment4.ipynb",
      "provenance": []
    },
    "kernelspec": {
      "name": "python3",
      "display_name": "Python 3"
    },
    "language_info": {
      "name": "python"
    }
  },
  "cells": [
    {
      "cell_type": "code",
      "execution_count": 1,
      "metadata": {
        "id": "PI1lTMTykRwv"
      },
      "outputs": [],
      "source": [
        "import numpy as np"
      ]
    },
    {
      "cell_type": "code",
      "source": [
        "# Import phi from train data set\n",
        "phi = np.loadtxt('train.csv', dtype='float', delimiter=',', skiprows=1,\n",
        "                 usecols=tuple(range(1, 14)))\n",
        "phi"
      ],
      "metadata": {
        "colab": {
          "base_uri": "https://localhost:8080/"
        },
        "id": "vFyfFJ2YkXpd",
        "outputId": "524255c9-40ba-4854-c8bf-1ebadb7ffa4e"
      },
      "execution_count": 6,
      "outputs": [
        {
          "output_type": "execute_result",
          "data": {
            "text/plain": [
              "array([[9.55770e-01, 0.00000e+00, 8.14000e+00, ..., 2.10000e+01,\n",
              "        3.06380e+02, 1.72800e+01],\n",
              "       [2.87500e-02, 2.80000e+01, 1.50400e+01, ..., 1.82000e+01,\n",
              "        3.96330e+02, 6.21000e+00],\n",
              "       [1.22358e+00, 0.00000e+00, 1.95800e+01, ..., 1.47000e+01,\n",
              "        3.63430e+02, 4.59000e+00],\n",
              "       ...,\n",
              "       [6.65492e+00, 0.00000e+00, 1.81000e+01, ..., 2.02000e+01,\n",
              "        3.96900e+02, 1.39900e+01],\n",
              "       [1.31170e-01, 0.00000e+00, 8.56000e+00, ..., 2.09000e+01,\n",
              "        3.87690e+02, 1.40900e+01],\n",
              "       [6.46600e-02, 7.00000e+01, 2.24000e+00, ..., 1.48000e+01,\n",
              "        3.68240e+02, 4.97000e+00]])"
            ]
          },
          "metadata": {},
          "execution_count": 6
        }
      ]
    },
    {
      "cell_type": "code",
      "source": [
        "# Import y from train data set\n",
        "y = np.loadtxt('train.csv', dtype='float', delimiter=',', skiprows=1,\n",
        "               usecols=14, ndmin=2)"
      ],
      "metadata": {
        "id": "zChuqkgskXuf"
      },
      "execution_count": 7,
      "outputs": []
    },
    {
      "cell_type": "code",
      "source": [
        "# Import phi_test from test data set\n",
        "phi_test = np.loadtxt('test.csv', dtype='float', delimiter=',',\n",
        "                      skiprows=1, usecols=tuple(range(1, 14)))\n",
        "phi_test"
      ],
      "metadata": {
        "colab": {
          "base_uri": "https://localhost:8080/"
        },
        "id": "NMys_QEbkXw8",
        "outputId": "1c8f5e62-70ed-4c98-9ed8-780c560dfeeb"
      },
      "execution_count": 8,
      "outputs": [
        {
          "output_type": "execute_result",
          "data": {
            "text/plain": [
              "array([[1.06120e-01, 3.00000e+01, 4.93000e+00, ..., 1.66000e+01,\n",
              "        3.94620e+02, 1.24000e+01],\n",
              "       [3.41090e-01, 0.00000e+00, 7.38000e+00, ..., 1.96000e+01,\n",
              "        3.96900e+02, 6.12000e+00],\n",
              "       [1.22472e+01, 0.00000e+00, 1.81000e+01, ..., 2.02000e+01,\n",
              "        2.46500e+01, 1.56900e+01],\n",
              "       ...,\n",
              "       [5.36000e-02, 2.10000e+01, 5.64000e+00, ..., 1.68000e+01,\n",
              "        3.96900e+02, 5.28000e+00],\n",
              "       [1.04690e-01, 4.00000e+01, 6.41000e+00, ..., 1.76000e+01,\n",
              "        3.89250e+02, 6.05000e+00],\n",
              "       [4.55587e+00, 0.00000e+00, 1.81000e+01, ..., 2.02000e+01,\n",
              "        3.54700e+02, 7.12000e+00]])"
            ]
          },
          "metadata": {},
          "execution_count": 8
        }
      ]
    },
    {
      "cell_type": "code",
      "source": [
        "# Add a cloloumn of 1s to right of phi and phi_test\n",
        "phi_test = np.concatenate((phi_test, np.ones((105, 1))), axis=1)\n",
        "phi = np.concatenate((phi, np.ones((400, 1))), axis=1)"
      ],
      "metadata": {
        "id": "Jux3bGAbkX21"
      },
      "execution_count": 9,
      "outputs": []
    },
    {
      "cell_type": "code",
      "source": [
        "# Min Max scaling for phi and phi_test (Feature Engineering)\n",
        "for i in range(0, 13):\n",
        "    col_max = max(phi[:, i])\n",
        "    col_min = min(phi[:, i])\n",
        "    phi[:, i] = (phi[:, i] - col_min) / (col_max - col_min)\n",
        "    phi_test[:, i] = (phi_test[:, i] - col_min) / (col_max - col_min)"
      ],
      "metadata": {
        "id": "xGvTsX1NkX5v"
      },
      "execution_count": 10,
      "outputs": []
    },
    {
      "cell_type": "code",
      "source": [
        "# Log scaling on y\n",
        "y = np.log(y)"
      ],
      "metadata": {
        "id": "CR8YmzK5kX8d"
      },
      "execution_count": 11,
      "outputs": []
    },
    {
      "cell_type": "code",
      "source": [
        "# Function to calculate change in error function\n",
        "def delta_w(p, phi, w):\n",
        "    if p == 2:\n",
        "        deltaw = (2 * (np.dot(np.dot(np.transpose(phi), phi), w) -\n",
        "                       np.dot(np.transpose(phi), y)) +\n",
        "                  lambd * p * np.power(np.absolute(w), (p - 1)))\n",
        "    if p < 2 and p > 1:\n",
        "        deltaw = (2 * (np.dot(np.dot(np.transpose(phi), phi), w) -\n",
        "                       np.dot(np.transpose(phi), y)) +\n",
        "                  lambd * p * np.power(np.absolute(w), (p - 1)) * np.sign(w))\n",
        "    return deltaw"
      ],
      "metadata": {
        "id": "hmxe_EygkX_R"
      },
      "execution_count": 12,
      "outputs": []
    },
    {
      "cell_type": "code",
      "source": [
        "# Dictionary containing filenames as keys and p as values\n",
        "filenames = {'output.csv': 2.0,\n",
        "             'output_p1.csv': 1.75,\n",
        "             'output_p2.csv': 1.5,\n",
        "             'output_p3.csv': 1.3\n",
        "             }"
      ],
      "metadata": {
        "id": "WETCrsUfkYCI"
      },
      "execution_count": 13,
      "outputs": []
    },
    {
      "cell_type": "code",
      "source": [
        "# For each item in this dictionary\n",
        "for (fname, p) in filenames.items():\n",
        "    # Set initial w to zeros\n",
        "    w = np.zeros((14, 1))"
      ],
      "metadata": {
        "id": "axrNitQ4kYEq"
      },
      "execution_count": 14,
      "outputs": []
    },
    {
      "cell_type": "code",
      "source": [
        "# Hyperparameter lambda value\n",
        "lambd = 0.2"
      ],
      "metadata": {
        "id": "nAFfZe4tkYHq"
      },
      "execution_count": 16,
      "outputs": []
    },
    {
      "cell_type": "code",
      "source": [
        "# Maximum step size\n",
        "t = 0.00012"
      ],
      "metadata": {
        "id": "FeOZcK72n3Ie"
      },
      "execution_count": 17,
      "outputs": []
    },
    {
      "cell_type": "code",
      "source": [
        "# Calculate new value of w\n",
        "w_new = w - t * delta_w(p, phi, w)\n",
        "i = 0\n",
        "# Repeat steps until error between consecutive w is less than threshold\n",
        "while(np.linalg.norm(w_new-w) > 10 ** -10):\n",
        "  w = w_new\n",
        "  w_new = w - t * delta_w(p, phi, w)\n",
        "  i = i + 1"
      ],
      "metadata": {
        "id": "AI72SPUhn3LQ"
      },
      "execution_count": 19,
      "outputs": []
    },
    {
      "cell_type": "code",
      "source": [
        "# Load values of id\n",
        "id_test = np.loadtxt('test.csv', dtype='int', delimiter=',',\n",
        "                     skiprows=1, usecols=0, ndmin=2)"
      ],
      "metadata": {
        "id": "YofeUAQcn3N6"
      },
      "execution_count": 25,
      "outputs": []
    },
    {
      "cell_type": "code",
      "source": [
        " # Calculate y for test data\n",
        "y_test = np.exp(np.dot(phi_test, w_new))"
      ],
      "metadata": {
        "id": "fFy4Zsubn3Qv"
      },
      "execution_count": 26,
      "outputs": []
    },
    {
      "cell_type": "code",
      "source": [
        "# Save the ids and y\n",
        "np.savetxt(fname, np.concatenate((id_test, y_test), axis=1),\n",
        "           delimiter=',', fmt=['%d', '%f'], header='ID,MEDV', comments='')"
      ],
      "metadata": {
        "id": "8OEb-RTQomgI"
      },
      "execution_count": 27,
      "outputs": []
    }
  ]
}