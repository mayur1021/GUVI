{
  "cells": [
    {
      "cell_type": "markdown",
      "metadata": {
        "id": "9hGAKYOMA29b"
      },
      "source": [
        "# Numpy\n",
        "\n"
      ]
    },
    {
      "cell_type": "markdown",
      "metadata": {
        "id": "n-MRR7NXA29h"
      },
      "source": [
        "#### 1. Import the numpy package under the name `np` (★☆☆) \n",
        "(**hint**: import … as …)"
      ]
    },
    {
      "cell_type": "code",
      "execution_count": null,
      "metadata": {
        "collapsed": true,
        "id": "r_88C37AA29i"
      },
      "outputs": [],
      "source": [
        "import numpy as np"
      ]
    },
    {
      "cell_type": "markdown",
      "metadata": {
        "id": "8Ju3kD1jA29j"
      },
      "source": [
        "#### 2. Print the numpy version and the configuration (★☆☆) \n",
        "(**hint**: np.\\_\\_version\\_\\_, np.show\\_config)"
      ]
    },
    {
      "cell_type": "code",
      "execution_count": null,
      "metadata": {
        "id": "tLOgZGwVA29k",
        "outputId": "65730610-a621-449c-a7c2-e7fc80d8240d",
        "colab": {
          "base_uri": "https://localhost:8080/"
        }
      },
      "outputs": [
        {
          "output_type": "execute_result",
          "data": {
            "text/plain": [
              "('1.21.6', <function numpy.__config__.show>)"
            ]
          },
          "metadata": {},
          "execution_count": 4
        }
      ],
      "source": [
        "np.__version__, np.show_config"
      ]
    },
    {
      "cell_type": "markdown",
      "metadata": {
        "id": "ti0fZcauA29k"
      },
      "source": [
        "#### 3. Create a null vector of size 10 (★☆☆) \n",
        "(**hint**: np.zeros)"
      ]
    },
    {
      "cell_type": "code",
      "execution_count": null,
      "metadata": {
        "id": "KOsUYFO3A29l"
      },
      "outputs": [],
      "source": [
        "X = np.zeros(10)"
      ]
    },
    {
      "cell_type": "markdown",
      "metadata": {
        "id": "Ltajh4VOA29l"
      },
      "source": [
        "#### 4.  How to find the memory size of any array (★☆☆) \n",
        "(**hint**: size, itemsize)"
      ]
    },
    {
      "cell_type": "code",
      "execution_count": null,
      "metadata": {
        "id": "8vrvH6pdA29n",
        "outputId": "77457d53-8aae-4548-bc61-6b8dd96f894b",
        "colab": {
          "base_uri": "https://localhost:8080/"
        }
      },
      "outputs": [
        {
          "output_type": "execute_result",
          "data": {
            "text/plain": [
              "(10, 8)"
            ]
          },
          "metadata": {},
          "execution_count": 6
        }
      ],
      "source": [
        "X.size, X.itemsize\n"
      ]
    },
    {
      "cell_type": "markdown",
      "metadata": {
        "id": "Pp2V4wHhA29n"
      },
      "source": [
        "#### 5.  How to get the documentation of the numpy add function from the command line? (★☆☆) \n",
        "(**hint**: np.info)"
      ]
    },
    {
      "cell_type": "code",
      "execution_count": null,
      "metadata": {
        "collapsed": true,
        "id": "AcxugOOnA29o",
        "outputId": "c142fe4e-3d66-4aab-cce0-707d5d2d49df",
        "colab": {
          "base_uri": "https://localhost:8080/"
        }
      },
      "outputs": [
        {
          "output_type": "stream",
          "name": "stdout",
          "text": [
            "add(x1, x2, /, out=None, *, where=True, casting='same_kind', order='K', dtype=None, subok=True[, signature, extobj])\n",
            "\n",
            "Add arguments element-wise.\n",
            "\n",
            "Parameters\n",
            "----------\n",
            "x1, x2 : array_like\n",
            "    The arrays to be added.\n",
            "    If ``x1.shape != x2.shape``, they must be broadcastable to a common\n",
            "    shape (which becomes the shape of the output).\n",
            "out : ndarray, None, or tuple of ndarray and None, optional\n",
            "    A location into which the result is stored. If provided, it must have\n",
            "    a shape that the inputs broadcast to. If not provided or None,\n",
            "    a freshly-allocated array is returned. A tuple (possible only as a\n",
            "    keyword argument) must have length equal to the number of outputs.\n",
            "where : array_like, optional\n",
            "    This condition is broadcast over the input. At locations where the\n",
            "    condition is True, the `out` array will be set to the ufunc result.\n",
            "    Elsewhere, the `out` array will retain its original value.\n",
            "    Note that if an uninitialized `out` array is created via the default\n",
            "    ``out=None``, locations within it where the condition is False will\n",
            "    remain uninitialized.\n",
            "**kwargs\n",
            "    For other keyword-only arguments, see the\n",
            "    :ref:`ufunc docs <ufuncs.kwargs>`.\n",
            "\n",
            "Returns\n",
            "-------\n",
            "add : ndarray or scalar\n",
            "    The sum of `x1` and `x2`, element-wise.\n",
            "    This is a scalar if both `x1` and `x2` are scalars.\n",
            "\n",
            "Notes\n",
            "-----\n",
            "Equivalent to `x1` + `x2` in terms of array broadcasting.\n",
            "\n",
            "Examples\n",
            "--------\n",
            ">>> np.add(1.0, 4.0)\n",
            "5.0\n",
            ">>> x1 = np.arange(9.0).reshape((3, 3))\n",
            ">>> x2 = np.arange(3.0)\n",
            ">>> np.add(x1, x2)\n",
            "array([[  0.,   2.,   4.],\n",
            "       [  3.,   5.,   7.],\n",
            "       [  6.,   8.,  10.]])\n",
            "\n",
            "The ``+`` operator can be used as a shorthand for ``np.add`` on ndarrays.\n",
            "\n",
            ">>> x1 = np.arange(9.0).reshape((3, 3))\n",
            ">>> x2 = np.arange(3.0)\n",
            ">>> x1 + x2\n",
            "array([[ 0.,  2.,  4.],\n",
            "       [ 3.,  5.,  7.],\n",
            "       [ 6.,  8., 10.]])\n"
          ]
        }
      ],
      "source": [
        "np.info(np.add)"
      ]
    },
    {
      "cell_type": "markdown",
      "metadata": {
        "id": "okoxdb0XA29o"
      },
      "source": [
        "#### 6.  Create a null vector of size 10 but the fifth value which is 1 (★☆☆) \n",
        "(**hint**: array\\[4\\])"
      ]
    },
    {
      "cell_type": "code",
      "execution_count": null,
      "metadata": {
        "id": "D7WF5QKPA29p",
        "outputId": "7bce6393-99d1-4226-a023-f08cbc35fa62",
        "colab": {
          "base_uri": "https://localhost:8080/"
        }
      },
      "outputs": [
        {
          "output_type": "stream",
          "name": "stdout",
          "text": [
            "[[0. 0. 0. 0. 0. 0. 0. 0. 0. 0.]\n",
            " [0. 0. 0. 0. 0. 0. 0. 0. 0. 0.]\n",
            " [0. 0. 0. 0. 0. 0. 0. 0. 0. 0.]\n",
            " [0. 0. 0. 0. 0. 0. 0. 0. 0. 0.]\n",
            " [1. 1. 1. 1. 1. 1. 1. 1. 1. 1.]\n",
            " [0. 0. 0. 0. 0. 0. 0. 0. 0. 0.]\n",
            " [0. 0. 0. 0. 0. 0. 0. 0. 0. 0.]\n",
            " [0. 0. 0. 0. 0. 0. 0. 0. 0. 0.]\n",
            " [0. 0. 0. 0. 0. 0. 0. 0. 0. 0.]\n",
            " [0. 0. 0. 0. 0. 0. 0. 0. 0. 0.]]\n"
          ]
        }
      ],
      "source": [
        "X = np.zeros((10,10))\n",
        "X[4] = 1\n",
        "print(X)\n"
      ]
    },
    {
      "cell_type": "markdown",
      "metadata": {
        "id": "9EtwZPEvA29p"
      },
      "source": [
        "#### 7.  Create a vector with values ranging from 10 to 49 (★☆☆) \n",
        "(**hint**: np.arange)"
      ]
    },
    {
      "cell_type": "code",
      "execution_count": null,
      "metadata": {
        "id": "_HodePiYA29q",
        "outputId": "fbe3efbd-ee47-4caa-83a9-eb5d551b21f5",
        "colab": {
          "base_uri": "https://localhost:8080/"
        }
      },
      "outputs": [
        {
          "output_type": "stream",
          "name": "stdout",
          "text": [
            "[10 11 12 13 14 15 16 17 18 19 20 21 22 23 24 25 26 27 28 29 30 31 32 33\n",
            " 34 35 36 37 38 39 40 41 42 43 44 45 46 47 48 49]\n"
          ]
        }
      ],
      "source": [
        "Y = np.arange(10,50)\n",
        "print(Y)"
      ]
    },
    {
      "cell_type": "markdown",
      "metadata": {
        "id": "FiCAhazsA29q"
      },
      "source": [
        "#### 8.  Reverse a vector (first element becomes last) (★☆☆) \n",
        "(**hint**: array\\[::-1\\])"
      ]
    },
    {
      "cell_type": "code",
      "execution_count": null,
      "metadata": {
        "id": "rj0ZR2N-A29r",
        "outputId": "d86c094e-9fba-4b69-9b1e-b8923c915e8a",
        "colab": {
          "base_uri": "https://localhost:8080/"
        }
      },
      "outputs": [
        {
          "output_type": "execute_result",
          "data": {
            "text/plain": [
              "array([49, 48, 47, 46, 45, 44, 43, 42, 41, 40, 39, 38, 37, 36, 35, 34, 33,\n",
              "       32, 31, 30, 29, 28, 27, 26, 25, 24, 23, 22, 21, 20, 19, 18, 17, 16,\n",
              "       15, 14, 13, 12, 11, 10])"
            ]
          },
          "metadata": {},
          "execution_count": 10
        }
      ],
      "source": [
        "Y[::-1]"
      ]
    },
    {
      "cell_type": "markdown",
      "metadata": {
        "id": "DmDbodW0A29r"
      },
      "source": [
        "#### 9.  Create a 3x3 matrix with values ranging from 0 to 8 (★☆☆) \n",
        "(**hint**: reshape)"
      ]
    },
    {
      "cell_type": "code",
      "execution_count": null,
      "metadata": {
        "id": "VDMJzXEtA29s",
        "outputId": "6b369891-2500-4c0e-c691-ad11a981865f",
        "colab": {
          "base_uri": "https://localhost:8080/"
        }
      },
      "outputs": [
        {
          "output_type": "stream",
          "name": "stdout",
          "text": [
            "[[0 1 2]\n",
            " [3 4 5]\n",
            " [6 7 8]]\n"
          ]
        }
      ],
      "source": [
        "Z = np.arange(0,9).reshape(3,3)\n",
        "print(Z)"
      ]
    },
    {
      "cell_type": "markdown",
      "metadata": {
        "id": "OPoUKYiIA29s"
      },
      "source": [
        "#### 10. Find indices of non-zero elements from \\[1,2,0,0,4,0\\] (★☆☆) \n",
        "(**hint**: np.nonzero)"
      ]
    },
    {
      "cell_type": "code",
      "execution_count": null,
      "metadata": {
        "id": "nrmdhSMCA29s",
        "outputId": "bf946f43-4ab5-42d5-a48a-8452119f2660",
        "colab": {
          "base_uri": "https://localhost:8080/"
        }
      },
      "outputs": [
        {
          "output_type": "execute_result",
          "data": {
            "text/plain": [
              "(array([0, 1, 4]),)"
            ]
          },
          "metadata": {},
          "execution_count": 12
        }
      ],
      "source": [
        "a = np.array([1,2,0,0,4,0])\n",
        "np.nonzero(a)"
      ]
    },
    {
      "cell_type": "markdown",
      "metadata": {
        "id": "KmjE5DljA29t"
      },
      "source": [
        "#### 11. Create a 3x3 identity matrix (★☆☆) \n",
        "(**hint**: np.eye)"
      ]
    },
    {
      "cell_type": "code",
      "execution_count": null,
      "metadata": {
        "id": "V5euNadTA29t",
        "outputId": "7a667b13-d78a-413c-be56-9a06fbd17f9b",
        "colab": {
          "base_uri": "https://localhost:8080/"
        }
      },
      "outputs": [
        {
          "output_type": "stream",
          "name": "stdout",
          "text": [
            "[[1. 0. 0.]\n",
            " [0. 1. 0.]\n",
            " [0. 0. 1.]]\n"
          ]
        }
      ],
      "source": [
        "b = np.eye(3,3)\n",
        "print(b)"
      ]
    },
    {
      "cell_type": "markdown",
      "metadata": {
        "id": "MGf9MTdZA29t"
      },
      "source": [
        "#### 12. Create a 3x3x3 array with random values (★☆☆) \n",
        "(**hint**: np.random.random)"
      ]
    },
    {
      "cell_type": "code",
      "execution_count": null,
      "metadata": {
        "collapsed": true,
        "id": "9CdP0ugiA29u",
        "outputId": "1190c279-45f6-4ef3-f4bc-1d10e93d87fb",
        "colab": {
          "base_uri": "https://localhost:8080/"
        }
      },
      "outputs": [
        {
          "output_type": "execute_result",
          "data": {
            "text/plain": [
              "array([[[0.77318858, 0.04620821, 0.89862135],\n",
              "        [0.90481081, 0.15991628, 0.02414419],\n",
              "        [0.33154169, 0.42644947, 0.28228337]],\n",
              "\n",
              "       [[0.26750322, 0.51070322, 0.64972353],\n",
              "        [0.87142025, 0.85355   , 0.07225382],\n",
              "        [0.53090264, 0.51880236, 0.33937377]],\n",
              "\n",
              "       [[0.05390493, 0.84046947, 0.62975751],\n",
              "        [0.27648198, 0.15705559, 0.20163468],\n",
              "        [0.11957426, 0.13736852, 0.51126528]]])"
            ]
          },
          "metadata": {},
          "execution_count": 14
        }
      ],
      "source": [
        "np.random.random((3,3,3))"
      ]
    },
    {
      "cell_type": "markdown",
      "metadata": {
        "id": "BA1S_VKtA29u"
      },
      "source": [
        "#### 13. Create a 10x10 array with random values and find the minimum and maximum values (★☆☆) \n",
        "(hint bold text: min, max)"
      ]
    },
    {
      "cell_type": "code",
      "execution_count": null,
      "metadata": {
        "id": "mTKrXo97A29u",
        "outputId": "f63ed728-3ce8-49cf-f7bc-991fd036302d",
        "colab": {
          "base_uri": "https://localhost:8080/"
        }
      },
      "outputs": [
        {
          "output_type": "stream",
          "name": "stdout",
          "text": [
            "0.00010152176602584717\n",
            "0.9981443263394325\n"
          ]
        }
      ],
      "source": [
        "\n",
        "X = np.random.random((10,10))\n",
        "print(np.min(X))\n",
        "print(np.max(X))"
      ]
    },
    {
      "cell_type": "markdown",
      "metadata": {
        "id": "rTrMo7blA29u"
      },
      "source": [
        "#### 14. Create a random vector of size 30 and find the mean value (★☆☆) \n",
        "(**hint**: mean)"
      ]
    },
    {
      "cell_type": "code",
      "execution_count": null,
      "metadata": {
        "id": "0KmA7lLnA29v",
        "colab": {
          "base_uri": "https://localhost:8080/"
        },
        "outputId": "ee828ce2-80a3-48e0-ae9d-a49a3f84841c"
      },
      "outputs": [
        {
          "output_type": "execute_result",
          "data": {
            "text/plain": [
              "0.5142906960404721"
            ]
          },
          "metadata": {},
          "execution_count": 17
        }
      ],
      "source": [
        "C = np.random.random(30)\n",
        "np.mean(C)"
      ]
    },
    {
      "cell_type": "markdown",
      "metadata": {
        "id": "fuyJUaseA29v"
      },
      "source": [
        "#### 15. Create a 2d array with 1 on the border and 0 inside (★☆☆) \n",
        "(**hint**: array\\[1:-1, 1:-1\\])"
      ]
    },
    {
      "cell_type": "code",
      "execution_count": null,
      "metadata": {
        "id": "pL2rEJbMA29v",
        "colab": {
          "base_uri": "https://localhost:8080/"
        },
        "outputId": "43ee1732-9f1f-496c-a090-07bcb4b00c4b"
      },
      "outputs": [
        {
          "output_type": "stream",
          "name": "stdout",
          "text": [
            "[[1. 1. 1. 1. 1.]\n",
            " [1. 0. 0. 0. 1.]\n",
            " [1. 0. 0. 0. 1.]\n",
            " [1. 0. 0. 0. 1.]\n",
            " [1. 1. 1. 1. 1.]]\n"
          ]
        }
      ],
      "source": [
        "D = np.ones((5,5))\n",
        "D[1:-1,1:-1] = 0\n",
        "print(D)"
      ]
    },
    {
      "cell_type": "markdown",
      "metadata": {
        "id": "8yF5GbF4A29v"
      },
      "source": [
        "#### 16. How to add a border (filled with 0's) around an existing array? (★☆☆) \n",
        "(**hint**: np.pad)"
      ]
    },
    {
      "cell_type": "code",
      "execution_count": null,
      "metadata": {
        "id": "DOjlyHEhA29w"
      },
      "outputs": [],
      "source": [
        "D = np.pad(D, pad_width=1, mode='constant', constant_values=0)"
      ]
    },
    {
      "cell_type": "markdown",
      "metadata": {
        "id": "v-aWqRvTA29w"
      },
      "source": [
        "#### 17. What is the result of the following expression? (★☆☆) \n",
        "(**hint**: NaN = not a number, inf = infinity)"
      ]
    },
    {
      "cell_type": "markdown",
      "metadata": {
        "id": "elMVE9B5A29w"
      },
      "source": [
        "```python\n",
        "0 * np.nan\n",
        "np.nan == np.nan\n",
        "np.inf > np.nan\n",
        "np.nan - np.nan\n",
        "0.3 == 3 * 0.1\n",
        "```"
      ]
    },
    {
      "cell_type": "code",
      "source": [
        "print(0 * np.nan)\n",
        "print(np.nan == np.nan)\n",
        "print(np.inf > np.nan)\n",
        "print(np.nan - np.nan)\n",
        "print(np.nan in set([np.nan]))\n",
        "print(0.3 == 3 * 0.1)"
      ],
      "metadata": {
        "id": "MIYQcUTv-mSJ",
        "colab": {
          "base_uri": "https://localhost:8080/"
        },
        "outputId": "1d4f2f94-4b0f-4d7b-cb04-d06526c9aba3"
      },
      "execution_count": null,
      "outputs": [
        {
          "output_type": "stream",
          "name": "stdout",
          "text": [
            "nan\n",
            "False\n",
            "False\n",
            "nan\n",
            "True\n",
            "False\n"
          ]
        }
      ]
    },
    {
      "cell_type": "markdown",
      "metadata": {
        "id": "XXq8Z2TLA29x"
      },
      "source": [
        "#### 18. Create a 5x5 matrix with values 1,2,3,4 just below the diagonal (★☆☆) \n",
        "(**hint**: np.diag)"
      ]
    },
    {
      "cell_type": "code",
      "execution_count": null,
      "metadata": {
        "id": "c9vjvQYnA29x",
        "colab": {
          "base_uri": "https://localhost:8080/"
        },
        "outputId": "e96c2d30-492d-4aed-fdf6-013cbef0a990"
      },
      "outputs": [
        {
          "output_type": "stream",
          "name": "stdout",
          "text": [
            "[[0 0 0 0 0]\n",
            " [1 0 0 0 0]\n",
            " [0 2 0 0 0]\n",
            " [0 0 3 0 0]\n",
            " [0 0 0 4 0]]\n"
          ]
        }
      ],
      "source": [
        "d = np.diag(1+np.arange(4),k=-1)\n",
        "print(d)"
      ]
    },
    {
      "cell_type": "markdown",
      "metadata": {
        "id": "ZGwZPlLlA29y"
      },
      "source": [
        "#### 19. Create a 8x8 matrix and fill it with a checkerboard pattern (★☆☆) \n",
        "(**hint**: array\\[::2\\])"
      ]
    },
    {
      "cell_type": "code",
      "execution_count": null,
      "metadata": {
        "id": "j-LMdIw6A29y",
        "colab": {
          "base_uri": "https://localhost:8080/"
        },
        "outputId": "4c149762-9e65-46d5-d469-4e99c408810b"
      },
      "outputs": [
        {
          "output_type": "stream",
          "name": "stdout",
          "text": [
            "[[0. 1. 0. 1. 0. 1. 0. 1.]\n",
            " [1. 0. 1. 0. 1. 0. 1. 0.]\n",
            " [0. 1. 0. 1. 0. 1. 0. 1.]\n",
            " [1. 0. 1. 0. 1. 0. 1. 0.]\n",
            " [0. 1. 0. 1. 0. 1. 0. 1.]\n",
            " [1. 0. 1. 0. 1. 0. 1. 0.]\n",
            " [0. 1. 0. 1. 0. 1. 0. 1.]\n",
            " [1. 0. 1. 0. 1. 0. 1. 0.]]\n"
          ]
        }
      ],
      "source": [
        "F = np.ones((3,3))\n",
        "F = np.zeros((8,8))\n",
        "F[1::2,::2] = 1\n",
        "F[::2,1::2] = 1\n",
        "print(F)"
      ]
    },
    {
      "cell_type": "markdown",
      "metadata": {
        "id": "wyENbQdWA29y"
      },
      "source": [
        "#### 20. Consider a (6,7,8) shape array, what is the index (x,y,z) of the 100th element? \n",
        "(**hint**: np.unravel_index)"
      ]
    },
    {
      "cell_type": "code",
      "execution_count": null,
      "metadata": {
        "id": "0oaiJNsuA29y",
        "colab": {
          "base_uri": "https://localhost:8080/"
        },
        "outputId": "be2ce4a2-a47a-43e9-db80-e9b694b09f45"
      },
      "outputs": [
        {
          "output_type": "execute_result",
          "data": {
            "text/plain": [
              "(1, 5, 4)"
            ]
          },
          "metadata": {},
          "execution_count": 10
        }
      ],
      "source": [
        "np.unravel_index(100, (6,7,8)) "
      ]
    },
    {
      "cell_type": "markdown",
      "metadata": {
        "id": "DBjVAEFbA29z"
      },
      "source": [
        "#### 21. Create a checkerboard 8x8 matrix using the tile function (★☆☆) \n",
        "(**hint**: np.tile)"
      ]
    },
    {
      "cell_type": "code",
      "execution_count": null,
      "metadata": {
        "id": "JrADsGKtA29z",
        "colab": {
          "base_uri": "https://localhost:8080/"
        },
        "outputId": "01de220f-63f7-43a8-9968-40a2d61e41c7"
      },
      "outputs": [
        {
          "output_type": "execute_result",
          "data": {
            "text/plain": [
              "array([[0, 1, 0, 1, 0, 1, 0, 1],\n",
              "       [1, 0, 1, 0, 1, 0, 1, 0],\n",
              "       [0, 1, 0, 1, 0, 1, 0, 1],\n",
              "       [1, 0, 1, 0, 1, 0, 1, 0],\n",
              "       [0, 1, 0, 1, 0, 1, 0, 1],\n",
              "       [1, 0, 1, 0, 1, 0, 1, 0],\n",
              "       [0, 1, 0, 1, 0, 1, 0, 1],\n",
              "       [1, 0, 1, 0, 1, 0, 1, 0]])"
            ]
          },
          "metadata": {},
          "execution_count": 11
        }
      ],
      "source": [
        "np.tile([ [0, 1], [1, 0] ], (4, 4))"
      ]
    },
    {
      "cell_type": "markdown",
      "metadata": {
        "id": "_OHBVjEqA29z"
      },
      "source": [
        "#### 22. Normalize a 5x5 random matrix (★☆☆) \n",
        "(**hint**: (x - min) / (max - min))"
      ]
    },
    {
      "cell_type": "code",
      "execution_count": null,
      "metadata": {
        "id": "OzkJXwY6A29z",
        "colab": {
          "base_uri": "https://localhost:8080/"
        },
        "outputId": "0c10e7a3-2da4-449b-df6d-310216f7dc1d"
      },
      "outputs": [
        {
          "output_type": "stream",
          "name": "stdout",
          "text": [
            "[[0.992099   0.56235056 0.9226521  0.50175389 0.0062762 ]\n",
            " [0.20124844 0.6953238  0.25264601 0.1623667  0.45642883]\n",
            " [0.99005857 0.81094805 0.84612031 0.06755639 0.69168756]\n",
            " [0.75218597 0.4753126  0.02795011 0.01335278 0.45167367]\n",
            " [0.490855   0.76099622 0.38217555 0.21227655 0.9592411 ]]\n",
            "[[1.         0.56407131 0.92955438 0.5026032  0.        ]\n",
            " [0.19777615 0.69895685 0.24991287 0.15833525 0.45662632]\n",
            " [0.99793022 0.8162439  0.85192198 0.06216147 0.69526832]\n",
            " [0.75663676 0.47578165 0.0219856  0.00717834 0.45180277]\n",
            " [0.49154757 0.76557371 0.38130519 0.20896286 0.96666956]]\n"
          ]
        }
      ],
      "source": [
        "x = np.random.random((5, 5))\n",
        "print(x)\n",
        "x_max, x_min = x.max(), x.min()\n",
        "x_normalized = (x - x_min) / (x_max - x_min)\n",
        "print(x_normalized)"
      ]
    },
    {
      "cell_type": "markdown",
      "metadata": {
        "id": "fJVdnzo6A290"
      },
      "source": [
        "#### 23. Create a custom dtype that describes a color as four unsigned bytes (RGBA) (★☆☆) \n",
        "(**hint**: np.dtype)"
      ]
    },
    {
      "cell_type": "code",
      "execution_count": null,
      "metadata": {
        "collapsed": true,
        "id": "YQMHZdg7A290",
        "colab": {
          "base_uri": "https://localhost:8080/"
        },
        "outputId": "6dcd6021-35e8-4ad1-8cc2-ca5dae5b65f4"
      },
      "outputs": [
        {
          "output_type": "execute_result",
          "data": {
            "text/plain": [
              "dtype([('r', 'u1', (1,)), ('g', 'u1', (1,)), ('b', 'u1', (1,)), ('a', 'u1', (1,))])"
            ]
          },
          "metadata": {},
          "execution_count": 13
        }
      ],
      "source": [
        "color = np.dtype([\n",
        "                  (\"r\", np.ubyte, (1,)), \n",
        "                  (\"g\", np.ubyte, (1,)),\n",
        "                  (\"b\", np.ubyte, (1,)),\n",
        "                  (\"a\", np.ubyte, (1,)) \n",
        "])\n",
        "\n",
        "color"
      ]
    },
    {
      "cell_type": "markdown",
      "metadata": {
        "id": "afi14h9AA290"
      },
      "source": [
        "#### 24. Multiply a 5x3 matrix by a 3x2 matrix (real matrix product) (★☆☆) \n",
        "(**hint**: np.dot | @)"
      ]
    },
    {
      "cell_type": "code",
      "execution_count": null,
      "metadata": {
        "id": "n4-fHfJRA290",
        "colab": {
          "base_uri": "https://localhost:8080/"
        },
        "outputId": "8dbbf268-4164-4c10-b35d-4c2b5b6720ae"
      },
      "outputs": [
        {
          "output_type": "stream",
          "name": "stdout",
          "text": [
            "[[1 2]\n",
            " [3 4]\n",
            " [5 6]]\n",
            "matrix_product:\n",
            " [[157 208]\n",
            " [184 244]\n",
            " [211 280]\n",
            " [238 316]\n",
            " [265 352]]\n",
            "[[3. 3.]\n",
            " [3. 3.]\n",
            " [3. 3.]\n",
            " [3. 3.]\n",
            " [3. 3.]]\n",
            "[[3. 3.]\n",
            " [3. 3.]\n",
            " [3. 3.]\n",
            " [3. 3.]\n",
            " [3. 3.]]\n"
          ]
        }
      ],
      "source": [
        "five_by_three = 1 + np.arange(15, 30).reshape(5, 3)\n",
        "three_by_two= 1 + np.arange(6).reshape(3, 2)\n",
        "print(three_by_two)\n",
        "matrix_product = five_by_three @ three_by_two \n",
        "print(f\"matrix_product:\\n {matrix_product}\")\n",
        "m24 = np.dot(np.ones((5,3)), np.ones((3,2)))\n",
        "print(m24)\n",
        "m24_ = np.ones((5,3)) @ np.ones((3,2))\n",
        "print(m24_)"
      ]
    },
    {
      "cell_type": "markdown",
      "metadata": {
        "id": "nElt-kkdA290"
      },
      "source": [
        "#### 25. Given a 1D array, negate all elements which are between 3 and 8, in place. (★☆☆) \n",
        "(**hint**: >, <=)"
      ]
    },
    {
      "cell_type": "code",
      "execution_count": null,
      "metadata": {
        "id": "KGP0TqNCA291",
        "colab": {
          "base_uri": "https://localhost:8080/"
        },
        "outputId": "10813312-abe7-4d9d-fe5d-89a1511d5e0a"
      },
      "outputs": [
        {
          "output_type": "stream",
          "name": "stdout",
          "text": [
            "[ 1  2  3  4  5  6  7  8  9 10]\n",
            "[ 1  2  3 -4 -5 -6 -7 -8  9 10]\n"
          ]
        }
      ],
      "source": [
        "x = 1 + np.arange(10)\n",
        "print(x)\n",
        "x[(3 < x ) & (x <= 8)] *= -1\n",
        "print(x)"
      ]
    },
    {
      "cell_type": "markdown",
      "metadata": {
        "id": "04vpnUNpA291"
      },
      "source": [
        "#### 26. What is the output of the following script? (★☆☆) \n",
        "(**hint**: np.sum)"
      ]
    },
    {
      "cell_type": "markdown",
      "metadata": {
        "id": "Wko_8SmRA291"
      },
      "source": [
        "```python\n",
        "# Author: Jake VanderPlas\n",
        "\n",
        "print(sum(range(5),-1))\n",
        "from numpy import *\n",
        "print(sum(range(5),-1))\n",
        "```"
      ]
    },
    {
      "cell_type": "code",
      "execution_count": null,
      "metadata": {
        "id": "5qHCQoCEA291",
        "colab": {
          "base_uri": "https://localhost:8080/"
        },
        "outputId": "09e03f7c-712a-43f5-d667-37c62fb13aef"
      },
      "outputs": [
        {
          "output_type": "stream",
          "name": "stdout",
          "text": [
            "10\n",
            "10\n"
          ]
        }
      ],
      "source": [
        "print(sum(range(5), -1))\n",
        "from numpy import *\n",
        "print(sum(range(5), -1))"
      ]
    },
    {
      "cell_type": "markdown",
      "metadata": {
        "id": "Pd-bYJHuA292"
      },
      "source": [
        "#### 27. Consider an integer vector Z, which of these expressions are legal? (★☆☆)"
      ]
    },
    {
      "cell_type": "markdown",
      "metadata": {
        "id": "B6IBYyXVA292"
      },
      "source": [
        "```python\n",
        "Z**Z\n",
        "2 << Z >> 2\n",
        "Z <- Z\n",
        "1j*Z\n",
        "Z/1/1\n",
        "Z<Z>Z\n",
        "```"
      ]
    },
    {
      "cell_type": "code",
      "execution_count": null,
      "metadata": {
        "id": "xYtwIEAUA292",
        "colab": {
          "base_uri": "https://localhost:8080/"
        },
        "outputId": "8544d61c-b6c3-4f2c-99d9-05fdb7e800cb"
      },
      "outputs": [
        {
          "output_type": "execute_result",
          "data": {
            "text/plain": [
              "array([1., 1., 1.])"
            ]
          },
          "metadata": {},
          "execution_count": 16
        }
      ],
      "source": [
        "z = np.ones(3, dtype=int)\n",
        "z**z\n",
        "#2 << Z >> 2\n",
        "z < -z\n",
        "1j*z\n",
        "z/1/1"
      ]
    },
    {
      "cell_type": "markdown",
      "metadata": {
        "id": "GUL_WQhXA292"
      },
      "source": [
        "#### 28. What are the result of the following expressions?"
      ]
    },
    {
      "cell_type": "markdown",
      "metadata": {
        "id": "WQmMJtneA292"
      },
      "source": [
        "```python\n",
        "np.array(0) / np.array(0)\n",
        "np.array(0) // np.array(0)\n",
        "np.array([np.nan]).astype(int).astype(float)\n",
        "```"
      ]
    },
    {
      "cell_type": "code",
      "execution_count": null,
      "metadata": {
        "id": "0ww9yA6gA293",
        "colab": {
          "base_uri": "https://localhost:8080/"
        },
        "outputId": "577938b0-b874-4852-85ee-18644b081e0e"
      },
      "outputs": [
        {
          "output_type": "stream",
          "name": "stdout",
          "text": [
            "[-9.22337204e+18]\n"
          ]
        }
      ],
      "source": [
        "print(np.array([np.nan]).astype(int).astype(float))"
      ]
    },
    {
      "cell_type": "markdown",
      "metadata": {
        "id": "HDOy9jocA293"
      },
      "source": [
        "#### 29. How to round away from zero a float array ? (★☆☆) \n",
        "(**hint**: np.uniform, np.copysign, np.ceil, np.abs)"
      ]
    },
    {
      "cell_type": "code",
      "execution_count": null,
      "metadata": {
        "id": "Jcjb3JlbA293",
        "colab": {
          "base_uri": "https://localhost:8080/"
        },
        "outputId": "6b7d5901-48ec-4b4f-af8e-e71fddbbdc32"
      },
      "outputs": [
        {
          "output_type": "stream",
          "name": "stdout",
          "text": [
            "[-5.5  2.3  1.4 -3.2 -5.3]\n",
            "[5.5 2.3 1.4 3.2 5.3]\n",
            "[5. 2. 1. 3. 5.]\n",
            "[-5.  2.  1. -3. -5.]\n"
          ]
        }
      ],
      "source": [
        "z = np.array([-5.5,2.3,1.4,-3.2,-5.3])\n",
        "print(z)\n",
        "#zz=np.copysign(np.ceil(np.abs(z)),z)\n",
        "#print(zz)\n",
        "z1=np.abs(z)\n",
        "print(z1)\n",
        "z2=np.floor(z1)\n",
        "print(z2)\n",
        "z3=np.copysign(z2,z)\n",
        "print(z3)"
      ]
    },
    {
      "cell_type": "markdown",
      "metadata": {
        "id": "0qHgMjfQA293"
      },
      "source": [
        "#### 30. How to find common values between two arrays? (★☆☆) \n",
        "(**hint**: np.intersect1d)"
      ]
    },
    {
      "cell_type": "code",
      "execution_count": null,
      "metadata": {
        "id": "GgzseFJ9A293",
        "colab": {
          "base_uri": "https://localhost:8080/"
        },
        "outputId": "cd758a7d-07e9-4578-cb79-af9289331e05"
      },
      "outputs": [
        {
          "output_type": "stream",
          "name": "stdout",
          "text": [
            "[5 9 7 0 8 6 0 5 0 5]\n",
            "[5 6 7 8 9]\n"
          ]
        }
      ],
      "source": [
        "Z1 = np.random.randint(0,10,10)\n",
        "print(Z1)\n",
        "Z2 = np.random.randint(0,10,10)\n",
        "print(np.intersect1d(Z1,Z2))"
      ]
    },
    {
      "cell_type": "markdown",
      "metadata": {
        "id": "BFkzSCqGA294"
      },
      "source": [
        "#### 31. How to ignore all numpy warnings (not recommended)? (★☆☆) \n",
        "(**hint**: np.seterr, np.errstate)"
      ]
    },
    {
      "cell_type": "code",
      "execution_count": null,
      "metadata": {
        "id": "BX8QgrhZA294",
        "colab": {
          "base_uri": "https://localhost:8080/"
        },
        "outputId": "b4d25b9d-ebb0-4898-f5c3-b5fcd29bbb32"
      },
      "outputs": [
        {
          "output_type": "stream",
          "name": "stderr",
          "text": [
            "/usr/local/lib/python3.7/dist-packages/ipykernel_launcher.py:10: RuntimeWarning: divide by zero encountered in true_divide\n",
            "  # Remove the CWD from sys.path while we load stuff.\n"
          ]
        }
      ],
      "source": [
        "defaults = np.seterr(all=\"ignore\")\n",
        "Z = np.ones(1) / 0\n",
        "\n",
        "_ = np.seterr(**defaults)\n",
        "\n",
        "with np.errstate(all=\"ignore\"):\n",
        "    np.arange(3) / 0\n",
        "    \n",
        "_ = np.seterr(**defaults)\n",
        "Z = np.ones(1) / 0"
      ]
    },
    {
      "cell_type": "markdown",
      "metadata": {
        "id": "7naODolOA294"
      },
      "source": [
        "#### 32. Is the following expressions true? (★☆☆) \n",
        "(**hint**: imaginary number)"
      ]
    },
    {
      "cell_type": "markdown",
      "metadata": {
        "id": "KL-WmCXIA294"
      },
      "source": [
        "```python\n",
        "np.sqrt(-1) == np.emath.sqrt(-1)\n",
        "```"
      ]
    },
    {
      "cell_type": "code",
      "execution_count": null,
      "metadata": {
        "id": "T6kckMceA295",
        "colab": {
          "base_uri": "https://localhost:8080/"
        },
        "outputId": "a220f796-3fab-4fdb-f7f5-72cbb224da48"
      },
      "outputs": [
        {
          "output_type": "stream",
          "name": "stderr",
          "text": [
            "/usr/local/lib/python3.7/dist-packages/ipykernel_launcher.py:1: RuntimeWarning: invalid value encountered in sqrt\n",
            "  \"\"\"Entry point for launching an IPython kernel.\n"
          ]
        },
        {
          "output_type": "execute_result",
          "data": {
            "text/plain": [
              "False"
            ]
          },
          "metadata": {},
          "execution_count": 22
        }
      ],
      "source": [
        "np.sqrt(-1) == np.emath.sqrt(-1)"
      ]
    },
    {
      "cell_type": "markdown",
      "metadata": {
        "id": "R3Yb51j5A295"
      },
      "source": [
        "#### 33. How to get the dates of yesterday, today and tomorrow? (★☆☆) \n",
        "(**hint**: np.datetime64, np.timedelta64)"
      ]
    },
    {
      "cell_type": "code",
      "execution_count": null,
      "metadata": {
        "collapsed": true,
        "id": "ZwcK0XB3A295",
        "colab": {
          "base_uri": "https://localhost:8080/"
        },
        "outputId": "3aa915fe-868e-4000-b88d-97f6d43c1f8d"
      },
      "outputs": [
        {
          "output_type": "stream",
          "name": "stdout",
          "text": [
            "2022-07-03\n",
            "2022-07-02\n",
            "2022-07-04\n"
          ]
        }
      ],
      "source": [
        "print(np.datetime64('today'))\n",
        "print(np.datetime64('today') - np.timedelta64(1))\n",
        "print(np.datetime64('today') + np.timedelta64(1))"
      ]
    },
    {
      "cell_type": "markdown",
      "metadata": {
        "id": "JWZaUlgWA295"
      },
      "source": [
        "#### 34. How to get all the dates corresponding to the month of July 2016? (★★☆) \n",
        "(**hint**: np.arange(dtype=datetime64\\['D'\\]))"
      ]
    },
    {
      "cell_type": "code",
      "execution_count": null,
      "metadata": {
        "id": "AsbPF3m8A295",
        "colab": {
          "base_uri": "https://localhost:8080/"
        },
        "outputId": "f50a9558-b995-4a2a-8d05-9356ea18aa5c"
      },
      "outputs": [
        {
          "output_type": "stream",
          "name": "stdout",
          "text": [
            "['2016-07-01' '2016-07-02' '2016-07-03' '2016-07-04' '2016-07-05'\n",
            " '2016-07-06' '2016-07-07' '2016-07-08' '2016-07-09' '2016-07-10'\n",
            " '2016-07-11' '2016-07-12' '2016-07-13' '2016-07-14' '2016-07-15'\n",
            " '2016-07-16' '2016-07-17' '2016-07-18' '2016-07-19' '2016-07-20'\n",
            " '2016-07-21' '2016-07-22' '2016-07-23' '2016-07-24' '2016-07-25'\n",
            " '2016-07-26' '2016-07-27' '2016-07-28' '2016-07-29' '2016-07-30'\n",
            " '2016-07-31']\n"
          ]
        }
      ],
      "source": [
        "x = np.arange('2016-07', '2016-08', dtype='datetime64[D]')\n",
        "print(x)"
      ]
    },
    {
      "cell_type": "markdown",
      "metadata": {
        "id": "_6VcwF54A296"
      },
      "source": [
        "#### 35. How to compute ((A+B)\\*(-A/2)) in place (without copy)? (★★☆) \n",
        "(**hint**: np.add(out=), np.negative(out=), np.multiply(out=), np.divide(out=))"
      ]
    },
    {
      "cell_type": "code",
      "execution_count": null,
      "metadata": {
        "id": "viZwdd5UA296",
        "colab": {
          "base_uri": "https://localhost:8080/"
        },
        "outputId": "5649075e-c2d1-42f4-a51c-f9f75e335f8c"
      },
      "outputs": [
        {
          "output_type": "stream",
          "name": "stdout",
          "text": [
            "50.0\n",
            "50.0\n"
          ]
        }
      ],
      "source": [
        "A = -10\n",
        "B = 20\n",
        "z = ((A+B)*(-A/2))\n",
        "print(z)\n",
        "\n",
        "B = np.add(A,B)\n",
        "A = np.divide(A,2)\n",
        "A = np.negative(A)\n",
        "A = np.multiply(A,B)\n",
        "print(A)"
      ]
    },
    {
      "cell_type": "markdown",
      "metadata": {
        "id": "172AYxWoA296"
      },
      "source": [
        "#### 36. Extract the integer part of a random array using 5 different methods (★★☆) \n",
        "(**hint**: %, np.floor, np.ceil, astype, np.trunc)"
      ]
    },
    {
      "cell_type": "code",
      "execution_count": null,
      "metadata": {
        "id": "YqWvox88A296",
        "colab": {
          "base_uri": "https://localhost:8080/"
        },
        "outputId": "95cf4ff0-95b8-43aa-f01f-57269e5b4043"
      },
      "outputs": [
        {
          "output_type": "stream",
          "name": "stdout",
          "text": [
            "[8.57706166 3.89978869 5.05222557 4.71996448 1.23448243]\n",
            "[8. 3. 5. 4. 1.]\n",
            "[8 3 5 4 1]\n",
            "[8. 3. 5. 4. 1.]\n",
            "[8. 3. 5. 4. 1.]\n"
          ]
        }
      ],
      "source": [
        "z = np.random.uniform(0,10,5)\n",
        "print(z)\n",
        "print(z-z%1)\n",
        "print(z.astype(int))\n",
        "print(z//1)\n",
        "print(np.floor(z))"
      ]
    },
    {
      "cell_type": "markdown",
      "metadata": {
        "id": "n_t0JW_2A296"
      },
      "source": [
        "#### 37. Create a 5x5 matrix with row values ranging from 0 to 4 (★★☆) \n",
        "(**hint**: np.arange)"
      ]
    },
    {
      "cell_type": "code",
      "execution_count": null,
      "metadata": {
        "id": "aF7zJPPzA297",
        "colab": {
          "base_uri": "https://localhost:8080/"
        },
        "outputId": "757098df-ed29-4b62-9956-977e380817b6"
      },
      "outputs": [
        {
          "output_type": "stream",
          "name": "stdout",
          "text": [
            "[[0 3 0 2 2]\n",
            " [0 0 0 1 0]\n",
            " [0 3 3 1 1]\n",
            " [1 2 3 3 2]\n",
            " [2 2 1 1 1]]\n"
          ]
        }
      ],
      "source": [
        "Z = np.random.randint(0,4,25).reshape(5,5)\n",
        "print(Z)"
      ]
    },
    {
      "cell_type": "markdown",
      "metadata": {
        "id": "3kmlpSuzA297"
      },
      "source": [
        "#### 38. Consider a generator function that generates 10 integers and use it to build an array (★☆☆) \n",
        "(**hint**: np.fromiter)"
      ]
    },
    {
      "cell_type": "code",
      "execution_count": null,
      "metadata": {
        "id": "etD0nhHyA299",
        "colab": {
          "base_uri": "https://localhost:8080/"
        },
        "outputId": "15fac479-3ce8-47c7-9567-4a5670149f64"
      },
      "outputs": [
        {
          "output_type": "stream",
          "name": "stdout",
          "text": [
            "[0. 1. 2. 3. 4. 5. 6. 7. 8. 9.]\n",
            "[35. 14. 38.  4. 15. 22. 13.  4.  0. 47.]\n"
          ]
        }
      ],
      "source": [
        "def generate():\n",
        "    for x in range(10):\n",
        "        yield x\n",
        "Z = np.fromiter(generate(),dtype=float,count=-1)\n",
        "print(Z)\n",
        "\n",
        "def generate1():\n",
        "    return np.random.randint(0,50,10)\n",
        "z = np.array(generate1(), dtype=np.float64)\n",
        "    \n",
        "print(z)"
      ]
    },
    {
      "cell_type": "markdown",
      "metadata": {
        "id": "sg1oAG9qA299"
      },
      "source": [
        "#### 39. Create a vector of size 10 with values ranging from 0 to 1, both excluded (★★☆) \n",
        "(**hint**: np.linspace)"
      ]
    },
    {
      "cell_type": "code",
      "execution_count": null,
      "metadata": {
        "id": "kpIpfAIWA299",
        "colab": {
          "base_uri": "https://localhost:8080/"
        },
        "outputId": "d0747f30-be58-4376-e225-0b0bbb8f6ee5"
      },
      "outputs": [
        {
          "output_type": "stream",
          "name": "stdout",
          "text": [
            "[0.09090909 0.18181818 0.27272727 0.36363636 0.45454545 0.54545455\n",
            " 0.63636364 0.72727273 0.81818182 0.90909091]\n",
            "[0.89087118 0.13215887 0.94972404 0.43724971 0.11485856 0.13785273\n",
            " 0.18528011 0.91929713 0.91131712 0.45361114]\n"
          ]
        }
      ],
      "source": [
        "Z = np.linspace(0,1,11,endpoint=False)[1:]\n",
        "print(Z)\n",
        "\n",
        "z = np.random.rand(10)\n",
        "print(z)"
      ]
    },
    {
      "cell_type": "markdown",
      "metadata": {
        "id": "abhoVZXkA29-"
      },
      "source": [
        "#### 40. Create a random vector of size 10 and sort it (★★☆) \n",
        "(**hint**: sort)"
      ]
    },
    {
      "cell_type": "code",
      "execution_count": null,
      "metadata": {
        "id": "aTt06xTkA29-",
        "colab": {
          "base_uri": "https://localhost:8080/"
        },
        "outputId": "8df54f44-fea6-482b-87fd-7d1e7992d27a"
      },
      "outputs": [
        {
          "output_type": "stream",
          "name": "stdout",
          "text": [
            "[44 48 22 42 16 45 49 38 20 48]\n",
            "[16 20 22 38 42 44 45 48 48 49]\n"
          ]
        }
      ],
      "source": [
        "z = np.random.uniform(10,50,10)\n",
        "print(z.astype(int))\n",
        "z.sort()\n",
        "print(z.astype(int))"
      ]
    },
    {
      "cell_type": "markdown",
      "metadata": {
        "id": "ZcGqlx9AA29-"
      },
      "source": [
        "#### 41. How to sum a small array faster than np.sum? (★★☆) \n",
        "(**hint**: np.add.reduce)"
      ]
    },
    {
      "cell_type": "code",
      "execution_count": null,
      "metadata": {
        "id": "iUv_KhSkA29-",
        "colab": {
          "base_uri": "https://localhost:8080/"
        },
        "outputId": "1c4cf8b2-2945-4c1f-aa25-0a44e38d7029"
      },
      "outputs": [
        {
          "output_type": "execute_result",
          "data": {
            "text/plain": [
              "45"
            ]
          },
          "metadata": {},
          "execution_count": 7
        }
      ],
      "source": [
        "z = np.arange(10)\n",
        "np.add.reduce(z)"
      ]
    },
    {
      "cell_type": "markdown",
      "metadata": {
        "id": "XrSOZKmOA29_"
      },
      "source": [
        "#### 42. Consider two random array A and B, check if they are equal (★★☆) \n",
        "(**hint**: np.allclose, np.array\\_equal)"
      ]
    },
    {
      "cell_type": "code",
      "execution_count": null,
      "metadata": {
        "id": "ls7WEdaSA29_",
        "colab": {
          "base_uri": "https://localhost:8080/"
        },
        "outputId": "b69f6ece-b90e-4044-8073-124bd19a1116"
      },
      "outputs": [
        {
          "output_type": "stream",
          "name": "stdout",
          "text": [
            "True\n"
          ]
        }
      ],
      "source": [
        "A = np.array([5,2,4,6,4,5,5])\n",
        "B = np.array([5,2,4,6,4,5,5])\n",
        "\n",
        "eql = np.array_equal(A,B)\n",
        "print(eql)"
      ]
    },
    {
      "cell_type": "markdown",
      "metadata": {
        "id": "G5Tavs-1A29_"
      },
      "source": [
        "#### 43. Make an array immutable (read-only) (★★☆) \n",
        "(**hint**: flags.writeable)"
      ]
    },
    {
      "cell_type": "code",
      "execution_count": null,
      "metadata": {
        "id": "QHscY7CrA29_"
      },
      "outputs": [],
      "source": [
        "Z = np.zeros(10)\n",
        "Z.flags.writeable = False"
      ]
    },
    {
      "cell_type": "markdown",
      "metadata": {
        "id": "vCofBoujA2-A"
      },
      "source": [
        "#### 44. Consider a random 10x2 matrix representing cartesian coordinates, convert them to polar coordinates (★★☆) \n",
        "(**hint**: np.sqrt, np.arctan2)"
      ]
    },
    {
      "cell_type": "code",
      "execution_count": null,
      "metadata": {
        "id": "30WZSwJzA2-A",
        "colab": {
          "base_uri": "https://localhost:8080/"
        },
        "outputId": "953c7303-7715-43d8-b326-62c603548299"
      },
      "outputs": [
        {
          "output_type": "stream",
          "name": "stdout",
          "text": [
            "[1.09572706 0.90882785 1.09733329 0.77458514 0.84425412 0.89456939\n",
            " 0.35823425 0.99915976 0.6872985  0.92772855]\n",
            "[0.49702335 1.40060461 0.65943073 0.32207403 0.19294045 1.02305761\n",
            " 0.12832294 1.10785947 1.40209222 1.04037613]\n"
          ]
        }
      ],
      "source": [
        "z= np.random.random((10,2))\n",
        "x,y = z[:,0], z[:,1]\n",
        "r = np.sqrt(x**2+y**2)\n",
        "t = np.arctan2(y,x)\n",
        "print(r)\n",
        "print(t)"
      ]
    },
    {
      "cell_type": "markdown",
      "metadata": {
        "id": "60_vdi57A2-A"
      },
      "source": [
        "#### 45. Create random vector of size 10 and replace the maximum value by 0 (★★☆) \n",
        "(**hint**: argmax)"
      ]
    },
    {
      "cell_type": "code",
      "execution_count": null,
      "metadata": {
        "id": "97w3M0NEA2-A",
        "colab": {
          "base_uri": "https://localhost:8080/"
        },
        "outputId": "3ddbae39-f4a2-49c8-9757-68a5d71d2d6c"
      },
      "outputs": [
        {
          "output_type": "stream",
          "name": "stdout",
          "text": [
            "[0.58061053 0.06990007 0.72727265 0.         0.22542065 0.99022959\n",
            " 0.86693255 0.37473912 0.57506589 0.49271517]\n"
          ]
        }
      ],
      "source": [
        "Z = np.random.random(10)\n",
        "Z[Z.argmax()] = 0\n",
        "print(Z)"
      ]
    },
    {
      "cell_type": "markdown",
      "metadata": {
        "id": "O-6-3uHWA2-A"
      },
      "source": [
        "#### 46. Create a structured array with `x` and `y` coordinates covering the \\[0,1\\]x\\[0,1\\] area (★★☆) \n",
        "(**hint**: np.meshgrid)"
      ]
    },
    {
      "cell_type": "code",
      "execution_count": null,
      "metadata": {
        "id": "ms9RT3MRA2-B",
        "colab": {
          "base_uri": "https://localhost:8080/"
        },
        "outputId": "46a0cbce-6a0d-48d0-b22e-52b44a48ce15"
      },
      "outputs": [
        {
          "output_type": "stream",
          "name": "stdout",
          "text": [
            "[[(0.  , 0.  ) (0.25, 0.  ) (0.5 , 0.  ) (0.75, 0.  ) (1.  , 0.  )]\n",
            " [(0.  , 0.25) (0.25, 0.25) (0.5 , 0.25) (0.75, 0.25) (1.  , 0.25)]\n",
            " [(0.  , 0.5 ) (0.25, 0.5 ) (0.5 , 0.5 ) (0.75, 0.5 ) (1.  , 0.5 )]\n",
            " [(0.  , 0.75) (0.25, 0.75) (0.5 , 0.75) (0.75, 0.75) (1.  , 0.75)]\n",
            " [(0.  , 1.  ) (0.25, 1.  ) (0.5 , 1.  ) (0.75, 1.  ) (1.  , 1.  )]]\n"
          ]
        }
      ],
      "source": [
        "Z = np.zeros((5,5), [('x',float),('y',float)])\n",
        "Z['x'], Z['y'] = np.meshgrid(np.linspace(0,1,5),\n",
        "                             np.linspace(0,1,5))\n",
        "print(Z)"
      ]
    },
    {
      "cell_type": "markdown",
      "metadata": {
        "id": "klgxnblUA2-B"
      },
      "source": [
        "####  47. Given two arrays, X and Y, construct the Cauchy matrix C (Cij =1/(xi - yj)) \n",
        "(**hint**: np.subtract.outer)"
      ]
    },
    {
      "cell_type": "code",
      "execution_count": null,
      "metadata": {
        "id": "8Gfkbef2A2-B",
        "colab": {
          "base_uri": "https://localhost:8080/"
        },
        "outputId": "380c7040-0db2-4489-d51c-64363cb0cf92"
      },
      "outputs": [
        {
          "output_type": "stream",
          "name": "stdout",
          "text": [
            "3638.163637117973\n"
          ]
        }
      ],
      "source": [
        "X = np.arange(8)\n",
        "Y = X + 0.5\n",
        "C = 1.0 / np.subtract.outer(X, Y)\n",
        "print(np.linalg.det(C))"
      ]
    },
    {
      "cell_type": "markdown",
      "metadata": {
        "id": "Lc0PYpvHA2-B"
      },
      "source": [
        "#### 48. Print the minimum and maximum representable value for each numpy scalar type (★★☆) \n",
        "(**hint**: np.iinfo, np.finfo, eps)"
      ]
    },
    {
      "cell_type": "code",
      "execution_count": null,
      "metadata": {
        "id": "KV0fTY3CA2-C",
        "colab": {
          "base_uri": "https://localhost:8080/"
        },
        "outputId": "0c96062b-843c-4164-b01b-d7c2fdb47ad9"
      },
      "outputs": [
        {
          "output_type": "stream",
          "name": "stdout",
          "text": [
            "-128\n",
            "127\n",
            "-2147483648\n",
            "2147483647\n",
            "-9223372036854775808\n",
            "9223372036854775807\n",
            "-3.4028235e+38\n",
            "3.4028235e+38\n",
            "1.1920929e-07\n",
            "-1.7976931348623157e+308\n",
            "1.7976931348623157e+308\n",
            "2.220446049250313e-16\n"
          ]
        }
      ],
      "source": [
        "for dtype in [np.int8, np.int32, np.int64]:\n",
        "   print(np.iinfo(dtype).min)\n",
        "   print(np.iinfo(dtype).max)\n",
        "for dtype in [np.float32, np.float64]:\n",
        "   print(np.finfo(dtype).min)\n",
        "   print(np.finfo(dtype).max)\n",
        "   print(np.finfo(dtype).eps)"
      ]
    },
    {
      "cell_type": "markdown",
      "metadata": {
        "id": "qqa5EQzbA2-C"
      },
      "source": [
        "#### 49. How to print all the values of an array? (★★☆) \n",
        "(**hint**: np.set\\_printoptions)"
      ]
    },
    {
      "cell_type": "code",
      "execution_count": null,
      "metadata": {
        "id": "JSZoJIq1A2-C",
        "colab": {
          "base_uri": "https://localhost:8080/"
        },
        "outputId": "2ee44ce5-e888-4258-d7e5-6d1b4c98ba47"
      },
      "outputs": [
        {
          "output_type": "stream",
          "name": "stdout",
          "text": [
            "[[0. 0. 0. 0. 0. 0. 0. 0. 0. 0. 0. 0. 0. 0. 0. 0. 0. 0. 0. 0. 0. 0. 0. 0.\n",
            "  0. 0. 0. 0. 0. 0. 0. 0. 0. 0. 0. 0. 0. 0. 0. 0.]\n",
            " [0. 0. 0. 0. 0. 0. 0. 0. 0. 0. 0. 0. 0. 0. 0. 0. 0. 0. 0. 0. 0. 0. 0. 0.\n",
            "  0. 0. 0. 0. 0. 0. 0. 0. 0. 0. 0. 0. 0. 0. 0. 0.]\n",
            " [0. 0. 0. 0. 0. 0. 0. 0. 0. 0. 0. 0. 0. 0. 0. 0. 0. 0. 0. 0. 0. 0. 0. 0.\n",
            "  0. 0. 0. 0. 0. 0. 0. 0. 0. 0. 0. 0. 0. 0. 0. 0.]\n",
            " [0. 0. 0. 0. 0. 0. 0. 0. 0. 0. 0. 0. 0. 0. 0. 0. 0. 0. 0. 0. 0. 0. 0. 0.\n",
            "  0. 0. 0. 0. 0. 0. 0. 0. 0. 0. 0. 0. 0. 0. 0. 0.]\n",
            " [0. 0. 0. 0. 0. 0. 0. 0. 0. 0. 0. 0. 0. 0. 0. 0. 0. 0. 0. 0. 0. 0. 0. 0.\n",
            "  0. 0. 0. 0. 0. 0. 0. 0. 0. 0. 0. 0. 0. 0. 0. 0.]\n",
            " [0. 0. 0. 0. 0. 0. 0. 0. 0. 0. 0. 0. 0. 0. 0. 0. 0. 0. 0. 0. 0. 0. 0. 0.\n",
            "  0. 0. 0. 0. 0. 0. 0. 0. 0. 0. 0. 0. 0. 0. 0. 0.]\n",
            " [0. 0. 0. 0. 0. 0. 0. 0. 0. 0. 0. 0. 0. 0. 0. 0. 0. 0. 0. 0. 0. 0. 0. 0.\n",
            "  0. 0. 0. 0. 0. 0. 0. 0. 0. 0. 0. 0. 0. 0. 0. 0.]\n",
            " [0. 0. 0. 0. 0. 0. 0. 0. 0. 0. 0. 0. 0. 0. 0. 0. 0. 0. 0. 0. 0. 0. 0. 0.\n",
            "  0. 0. 0. 0. 0. 0. 0. 0. 0. 0. 0. 0. 0. 0. 0. 0.]\n",
            " [0. 0. 0. 0. 0. 0. 0. 0. 0. 0. 0. 0. 0. 0. 0. 0. 0. 0. 0. 0. 0. 0. 0. 0.\n",
            "  0. 0. 0. 0. 0. 0. 0. 0. 0. 0. 0. 0. 0. 0. 0. 0.]\n",
            " [0. 0. 0. 0. 0. 0. 0. 0. 0. 0. 0. 0. 0. 0. 0. 0. 0. 0. 0. 0. 0. 0. 0. 0.\n",
            "  0. 0. 0. 0. 0. 0. 0. 0. 0. 0. 0. 0. 0. 0. 0. 0.]\n",
            " [0. 0. 0. 0. 0. 0. 0. 0. 0. 0. 0. 0. 0. 0. 0. 0. 0. 0. 0. 0. 0. 0. 0. 0.\n",
            "  0. 0. 0. 0. 0. 0. 0. 0. 0. 0. 0. 0. 0. 0. 0. 0.]\n",
            " [0. 0. 0. 0. 0. 0. 0. 0. 0. 0. 0. 0. 0. 0. 0. 0. 0. 0. 0. 0. 0. 0. 0. 0.\n",
            "  0. 0. 0. 0. 0. 0. 0. 0. 0. 0. 0. 0. 0. 0. 0. 0.]\n",
            " [0. 0. 0. 0. 0. 0. 0. 0. 0. 0. 0. 0. 0. 0. 0. 0. 0. 0. 0. 0. 0. 0. 0. 0.\n",
            "  0. 0. 0. 0. 0. 0. 0. 0. 0. 0. 0. 0. 0. 0. 0. 0.]\n",
            " [0. 0. 0. 0. 0. 0. 0. 0. 0. 0. 0. 0. 0. 0. 0. 0. 0. 0. 0. 0. 0. 0. 0. 0.\n",
            "  0. 0. 0. 0. 0. 0. 0. 0. 0. 0. 0. 0. 0. 0. 0. 0.]\n",
            " [0. 0. 0. 0. 0. 0. 0. 0. 0. 0. 0. 0. 0. 0. 0. 0. 0. 0. 0. 0. 0. 0. 0. 0.\n",
            "  0. 0. 0. 0. 0. 0. 0. 0. 0. 0. 0. 0. 0. 0. 0. 0.]\n",
            " [0. 0. 0. 0. 0. 0. 0. 0. 0. 0. 0. 0. 0. 0. 0. 0. 0. 0. 0. 0. 0. 0. 0. 0.\n",
            "  0. 0. 0. 0. 0. 0. 0. 0. 0. 0. 0. 0. 0. 0. 0. 0.]\n",
            " [0. 0. 0. 0. 0. 0. 0. 0. 0. 0. 0. 0. 0. 0. 0. 0. 0. 0. 0. 0. 0. 0. 0. 0.\n",
            "  0. 0. 0. 0. 0. 0. 0. 0. 0. 0. 0. 0. 0. 0. 0. 0.]\n",
            " [0. 0. 0. 0. 0. 0. 0. 0. 0. 0. 0. 0. 0. 0. 0. 0. 0. 0. 0. 0. 0. 0. 0. 0.\n",
            "  0. 0. 0. 0. 0. 0. 0. 0. 0. 0. 0. 0. 0. 0. 0. 0.]\n",
            " [0. 0. 0. 0. 0. 0. 0. 0. 0. 0. 0. 0. 0. 0. 0. 0. 0. 0. 0. 0. 0. 0. 0. 0.\n",
            "  0. 0. 0. 0. 0. 0. 0. 0. 0. 0. 0. 0. 0. 0. 0. 0.]\n",
            " [0. 0. 0. 0. 0. 0. 0. 0. 0. 0. 0. 0. 0. 0. 0. 0. 0. 0. 0. 0. 0. 0. 0. 0.\n",
            "  0. 0. 0. 0. 0. 0. 0. 0. 0. 0. 0. 0. 0. 0. 0. 0.]\n",
            " [0. 0. 0. 0. 0. 0. 0. 0. 0. 0. 0. 0. 0. 0. 0. 0. 0. 0. 0. 0. 0. 0. 0. 0.\n",
            "  0. 0. 0. 0. 0. 0. 0. 0. 0. 0. 0. 0. 0. 0. 0. 0.]\n",
            " [0. 0. 0. 0. 0. 0. 0. 0. 0. 0. 0. 0. 0. 0. 0. 0. 0. 0. 0. 0. 0. 0. 0. 0.\n",
            "  0. 0. 0. 0. 0. 0. 0. 0. 0. 0. 0. 0. 0. 0. 0. 0.]\n",
            " [0. 0. 0. 0. 0. 0. 0. 0. 0. 0. 0. 0. 0. 0. 0. 0. 0. 0. 0. 0. 0. 0. 0. 0.\n",
            "  0. 0. 0. 0. 0. 0. 0. 0. 0. 0. 0. 0. 0. 0. 0. 0.]\n",
            " [0. 0. 0. 0. 0. 0. 0. 0. 0. 0. 0. 0. 0. 0. 0. 0. 0. 0. 0. 0. 0. 0. 0. 0.\n",
            "  0. 0. 0. 0. 0. 0. 0. 0. 0. 0. 0. 0. 0. 0. 0. 0.]\n",
            " [0. 0. 0. 0. 0. 0. 0. 0. 0. 0. 0. 0. 0. 0. 0. 0. 0. 0. 0. 0. 0. 0. 0. 0.\n",
            "  0. 0. 0. 0. 0. 0. 0. 0. 0. 0. 0. 0. 0. 0. 0. 0.]\n",
            " [0. 0. 0. 0. 0. 0. 0. 0. 0. 0. 0. 0. 0. 0. 0. 0. 0. 0. 0. 0. 0. 0. 0. 0.\n",
            "  0. 0. 0. 0. 0. 0. 0. 0. 0. 0. 0. 0. 0. 0. 0. 0.]\n",
            " [0. 0. 0. 0. 0. 0. 0. 0. 0. 0. 0. 0. 0. 0. 0. 0. 0. 0. 0. 0. 0. 0. 0. 0.\n",
            "  0. 0. 0. 0. 0. 0. 0. 0. 0. 0. 0. 0. 0. 0. 0. 0.]\n",
            " [0. 0. 0. 0. 0. 0. 0. 0. 0. 0. 0. 0. 0. 0. 0. 0. 0. 0. 0. 0. 0. 0. 0. 0.\n",
            "  0. 0. 0. 0. 0. 0. 0. 0. 0. 0. 0. 0. 0. 0. 0. 0.]\n",
            " [0. 0. 0. 0. 0. 0. 0. 0. 0. 0. 0. 0. 0. 0. 0. 0. 0. 0. 0. 0. 0. 0. 0. 0.\n",
            "  0. 0. 0. 0. 0. 0. 0. 0. 0. 0. 0. 0. 0. 0. 0. 0.]\n",
            " [0. 0. 0. 0. 0. 0. 0. 0. 0. 0. 0. 0. 0. 0. 0. 0. 0. 0. 0. 0. 0. 0. 0. 0.\n",
            "  0. 0. 0. 0. 0. 0. 0. 0. 0. 0. 0. 0. 0. 0. 0. 0.]\n",
            " [0. 0. 0. 0. 0. 0. 0. 0. 0. 0. 0. 0. 0. 0. 0. 0. 0. 0. 0. 0. 0. 0. 0. 0.\n",
            "  0. 0. 0. 0. 0. 0. 0. 0. 0. 0. 0. 0. 0. 0. 0. 0.]\n",
            " [0. 0. 0. 0. 0. 0. 0. 0. 0. 0. 0. 0. 0. 0. 0. 0. 0. 0. 0. 0. 0. 0. 0. 0.\n",
            "  0. 0. 0. 0. 0. 0. 0. 0. 0. 0. 0. 0. 0. 0. 0. 0.]\n",
            " [0. 0. 0. 0. 0. 0. 0. 0. 0. 0. 0. 0. 0. 0. 0. 0. 0. 0. 0. 0. 0. 0. 0. 0.\n",
            "  0. 0. 0. 0. 0. 0. 0. 0. 0. 0. 0. 0. 0. 0. 0. 0.]\n",
            " [0. 0. 0. 0. 0. 0. 0. 0. 0. 0. 0. 0. 0. 0. 0. 0. 0. 0. 0. 0. 0. 0. 0. 0.\n",
            "  0. 0. 0. 0. 0. 0. 0. 0. 0. 0. 0. 0. 0. 0. 0. 0.]\n",
            " [0. 0. 0. 0. 0. 0. 0. 0. 0. 0. 0. 0. 0. 0. 0. 0. 0. 0. 0. 0. 0. 0. 0. 0.\n",
            "  0. 0. 0. 0. 0. 0. 0. 0. 0. 0. 0. 0. 0. 0. 0. 0.]\n",
            " [0. 0. 0. 0. 0. 0. 0. 0. 0. 0. 0. 0. 0. 0. 0. 0. 0. 0. 0. 0. 0. 0. 0. 0.\n",
            "  0. 0. 0. 0. 0. 0. 0. 0. 0. 0. 0. 0. 0. 0. 0. 0.]\n",
            " [0. 0. 0. 0. 0. 0. 0. 0. 0. 0. 0. 0. 0. 0. 0. 0. 0. 0. 0. 0. 0. 0. 0. 0.\n",
            "  0. 0. 0. 0. 0. 0. 0. 0. 0. 0. 0. 0. 0. 0. 0. 0.]\n",
            " [0. 0. 0. 0. 0. 0. 0. 0. 0. 0. 0. 0. 0. 0. 0. 0. 0. 0. 0. 0. 0. 0. 0. 0.\n",
            "  0. 0. 0. 0. 0. 0. 0. 0. 0. 0. 0. 0. 0. 0. 0. 0.]\n",
            " [0. 0. 0. 0. 0. 0. 0. 0. 0. 0. 0. 0. 0. 0. 0. 0. 0. 0. 0. 0. 0. 0. 0. 0.\n",
            "  0. 0. 0. 0. 0. 0. 0. 0. 0. 0. 0. 0. 0. 0. 0. 0.]\n",
            " [0. 0. 0. 0. 0. 0. 0. 0. 0. 0. 0. 0. 0. 0. 0. 0. 0. 0. 0. 0. 0. 0. 0. 0.\n",
            "  0. 0. 0. 0. 0. 0. 0. 0. 0. 0. 0. 0. 0. 0. 0. 0.]]\n"
          ]
        }
      ],
      "source": [
        "np.set_printoptions(threshold=float(\"inf\"))\n",
        "Z = np.zeros((40,40))\n",
        "print(Z)"
      ]
    },
    {
      "cell_type": "markdown",
      "metadata": {
        "id": "2ZFW-YAxA2-D"
      },
      "source": [
        "#### 50. How to find the closest value (to a given scalar) in a vector? (★★☆) \n",
        "(**hint**: argmin)"
      ]
    },
    {
      "cell_type": "code",
      "execution_count": null,
      "metadata": {
        "id": "IjEvhLgfA2-D",
        "colab": {
          "base_uri": "https://localhost:8080/"
        },
        "outputId": "08ea2f9f-93be-4f7f-df12-fdf4a183d947"
      },
      "outputs": [
        {
          "output_type": "stream",
          "name": "stdout",
          "text": [
            "99\n"
          ]
        }
      ],
      "source": [
        "Z = np.arange(100)\n",
        "v = np.random.uniform(0,100)\n",
        "index = (np.abs(Z-v)).argmin()\n",
        "print(Z[index])"
      ]
    },
    {
      "cell_type": "markdown",
      "metadata": {
        "id": "HTJGEpC2A2-D"
      },
      "source": [
        "#### 51. Create a structured array representing a position (x,y) and a color (r,g,b) (★★☆) \n",
        "(**hint**: dtype)"
      ]
    },
    {
      "cell_type": "code",
      "execution_count": null,
      "metadata": {
        "id": "w6_9Qki-A2-E",
        "colab": {
          "base_uri": "https://localhost:8080/"
        },
        "outputId": "683d35bd-b588-42f1-a2f8-7cea8aa3ea06"
      },
      "outputs": [
        {
          "output_type": "stream",
          "name": "stdout",
          "text": [
            "46\n"
          ]
        }
      ],
      "source": [
        "Z = np.arange(100)\n",
        "v = np.random.uniform(0,100)\n",
        "index = (np.abs(Z-v)).argmin()\n",
        "print(Z[index])"
      ]
    },
    {
      "cell_type": "markdown",
      "metadata": {
        "id": "l69W_gFVA2-E"
      },
      "source": [
        "#### 52. Consider a random vector with shape (100,2) representing coordinates, find point by point distances (★★☆) \n",
        "(**hint**: np.atleast\\_2d, T, np.sqrt)"
      ]
    },
    {
      "cell_type": "code",
      "execution_count": null,
      "metadata": {
        "id": "O2L3Z6gRA2-E",
        "colab": {
          "base_uri": "https://localhost:8080/"
        },
        "outputId": "9bc84655-a5dc-4200-d4f4-35a86c48f6ef"
      },
      "outputs": [
        {
          "output_type": "stream",
          "name": "stdout",
          "text": [
            "[[0.         0.92854616 0.95874517 0.78033646 0.92621275 0.48696297\n",
            "  1.16971039 0.30903943 0.27895928 0.36043972 0.7536001  0.79710962\n",
            "  0.92257216 0.65336128 0.17154441 0.25916766 0.92521054 0.69130934\n",
            "  1.12033722 0.83166865 0.76580418 0.5730645  0.50502437 0.2221017\n",
            "  0.18325365 0.55973536 0.69098031 0.27925602 0.57138573 1.00955463\n",
            "  0.66837001 0.54571533 0.77120785 0.97988082 0.38810266 0.68802554\n",
            "  0.42337245 1.06453966 1.17194022 0.56654244 0.68829778 0.70924962\n",
            "  0.46722097 0.30185243 0.68811414 0.38711223 0.86886589 0.35324931\n",
            "  0.45111698 0.62379465 0.87555454 1.00508912 0.7234522  0.65216872\n",
            "  0.66785874 0.80237831 0.81343239 0.89518266 0.16412547 0.74468226\n",
            "  0.61900125 0.88102977 0.23388355 0.35598653 0.96175005 0.93249564\n",
            "  0.9946555  0.28986771 0.24298642 0.76812487 0.6614462  0.25883202\n",
            "  0.09763826 1.10973273 0.97283681 0.87933487 0.48504932 0.7869275\n",
            "  0.73123123 0.25869002 0.55456674 0.94132054 0.52154475 0.90068934\n",
            "  0.93502726 0.90415028 1.00161444 0.46786639 0.53359466 1.02632858\n",
            "  1.00550971 1.07713118 0.76905005 0.81831831 0.20118619 0.91786116\n",
            "  1.08361156 1.03197011 0.80539079 0.71618761]\n",
            " [0.92854616 0.         0.35666041 0.73228182 0.44054476 0.79962533\n",
            "  0.44639116 0.6733787  0.76885917 0.8435272  0.73432052 0.23836485\n",
            "  0.28239483 0.34821005 0.76681686 0.7072697  0.68651827 0.34093972\n",
            "  0.33110917 0.51599456 0.60373247 0.66812991 0.53823591 0.7732837\n",
            "  0.85532911 0.42572019 0.93452074 0.64932414 0.35724974 0.63519738\n",
            "  0.26288287 0.90539686 0.16196531 0.22967218 0.83213297 0.77278954\n",
            "  0.83209335 0.24863642 0.486593   0.36318701 0.9661013  0.72654898\n",
            "  0.49220843 0.6320027  0.24043523 0.8836468  0.55036987 0.62855785\n",
            "  0.87164769 0.79817659 0.12692936 0.50610778 0.20517027 0.48390351\n",
            "  0.9311775  0.20290813 0.33046073 0.15452272 0.8379532  0.26322159\n",
            "  0.34339417 0.31961595 0.70533465 0.60126469 0.11607379 0.09060106\n",
            "  0.36838624 0.64553597 0.73958447 0.20472282 0.35996391 0.69040912\n",
            "  0.83301511 0.5766658  0.08714053 0.49891429 0.90826382 0.48307696\n",
            "  0.96824419 0.81071807 0.69822148 0.19527727 0.58738303 0.50375588\n",
            "  0.19995881 0.06805596 0.64433194 0.67505225 0.8070038  0.46430794\n",
            "  0.37617421 0.31072735 0.9617091  0.26163313 0.85862626 0.66419037\n",
            "  0.56953173 0.61886666 0.34582697 0.92374124]\n",
            " [0.95874517 0.35666041 0.         0.45649144 0.10028299 0.64631659\n",
            "  0.21168722 0.65291627 0.89923128 0.74016216 0.46931452 0.20656353\n",
            "  0.07732073 0.31629742 0.83319232 0.70104464 0.35716217 0.6092358\n",
            "  0.19983949 0.22339991 0.33776728 0.49307979 0.74091237 0.75191837\n",
            "  0.82547823 0.40360001 0.70192949 0.70508572 0.47263123 0.28292161\n",
            "  0.39236017 0.72524767 0.40782623 0.14074228 0.71825756 0.53477164\n",
            "  0.70321074 0.20082793 0.21522079 0.4641948  0.73714075 0.4802495\n",
            "  0.49778274 0.71549624 0.40938274 0.76632314 0.23632386 0.76434216\n",
            "  0.72893165 0.58647019 0.24390716 0.14949744 0.38767088 0.32518638\n",
            "  0.70661996 0.51200105 0.65280422 0.50234616 0.82148285 0.54774317\n",
            "  0.55362598 0.66084408 0.72693275 0.72363172 0.47205581 0.26667882\n",
            "  0.72376982 0.67692898 0.8458773  0.48800379 0.30244399 0.70013023\n",
            "  0.87846581 0.22903742 0.43859084 0.18125667 0.75173899 0.22541369\n",
            "  0.7246478  0.75765593 0.52689254 0.16234591 0.46870607 0.17533117\n",
            "  0.55451242 0.29221179 0.29383276 0.5547789  0.63301062 0.11221231\n",
            "  0.04697317 0.1594678  0.70475548 0.58443035 0.82037751 0.3355598\n",
            "  0.21708957 0.26330987 0.15337733 0.68137904]\n",
            " [0.78033646 0.73228182 0.45649144 0.         0.36030485 0.31100311\n",
            "  0.6175968  0.50505277 0.86227324 0.44327489 0.02806841 0.49493721\n",
            "  0.49269267 0.4373237  0.73190739 0.55091075 0.17278359 0.81993832\n",
            "  0.6520431  0.23416926 0.12878252 0.21297294 0.83588544 0.56230766\n",
            "  0.6017308  0.43412572 0.25674294 0.63358104 0.59387055 0.29347384\n",
            "  0.58772511 0.33057506 0.68540137 0.58082231 0.41387041 0.11136959\n",
            "  0.38281272 0.65539534 0.58808145 0.5767751  0.29224164 0.07166573\n",
            "  0.47838739 0.67465723 0.62521206 0.44309107 0.22407804 0.77100325\n",
            "  0.38180399 0.18533435 0.60656214 0.37862588 0.63090683 0.28169012\n",
            "  0.26733463 0.79622739 0.91860123 0.83508932 0.6163839  0.7954886\n",
            "  0.72449291 0.95589408 0.60309583 0.72752789 0.8408482  0.66031362\n",
            "  1.05227365 0.58618053 0.7917997  0.75623696 0.41481235 0.5714106\n",
            "  0.73813295 0.44537472 0.81880288 0.27655253 0.38097782 0.25172248\n",
            "  0.27202411 0.5235641  0.22627076 0.57893303 0.30417423 0.28728597\n",
            "  0.89510638 0.66600482 0.27924097 0.31852101 0.27192746 0.43264313\n",
            "  0.48223731 0.61466064 0.24857635 0.86506754 0.58702692 0.17806991\n",
            "  0.41933552 0.32842316 0.38824694 0.23104504]\n",
            " [0.92621275 0.44054476 0.10028299 0.36030485 0.         0.57410423\n",
            "  0.27231618 0.61724986 0.89623254 0.67806099 0.37497906 0.24865798\n",
            "  0.16011563 0.31582867 0.81425794 0.66706214 0.25754807 0.65666446\n",
            "  0.29175054 0.13225589 0.24750288 0.42134637 0.76401896 0.71160168\n",
            "  0.78034983 0.38952527 0.61024198 0.68836354 0.48992585 0.19550431\n",
            "  0.42444234 0.64433873 0.46525077 0.23836404 0.65407237 0.44481311\n",
            "  0.63556402 0.30085365 0.2571968  0.47851799 0.64571171 0.38976795\n",
            "  0.48085558 0.70608089 0.4488081  0.6998512  0.13743473 0.76750226\n",
            "  0.65701182 0.50134061 0.31905777 0.08967039 0.43373442 0.27551035\n",
            "  0.61642098 0.57543225 0.71519606 0.57827754 0.78009864 0.60270795\n",
            "  0.58870208 0.73054989 0.69960016 0.72476662 0.55660924 0.35319376\n",
            "  0.80229025 0.6547352  0.83771076 0.54630784 0.29641661 0.67067508\n",
            "  0.85227883 0.19549224 0.52545003 0.08379583 0.67586165 0.15072376\n",
            "  0.63074075 0.70844924 0.45450162 0.25255094 0.41598638 0.07528425\n",
            "  0.63347565 0.3734664  0.20391992 0.49567997 0.55588504 0.10062532\n",
            "  0.12206802 0.25479072 0.60887688 0.64894821 0.77314409 0.23575273\n",
            "  0.1738669  0.18407626 0.15038835 0.58813949]\n",
            " [0.48696297 0.79962533 0.64631659 0.31100311 0.57410423 0.\n",
            "  0.84607966 0.27276627 0.62835472 0.13340755 0.28295871 0.57859635\n",
            "  0.64755912 0.45151254 0.47868439 0.30238938 0.47621963 0.75080199\n",
            "  0.84283118 0.44748231 0.34469315 0.15337692 0.68610551 0.28605959\n",
            "  0.30384214 0.38511979 0.22448483 0.41683471 0.52474456 0.58416317\n",
            "  0.57132145 0.11459197 0.69257385 0.73061567 0.10381553 0.20666452\n",
            "  0.07181695 0.81778876 0.82986643 0.50845541 0.23601191 0.24028753\n",
            "  0.36145701 0.46848997 0.60884552 0.13397087 0.46776947 0.57599928\n",
            "  0.08292567 0.13754155 0.69272562 0.62822374 0.63090427 0.33406619\n",
            "  0.20515428 0.78332108 0.87219033 0.85144161 0.32482054 0.75685618\n",
            "  0.64875339 0.92617186 0.35912884 0.53907723 0.88531058 0.75564947\n",
            "  1.0381319  0.36897051 0.55694889 0.74008266 0.44021936 0.33203291\n",
            "  0.46396368 0.71806559 0.87609445 0.50099235 0.10970558 0.42452079\n",
            "  0.26883535 0.2295433  0.1197643  0.70955    0.21238184 0.51993067\n",
            "  0.90891443 0.74519161 0.57237009 0.12987544 0.04689357 0.66923388\n",
            "  0.6861963  0.79969479 0.29743998 0.83756517 0.28673465 0.47536506\n",
            "  0.6907644  0.61457215 0.51650808 0.24179024]\n",
            " [1.16971039 0.44639116 0.21168722 0.6175968  0.27231618 0.84607966\n",
            "  0.         0.86450497 1.0982479  0.94669336 0.6361793  0.39338464\n",
            "  0.2539343  0.52199664 1.04072303 0.91246141 0.47702566 0.76008297\n",
            "  0.12149477 0.4028492  0.51631374 0.69301143 0.91957219 0.96360421\n",
            "  1.03695288 0.61233467 0.87319765 0.91234612 0.66309898 0.36245954\n",
            "  0.57280694 0.91590947 0.5538828  0.23356285 0.92365074 0.71144408\n",
            "  0.90645604 0.20007442 0.05189818 0.65722264 0.90880799 0.65639808\n",
            "  0.70645386 0.91948944 0.58085472 0.97041699 0.3962698  0.96028545\n",
            "  0.92900504 0.77147659 0.37755334 0.24013486 0.55229061 0.53464193\n",
            "  0.88143876 0.63922851 0.77471736 0.60055264 1.03316139 0.68892103\n",
            "  0.7235811  0.76570963 0.9372678  0.92140725 0.54561088 0.36398073\n",
            "  0.80125922 0.8861353  1.048345   0.62667763 0.51041921 0.91093525\n",
            "  1.08818866 0.21738995 0.50684232 0.35068632 0.94817533 0.42169605\n",
            "  0.88941943 0.96851686 0.72636506 0.2794513  0.67814109 0.33497916\n",
            "  0.63999334 0.40088336 0.37814449 0.76228634 0.82817852 0.18505741\n",
            "  0.16577252 0.13592041 0.86273666 0.70511053 1.03160918 0.45979946\n",
            "  0.23127049 0.32768955 0.36455432 0.84859219]\n",
            " [0.30903943 0.6733787  0.65291627 0.50505277 0.61724986 0.27276627\n",
            "  0.86450497 0.         0.36354351 0.21632176 0.48101433 0.50552683\n",
            "  0.6219743  0.35854798 0.22688387 0.05049315 0.6316856  0.52644151\n",
            "  0.82268891 0.52449664 0.46760186 0.29220492 0.42271756 0.10274209\n",
            "  0.18357848 0.26432149 0.49659845 0.14412357 0.33144339 0.70653637\n",
            "  0.41261169 0.37696686 0.53123951 0.68613724 0.22325137 0.43272032\n",
            "  0.2464044  0.77323257 0.86463886 0.31984932 0.50865823 0.43829197\n",
            "  0.18182597 0.19586175 0.44230003 0.26376066 0.56333227 0.30356951\n",
            "  0.29258686 0.38589865 0.59792902 0.69620098 0.47387304 0.34322823\n",
            "  0.47783468 0.59528637 0.65397391 0.67892479 0.17179534 0.55270321\n",
            "  0.42967532 0.71549564 0.09804558 0.26809061 0.73153129 0.65901587\n",
            "  0.83174305 0.09630786 0.29183649 0.5542109  0.36255132 0.066415\n",
            "  0.2422373  0.80119235 0.73341559 0.57111868 0.33858889 0.47850613\n",
            "  0.54109433 0.14135632 0.2845005  0.65107993 0.21794543 0.59247888\n",
            "  0.72974168 0.63613413 0.69966862 0.18885201 0.31451715 0.71746923\n",
            "  0.69937917 0.7788494  0.56699526 0.63430176 0.18538138 0.62182276\n",
            "  0.77523927 0.726998   0.50005836 0.51128919]\n",
            " [0.27895928 0.76885917 0.89923128 0.86227324 0.89623254 0.62835472\n",
            "  1.0982479  0.36354351 0.         0.53473414 0.8397614  0.70511932\n",
            "  0.84449368 0.58442354 0.15618906 0.32644186 0.97165101 0.47117095\n",
            "  1.02371102 0.83570965 0.80582055 0.65162477 0.2596653  0.35103069\n",
            "  0.37997986 0.50726245 0.85231063 0.22889381 0.43842562 1.02674837\n",
            "  0.53559964 0.72027414 0.60718845 0.87986196 0.55408623 0.79586727\n",
            "  0.58558193 0.95460864 1.11268604 0.44219597 0.85997346 0.79827527\n",
            "  0.41988792 0.19418506 0.54068594 0.57625711 0.8802127  0.14153066\n",
            "  0.62660953 0.74886998 0.75116048 0.98406449 0.57570001 0.65021761\n",
            "  0.83189219 0.60382253 0.57932536 0.69753029 0.34697095 0.53910343\n",
            "  0.42785537 0.64668186 0.26972455 0.17701748 0.77287241 0.79751833\n",
            "  0.75371944 0.27613658 0.07178094 0.57873364 0.60132628 0.29875383\n",
            "  0.20855541 1.09119948 0.7925905  0.87300519 0.66980143 0.78320235\n",
            "  0.89631586 0.42155307 0.64705565 0.8356983  0.5611297  0.89346395\n",
            "  0.72569266 0.76305864 1.02289823 0.55149479 0.67292463 0.98927385\n",
            "  0.94533166 0.98412001 0.92570627 0.60031612 0.39902909 0.9585184\n",
            "  1.06796172 1.04041396 0.75295676 0.86998381]\n",
            " [0.36043972 0.8435272  0.74016216 0.44327489 0.67806099 0.13340755\n",
            "  0.94669336 0.21632176 0.53473414 0.         0.41531783 0.64116822\n",
            "  0.73021956 0.50074548 0.37939461 0.22462693 0.60533322 0.7384767\n",
            "  0.93062452 0.55811062 0.46431515 0.26290018 0.63706692 0.18381281\n",
            "  0.17812124 0.41781672 0.33192121 0.34805306 0.52882284 0.70858159\n",
            "  0.59499443 0.18953569 0.71749942 0.80788439 0.02959202 0.34007185\n",
            "  0.06384243 0.89636802 0.93525324 0.51464854 0.33257405 0.37200523\n",
            "  0.36446352 0.40164983 0.62943826 0.04743923 0.58401514 0.50802078\n",
            "  0.09371489 0.27007344 0.74897284 0.74033442 0.65686266 0.41615991\n",
            "  0.30927047 0.79476858 0.86494298 0.87241238 0.20395489 0.75823122\n",
            "  0.63929212 0.92442729 0.27671931 0.4774849  0.91664589 0.81223822\n",
            "  1.03978901 0.30595466 0.46574029 0.7523022  0.49530222 0.25721771\n",
            "  0.35074719 0.83526236 0.91297321 0.61114482 0.13514013 0.52741511\n",
            "  0.37349574 0.11405667 0.23356938 0.78104646 0.27500397 0.63122077\n",
            "  0.92663821 0.79614626 0.69762451 0.18569617 0.17772134 0.77646691\n",
            "  0.78294628 0.88667891 0.40957173 0.84017013 0.15940948 0.60297231\n",
            "  0.80798159 0.7372891  0.59890782 0.35606027]\n",
            " [0.7536001  0.73432052 0.46931452 0.02806841 0.37497906 0.28295871\n",
            "  0.6361793  0.48101433 0.8397614  0.41531783 0.         0.49620858\n",
            "  0.50178614 0.43055253 0.70771515 0.52628198 0.19954231 0.81008196\n",
            "  0.6665012  0.24597149 0.13473583 0.18884969 0.81954701 0.53621058\n",
            "  0.57453333 0.42159037 0.2370188  0.61135501 0.58218044 0.31862532\n",
            "  0.5805221  0.30400763 0.68133502 0.59023004 0.38589466 0.08444812\n",
            "  0.35476445 0.66674015 0.60810022 0.56495264 0.27262942 0.04435748\n",
            "  0.46137188 0.65336486 0.61842888 0.41502917 0.24063583 0.7509685\n",
            "  0.35384731 0.15788473 0.60944296 0.39839485 0.62566945 0.27368406\n",
            "  0.2459629  0.79114973 0.91122388 0.83292204 0.58956687 0.78811794\n",
            "  0.71345066 0.95015772 0.57900344 0.70775556 0.84135173 0.66461174\n",
            "  1.04831548 0.56362997 0.76902489 0.75059841 0.40862262 0.547423\n",
            "  0.71259435 0.46864858 0.82041045 0.29125657 0.35355337 0.25791509\n",
            "  0.25576744 0.49645082 0.20024463 0.58622716 0.28416102 0.30344901\n",
            "  0.89302436 0.66871439 0.30470659 0.29355915 0.24389773 0.4511259\n",
            "  0.49704193 0.6282527  0.23615851 0.85908688 0.55967762 0.2036659\n",
            "  0.44233041 0.35305423 0.3925849  0.21333351]\n",
            " [0.79710962 0.23836485 0.20656353 0.49493721 0.24865798 0.57859635\n",
            "  0.39338464 0.50552683 0.70511932 0.64116822 0.49620858 0.\n",
            "  0.14081703 0.14708033 0.65585518 0.5486808  0.46540251 0.40884379\n",
            "  0.32479738 0.2883138  0.36687801 0.43823888 0.53477372 0.60820609\n",
            "  0.68777148 0.24123664 0.69828255 0.52798457 0.27026603 0.43862667\n",
            "  0.18584522 0.6787861  0.21809475 0.18279852 0.62536501 0.53508595\n",
            "  0.61978079 0.26819067 0.41115776 0.26387717 0.73051588 0.48826945\n",
            "  0.33038357 0.52983551 0.20390271 0.67667522 0.3282498  0.56690194\n",
            "  0.65541153 0.56366688 0.11681081 0.33341184 0.18561279 0.25059779\n",
            "  0.6959714  0.33035722 0.46850378 0.34755717 0.67724604 0.35418688\n",
            "  0.34750913 0.48885433 0.56338916 0.5281746  0.34606008 0.17811318\n",
            "  0.57091261 0.50782282 0.6568234  0.29880861 0.14686349 0.54068495\n",
            "  0.70946566 0.42949382 0.32420227 0.28306055 0.68828775 0.24900413\n",
            "  0.73101654 0.63015768 0.46995476 0.14556292 0.37060139 0.29349531\n",
            "  0.40643846 0.1743584  0.44421778 0.46137884 0.5803913  0.31385715\n",
            "  0.24870741 0.28272223 0.7235733  0.40386951 0.68673936 0.44346922\n",
            "  0.41317093 0.43180716 0.11576657 0.68643832]\n",
            " [0.92257216 0.28239483 0.07732073 0.49269267 0.16011563 0.64755912\n",
            "  0.2539343  0.6219743  0.84449368 0.73021956 0.50178614 0.14081703\n",
            "  0.         0.27031528 0.78856362 0.66820252 0.41451467 0.53457998\n",
            "  0.20207365 0.25984723 0.36719515 0.49664509 0.67409999 0.7232953\n",
            "  0.7999299  0.36291085 0.72714565 0.66018434 0.41104454 0.35314042\n",
            "  0.32493669 0.73529898 0.33165602 0.08854489 0.71054398 0.55917894\n",
            "  0.69905612 0.17114917 0.27035033 0.40432594 0.76164896 0.50633322\n",
            "  0.45630669 0.66587147 0.33858294 0.76030017 0.28397294 0.70705264\n",
            "  0.72884436 0.60346709 0.16674032 0.22481122 0.31469966 0.31548707\n",
            "  0.72942051 0.43482596 0.57561595 0.42577654 0.79300138 0.47160536\n",
            "  0.48314157 0.58362282 0.68898067 0.66776585 0.39833648 0.19368326\n",
            "  0.64800167 0.63599915 0.79444874 0.4114405  0.26113584 0.66399547\n",
            "  0.83836056 0.30600649 0.36615626 0.22903302 0.75569013 0.24558932\n",
            "  0.75356427 0.73612375 0.53036765 0.09267674 0.45533555 0.22920245\n",
            "  0.47872249 0.21662782 0.36275608 0.54488745 0.63975115 0.18939525\n",
            "  0.11136423 0.15791889 0.73775079 0.50715754 0.79658599 0.39233146\n",
            "  0.29441031 0.33654302 0.13166398 0.70941897]\n",
            " [0.65336128 0.34821005 0.31629742 0.4373237  0.31582867 0.45151254\n",
            "  0.52199664 0.35854798 0.58442354 0.50074548 0.43055253 0.14708033\n",
            "  0.27031528 0.         0.51875362 0.40225985 0.46123282 0.38726535\n",
            "  0.46704498 0.28927126 0.32150412 0.32561847 0.45359193 0.46118543\n",
            "  0.54069473 0.09450287 0.60022275 0.39036347 0.18042901 0.47425617\n",
            "  0.15045296 0.55855426 0.25517765 0.32805028 0.4870971  0.44844753\n",
            "  0.48498818 0.41474068 0.53125208 0.16668143 0.62955959 0.41073359\n",
            "  0.18629004 0.39919883 0.18794711 0.53868022 0.33618993 0.45256802\n",
            "  0.52372482 0.46096256 0.24834192 0.40525283 0.1965989  0.15716917\n",
            "  0.5939998  0.36166743 0.48129166 0.41246818 0.53031615 0.35819494\n",
            "  0.29887817 0.51977455 0.41950286 0.41047202 0.43669156 0.31153988\n",
            "  0.62032629 0.36577013 0.5297152  0.32044561 0.02398442 0.39555155\n",
            "  0.56812398 0.51118308 0.42519291 0.31046606 0.56005378 0.23606855\n",
            "  0.63754676 0.48380179 0.35367854 0.29257093 0.2391912  0.32831015\n",
            "  0.47215177 0.29620961 0.47491717 0.32721571 0.46053145 0.40543849\n",
            "  0.36297728 0.42377083 0.63790007 0.42861115 0.53977416 0.44181056\n",
            "  0.489593   0.47890876 0.16878075 0.59398908]\n",
            " [0.17154441 0.76681686 0.83319232 0.73190739 0.81425794 0.47868439\n",
            "  1.04072303 0.22688387 0.15618906 0.37939461 0.70771515 0.65585518\n",
            "  0.78856362 0.51875362 0.         0.18228519 0.85558664 0.519765\n",
            "  0.98061714 0.73627495 0.6902777  0.51899497 0.33775715 0.19631194\n",
            "  0.22533455 0.42969019 0.70117971 0.1283986  0.41199368 0.92354837\n",
            "  0.51104421 0.56632666 0.6071575  0.83769974 0.39969924 0.65660897\n",
            "  0.43199921 0.91937081 1.0483753  0.4094835  0.70722162 0.66475855\n",
            "  0.33566922 0.13487461 0.52708361 0.42029959 0.77802965 0.18485613\n",
            "  0.47190811 0.60443747 0.72366232 0.89849025 0.56282658 0.55020302\n",
            "  0.68017405 0.6324874  0.64216727 0.72576978 0.19212144 0.57386155\n",
            "  0.44892088 0.70968787 0.12884969 0.18447013 0.79394898 0.77776718\n",
            "  0.82364404 0.16014016 0.09203647 0.59928721 0.53086508 0.16065785\n",
            "  0.07527963 1.00534466 0.80669509 0.77897005 0.51453471 0.68662813\n",
            "  0.74480029 0.26578264 0.50991193 0.79666468 0.44033436 0.80011628\n",
            "  0.76438508 0.7473251  0.91786022 0.41467265 0.5242897  0.91196454\n",
            "  0.8801393  0.93850948 0.77587789 0.64690366 0.24395808 0.84464881\n",
            "  0.9804913  0.94127815 0.68105601 0.72035573]\n",
            " [0.25916766 0.7072697  0.70104464 0.55091075 0.66706214 0.30238938\n",
            "  0.91246141 0.05049315 0.32644186 0.22462693 0.52628198 0.5486808\n",
            "  0.66820252 0.40225985 0.18228519 0.         0.68079464 0.53805886\n",
            "  0.86816521 0.57498919 0.51720328 0.33797182 0.4147851  0.0678184\n",
            "  0.14905359 0.30775702 0.52677354 0.12347914 0.35794433 0.75682513\n",
            "  0.44480993 0.39956748 0.5604427  0.73030595 0.2376351  0.4743533\n",
            "  0.26553782 0.81681688 0.91343619 0.34806657 0.53610902 0.48304062\n",
            "  0.22030998 0.17705393 0.47212573 0.27102804 0.61378093 0.28354975\n",
            "  0.30980115 0.42344061 0.63733642 0.74642931 0.50502483 0.39346093\n",
            "  0.50688026 0.61721954 0.6661376  0.703646   0.1309767  0.57072077\n",
            "  0.44508918 0.72952747 0.05677322 0.25315985 0.75976886 0.69751774\n",
            "  0.84614132 0.0846335  0.25481989 0.5773094  0.40773484 0.03260583\n",
            "  0.19218196 0.85154548 0.76379968 0.62154649 0.35512839 0.52890992\n",
            "  0.57100218 0.12797348 0.32776717 0.69416666 0.26798795 0.64290584\n",
            "  0.75236256 0.67312308 0.749857   0.23281381 0.34655456 0.76716099\n",
            "  0.74764537 0.82448222 0.59946148 0.65147772 0.15536187 0.6712713\n",
            "  0.82562923 0.77743194 0.54790723 0.54371223]\n",
            " [0.92521054 0.68651827 0.35716217 0.17278359 0.25754807 0.47621963\n",
            "  0.47702566 0.6316856  0.97165101 0.60533322 0.19954231 0.46540251\n",
            "  0.41451467 0.46123282 0.85558664 0.68079464 0.         0.84544208\n",
            "  0.53410787 0.17862611 0.16595576 0.35321195 0.90289257 0.70349745\n",
            "  0.7526739  0.49242553 0.42038651 0.744574   0.63818155 0.12534397\n",
            "  0.60464978 0.50334448 0.67882766 0.49581193 0.576522   0.28392777\n",
            "  0.54761964 0.55577385 0.44030304 0.62265148 0.45494532 0.23784211\n",
            "  0.56083999 0.77831643 0.63783978 0.60994048 0.13731566 0.86412749\n",
            "  0.55104098 0.35728636 0.56052688 0.23970784 0.63375008 0.33149435\n",
            "  0.43406062 0.79238521 0.92625303 0.81220593 0.76337198 0.80597112\n",
            "  0.76007608 0.95251663 0.72802634 0.81969975 0.80142879 0.60327041\n",
            "  1.03614696 0.70048295 0.90402582 0.75703292 0.4372693  0.69619036\n",
            "  0.87252253 0.2833882  0.77319692 0.18770648 0.55285236 0.2271853\n",
            "  0.42717627 0.67440462 0.37596144 0.50702993 0.41525229 0.18531224\n",
            "  0.87029428 0.61847347 0.10990383 0.45737884 0.44055945 0.29874728\n",
            "  0.36873571 0.50293954 0.39446735 0.86512002 0.73973736 0.02233706\n",
            "  0.25928867 0.16206066 0.34963885 0.39106982]\n",
            " [0.69130934 0.34093972 0.6092358  0.81993832 0.65666446 0.75080199\n",
            "  0.76008297 0.52644151 0.47117095 0.7384767  0.81008196 0.40884379\n",
            "  0.53457998 0.38726535 0.519765   0.53805886 0.84544208 0.\n",
            "  0.65637665 0.66895696 0.70842533 0.67021862 0.21534821 0.60411111\n",
            "  0.67969715 0.39209311 0.94510374 0.4351703  0.23224854 0.84117557\n",
            "  0.24086638 0.86537897 0.20641376 0.52676843 0.73914056 0.81346427\n",
            "  0.75354547 0.57563008 0.79138026 0.24962432 0.96887841 0.78438688\n",
            "  0.38946867 0.39560764 0.20975652 0.78531878 0.71456398 0.3449555\n",
            "  0.79978592 0.8074339  0.38288317 0.74225513 0.22323322 0.53855004\n",
            "  0.93354638 0.14368093 0.12808531 0.23210577 0.65289756 0.07827505\n",
            "  0.10217808 0.19286126 0.51023678 0.33539287 0.31117961 0.40253409\n",
            "  0.30925083 0.45599255 0.46329027 0.13715326 0.41105973 0.5100709\n",
            "  0.594356   0.83673651 0.33766965 0.6790274  0.84428779 0.61830425\n",
            "  0.9868694  0.66404238 0.68901095 0.48137552 0.56219681 0.69314783\n",
            "  0.25467039 0.36429951 0.84483707 0.6233536  0.77703855 0.72010236\n",
            "  0.64572447 0.62678779 0.99619598 0.12952399 0.69014461 0.82515985\n",
            "  0.82148708 0.83795083 0.51245107 0.94634774]\n",
            " [1.12033722 0.33110917 0.19983949 0.6520431  0.29175054 0.84283118\n",
            "  0.12149477 0.82268891 1.02371102 0.93062452 0.6665012  0.32479738\n",
            "  0.20207365 0.46704498 0.98061714 0.86816521 0.53410787 0.65637665\n",
            "  0.         0.42156308 0.53668078 0.69015532 0.82846807 0.92444569\n",
            "  1.00161281 0.56112619 0.9007334  0.85278166 0.58529283 0.43418734\n",
            "  0.4894927  0.92448783 0.4524375  0.1439709  0.91018504 0.73404644\n",
            "  0.89722997 0.08250954 0.16980414 0.58197123 0.93606336 0.67932468\n",
            "  0.65312307 0.853634   0.49135901 0.95935862 0.42854819 0.88335377\n",
            "  0.92500569 0.78630559 0.28001511 0.2967571  0.45979351 0.51466276\n",
            "  0.90593208 0.52905995 0.66136173 0.48394282 0.99409362 0.58254044\n",
            "  0.62978669 0.648739   0.88645449 0.84695646 0.42593479 0.2544293\n",
            "  0.68062123 0.83185619 0.97889646 0.52052567 0.46043274 0.8625414\n",
            "  1.03386956 0.31210569 0.38697414 0.37553815 0.94942297 0.42503711\n",
            "  0.9222495  0.93818909 0.72402477 0.18821497 0.65620544 0.36543622\n",
            "  0.52095296 0.29248476 0.44856837 0.74498785 0.83139268 0.2375903\n",
            "  0.16986917 0.0441629  0.90060381 0.59217344 0.99849609 0.51421063\n",
            "  0.31830607 0.40374928 0.33195613 0.87939774]\n",
            " [0.83166865 0.51599456 0.22339991 0.23416926 0.13225589 0.44748231\n",
            "  0.4028492  0.52449664 0.83570965 0.55811062 0.24597149 0.2883138\n",
            "  0.25984723 0.28927126 0.73627495 0.57498919 0.17862611 0.66895696\n",
            "  0.42156308 0.         0.11542896 0.2967953  0.73964563 0.61181938\n",
            "  0.67469258 0.33550003 0.47917758 0.61570829 0.46915101 0.19160576\n",
            "  0.42813693 0.51306202 0.50026728 0.34738514 0.5326649  0.31292825\n",
            "  0.5116702  0.42127472 0.383015   0.45457945 0.51453233 0.25799776\n",
            "  0.41617189 0.64177964 0.4603758  0.57635437 0.04706263 0.7172131\n",
            "  0.53007423 0.36922557 0.38910046 0.1822241  0.45533187 0.18653066\n",
            "  0.48472332 0.61383464 0.7476981  0.63582857 0.67818641 0.62770225\n",
            "  0.58645095 0.77407767 0.61428033 0.67303169 0.6292882  0.43705926\n",
            "  0.85915328 0.57649468 0.77197968 0.57841183 0.2656773  0.58360685\n",
            "  0.7654936  0.28057231 0.60312027 0.05351212 0.54661171 0.05425868\n",
            "  0.50126159 0.59973499 0.32892335 0.34862747 0.31090093 0.07311069\n",
            "  0.69449184 0.44814283 0.18938667 0.38110637 0.42645749 0.22209144\n",
            "  0.25318228 0.38258458 0.48173724 0.68651041 0.66552274 0.15734423\n",
            "  0.25373137 0.20534662 0.17286893 0.45808094]\n",
            " [0.76580418 0.60373247 0.33776728 0.12878252 0.24750288 0.34469315\n",
            "  0.51631374 0.46760186 0.80582055 0.46431515 0.13473583 0.36687801\n",
            "  0.36719515 0.32150412 0.6902777  0.51720328 0.16595576 0.70842533\n",
            "  0.53668078 0.11542896 0.         0.20224101 0.74617335 0.54370415\n",
            "  0.5980791  0.33583642 0.36417414 0.57861849 0.4895127  0.24641795\n",
            "  0.4712199  0.40099637 0.56249962 0.45569053 0.43708769 0.19751359\n",
            "  0.41255304 0.53318867 0.49358793 0.47307513 0.39942984 0.14265402\n",
            "  0.39763115 0.61269436 0.50752685 0.4770805  0.12417095 0.70006211\n",
            "  0.4258315  0.25522345 0.47784559 0.28660959 0.51016426 0.17454366\n",
            "  0.36934889 0.67461296 0.80092903 0.70940498 0.60610117 0.67820454\n",
            "  0.61685806 0.8350299  0.56319424 0.65569602 0.71293459 0.53157921\n",
            "  0.92852109 0.53461139 0.73807963 0.63571059 0.29799754 0.53144112\n",
            "  0.70931876 0.3733751  0.69037383 0.16574596 0.43831232 0.12341581\n",
            "  0.38759822 0.52061275 0.23080661 0.45157414 0.25016034 0.18169513\n",
            "  0.76926101 0.53730663 0.23701409 0.30034497 0.31866432 0.33308921\n",
            "  0.36860324 0.49721085 0.37055614 0.74483837 0.5866098  0.15439928\n",
            "  0.34607707 0.27334329 0.25947674 0.34395691]\n",
            " [0.5730645  0.66812991 0.49307979 0.21297294 0.42134637 0.15337692\n",
            "  0.69301143 0.29220492 0.65162477 0.26290018 0.18884969 0.43823888\n",
            "  0.49664509 0.32561847 0.51899497 0.33797182 0.35321195 0.67021862\n",
            "  0.69015532 0.2967953  0.20224101 0.         0.64885194 0.35240298\n",
            "  0.39951724 0.28075658 0.2778261  0.42379806 0.43798302 0.44815167\n",
            "  0.46249946 0.24126546 0.57826757 0.58115435 0.23649205 0.15189403\n",
            "  0.21491895 0.66749732 0.67775857 0.42063384 0.30526041 0.14666635\n",
            "  0.29336218 0.4674909  0.50127572 0.27957157 0.32114468 0.56792147\n",
            "  0.23622229 0.13826106 0.55446806 0.47871954 0.51761629 0.18820045\n",
            "  0.26954916 0.67863457 0.7831208  0.73693495 0.41042942 0.66237356\n",
            "  0.56917613 0.83064312 0.39022406 0.52562641 0.76188537 0.61635182\n",
            "  0.93756715 0.37566499 0.58064617 0.63582781 0.30990003 0.35860282\n",
            "  0.5261658  0.57241132 0.74861803 0.35019902 0.25938913 0.27133088\n",
            "  0.31790294 0.32132839 0.0338696  0.56264114 0.10999575 0.36977525\n",
            "  0.7961672  0.60962975 0.43803664 0.10627143 0.14372181 0.51753025\n",
            "  0.53281938 0.64722884 0.32608875 0.73979019 0.38689617 0.34758099\n",
            "  0.54512134 0.47558395 0.36659456 0.2763984 ]\n",
            " [0.50502437 0.53823591 0.74091237 0.83588544 0.76401896 0.68610551\n",
            "  0.91957219 0.42271756 0.2596653  0.63706692 0.81954701 0.53477372\n",
            "  0.67409999 0.45359193 0.33775715 0.4147851  0.90289257 0.21534821\n",
            "  0.82846807 0.73964563 0.74617335 0.64885194 0.         0.47167949\n",
            "  0.53490779 0.41086532 0.90259494 0.29309521 0.27441386 0.92748404\n",
            "  0.34920417 0.79616651 0.38281886 0.68884834 0.64587898 0.8006009\n",
            "  0.66864347 0.75211861 0.94317049 0.28702706 0.91982943 0.78513715\n",
            "  0.35838355 0.24138052 0.33878287 0.68421935 0.78668517 0.1529146\n",
            "  0.71508127 0.77509589 0.54848074 0.85355338 0.36882482 0.5725735\n",
            "  0.88659455 0.35491016 0.31971718 0.44647659 0.50385092 0.28859185\n",
            "  0.19932652 0.38720032 0.37065137 0.16538494 0.52449979 0.5835423\n",
            "  0.49585545 0.33132866 0.26450213 0.33678752 0.47608118 0.38256062\n",
            "  0.41251084 0.95670639 0.54832468 0.76399174 0.76109879 0.68549801\n",
            "  0.94675082 0.54118314 0.65775546 0.64277832 0.5403975  0.78189263\n",
            "  0.46946503 0.54630289 0.92757254 0.57287463 0.72215404 0.84449304\n",
            "  0.7834593  0.79336143 0.9655506  0.3428056  0.54942697 0.8854201\n",
            "  0.93718605 0.93244897 0.61364249 0.9114019 ]\n",
            " [0.2221017  0.7732837  0.75191837 0.56230766 0.71160168 0.28605959\n",
            "  0.96360421 0.10274209 0.35103069 0.18381281 0.53621058 0.60820609\n",
            "  0.7232953  0.46118543 0.19631194 0.0678184  0.70349745 0.60411111\n",
            "  0.92444569 0.61181938 0.54370415 0.35240298 0.47167949 0.\n",
            "  0.08205015 0.36703513 0.50617439 0.17879596 0.42551585 0.78773341\n",
            "  0.51126723 0.37002333 0.6277243  0.78854709 0.20339155 0.47581375\n",
            "  0.23584275 0.8757881  0.96203615 0.41537766 0.5112247  0.49204375\n",
            "  0.28350382 0.23051559 0.53923185 0.22662814 0.64792287 0.33232848\n",
            "  0.2756981  0.41728565 0.7003026  0.78775048 0.57183131 0.43614949\n",
            "  0.48478434 0.68500232 0.73218339 0.77144872 0.06972749 0.63814463\n",
            "  0.51219294 0.7960371  0.10107863 0.30716338 0.82727245 0.76113592\n",
            "  0.91267223 0.14832199 0.28194844 0.64512661 0.46474767 0.09408051\n",
            "  0.17900568 0.89121847 0.83090266 0.66058609 0.31878996 0.56876742\n",
            "  0.54946338 0.07255569 0.33604852 0.75374631 0.300962   0.6818887\n",
            "  0.82016006 0.73766394 0.77964552 0.24652802 0.33253762 0.81217136\n",
            "  0.79807929 0.88052159 0.58176633 0.71872123 0.08754857 0.69588004\n",
            "  0.86480092 0.81062756 0.59973049 0.52655048]\n",
            " [0.18325365 0.85532911 0.82547823 0.6017308  0.78034983 0.30384214\n",
            "  1.03695288 0.18357848 0.37997986 0.17812124 0.57453333 0.68777148\n",
            "  0.7999299  0.54069473 0.22533455 0.14905359 0.7526739  0.67969715\n",
            "  1.00161281 0.67469258 0.5980791  0.39951724 0.53490779 0.08205015\n",
            "  0.         0.44698262 0.50987692 0.24702283 0.5069731  0.84418174\n",
            "  0.59329929 0.36601546 0.70947617 0.86714171 0.20516731 0.50635296\n",
            "  0.24042354 0.95475534 1.03337736 0.4971014  0.50919933 0.53021818\n",
            "  0.36512865 0.29474622 0.62108733 0.20916605 0.70819545 0.38846705\n",
            "  0.27044078 0.44093884 0.78149944 0.85351876 0.65380162 0.50525195\n",
            "  0.48706364 0.76494269 0.80755117 0.85217606 0.03324159 0.71668401\n",
            "  0.59006125 0.87225726 0.16978042 0.36957801 0.90880988 0.84257614\n",
            "  0.98883706 0.2245527  0.3171273  0.72549558 0.54320523 0.17167015\n",
            "  0.17977264 0.95518503 0.91276847 0.72502128 0.30738901 0.6344907\n",
            "  0.55102877 0.07839559 0.37788733 0.83318035 0.36521456 0.74615395\n",
            "  0.9001856  0.81942765 0.83508989 0.29776593 0.35039887 0.88094821\n",
            "  0.87119692 0.95757144 0.58764716 0.79670019 0.01988549 0.74696813\n",
            "  0.92841584 0.86907833 0.67442461 0.53416999]\n",
            " [0.55973536 0.42572019 0.40360001 0.43412572 0.38952527 0.38511979\n",
            "  0.61233467 0.26432149 0.50726245 0.41781672 0.42159037 0.24123664\n",
            "  0.36291085 0.09450287 0.42969019 0.30775702 0.49242553 0.39209311\n",
            "  0.56112619 0.33550003 0.33583642 0.28075658 0.41086532 0.36703513\n",
            "  0.44698262 0.         0.55825461 0.30183227 0.16109095 0.52677148\n",
            "  0.18639232 0.49703536 0.30751282 0.42255098 0.40702035 0.42138659\n",
            "  0.40913391 0.50917726 0.61872555 0.14372939 0.58444757 0.39336204\n",
            "  0.09420611 0.31659352 0.22436504 0.45840333 0.38188784 0.38282159\n",
            "  0.45084409 0.41897438 0.33696579 0.47687245 0.24584005 0.16173685\n",
            "  0.54875739 0.40068389 0.50246133 0.46632262 0.43601098 0.38165426\n",
            "  0.29299976 0.5502091  0.32607027 0.33899681 0.50247878 0.39936762\n",
            "  0.65849651 0.27380338 0.44820773 0.35753218 0.10202319 0.3014547\n",
            "  0.47597306 0.58406374 0.4963262  0.36793087 0.49036332 0.28148657\n",
            "  0.59865875 0.39219987 0.30300082 0.38679946 0.17757639 0.38786224\n",
            "  0.52395031 0.3801516  0.52488125 0.25599535 0.40166774 0.48466699\n",
            "  0.45056598 0.51768555 0.60544135 0.4596153  0.44663217 0.4754397\n",
            "  0.56070376 0.53694618 0.25143617 0.55696579]\n",
            " [0.69098031 0.93452074 0.70192949 0.25674294 0.61024198 0.22448483\n",
            "  0.87319765 0.49659845 0.85231063 0.33192121 0.2370188  0.69828255\n",
            "  0.72714565 0.60022275 0.70117971 0.52677354 0.42038651 0.94510374\n",
            "  0.9007334  0.47917758 0.36417414 0.2778261  0.90259494 0.50617439\n",
            "  0.50987692 0.55825461 0.         0.6407136  0.71339432 0.54518962\n",
            "  0.74013935 0.14639155 0.8546326  0.81549821 0.30633934 0.16799247\n",
            "  0.27181449 0.89578486 0.84467121 0.69619017 0.03561084 0.22177749\n",
            "  0.56007564 0.69181725 0.77894592 0.30473688 0.47744671 0.79892417\n",
            "  0.2398657  0.1397635  0.81488404 0.63506124 0.79445793 0.4511373\n",
            "  0.0237951  0.95630339 1.06012363 1.01265536 0.53567542 0.9398908\n",
            "  0.84335654 1.10837838 0.58347087 0.7608991  1.03356049 0.87422298\n",
            "  1.21533525 0.59249962 0.78106827 0.91356337 0.58261114 0.556517\n",
            "  0.68080977 0.70049114 1.01766505 0.52690333 0.20929356 0.4818092\n",
            "  0.04453304 0.44300689 0.25620025 0.80613074 0.38310424 0.53997649\n",
            "  1.07222586 0.87252209 0.53008816 0.33025132 0.18238067 0.68814308\n",
            "  0.73205524 0.86138248 0.07825249 1.01758422 0.49086119 0.43016072\n",
            "  0.6748886  0.58130295 0.60763153 0.03345023]\n",
            " [0.27925602 0.64932414 0.70508572 0.63358104 0.68836354 0.41683471\n",
            "  0.91234612 0.14412357 0.22889381 0.34805306 0.61135501 0.52798457\n",
            "  0.66018434 0.39036347 0.1283986  0.12347914 0.744574   0.4351703\n",
            "  0.85278166 0.61570829 0.57861849 0.42379806 0.29309521 0.17879596\n",
            "  0.24702283 0.30183227 0.6407136  0.         0.29213089 0.80511919\n",
            "  0.38940295 0.51934595 0.49269948 0.71016032 0.36018125 0.57028718\n",
            "  0.38664379 0.79254949 0.92029869 0.2874922  0.65261567 0.57027938\n",
            "  0.20815658 0.05360151 0.40890824 0.39450666 0.65880684 0.16088362\n",
            "  0.43177458 0.52776667 0.59899874 0.7736173  0.44420498 0.42918094\n",
            "  0.6219408  0.53137675 0.56242077 0.62235819 0.21852009 0.47806675\n",
            "  0.35068923 0.62803147 0.07822777 0.12982614 0.68584795 0.65465248\n",
            "  0.74432794 0.04893003 0.15959224 0.49470646 0.40267311 0.09087367\n",
            "  0.18488727 0.88072386 0.6952363  0.65641184 0.47742343 0.56473911\n",
            "  0.68521352 0.24818946 0.4211186  0.66960476 0.33236262 0.67737107\n",
            "  0.6659915  0.62553423 0.80032555 0.32625964 0.45856666 0.7853269\n",
            "  0.75201309 0.81051208 0.71078095 0.55602726 0.25960679 0.73211904\n",
            "  0.85627196 0.82105491 0.55326786 0.65512195]\n",
            " [0.57138573 0.35724974 0.47263123 0.59387055 0.48992585 0.52474456\n",
            "  0.66309898 0.33144339 0.43842562 0.52882284 0.58218044 0.27026603\n",
            "  0.41104454 0.18042901 0.41199368 0.35794433 0.63818155 0.23224854\n",
            "  0.58529283 0.46915101 0.4895127  0.43798302 0.27441386 0.42551585\n",
            "  0.5069731  0.16109095 0.71339432 0.29213089 0.         0.65460294\n",
            "  0.09961475 0.63912216 0.20329737 0.44148582 0.52499072 0.58179851\n",
            "  0.53496462 0.51687092 0.68130407 0.01742739 0.7377817  0.55444869\n",
            "  0.16580101 0.27814216 0.11699215 0.57399384 0.51616807 0.29827814\n",
            "  0.58006734 0.57534816 0.31522012 0.57954565 0.15208976 0.31562786\n",
            "  0.70231926 0.26607316 0.34822303 0.34751009 0.48656829 0.23241004\n",
            "  0.13199628 0.40150581 0.34979284 0.26184018 0.40184365 0.36656562\n",
            "  0.51444768 0.28989094 0.39615556 0.22396041 0.20363067 0.33754074\n",
            "  0.47627753 0.6834409  0.40700987 0.49065622 0.6231129  0.41549283\n",
            "  0.75490409 0.4727073  0.45720004 0.39728434 0.33030255 0.50813972\n",
            "  0.39921784 0.33539963 0.655346   0.39558764 0.54810799 0.57270889\n",
            "  0.51695841 0.54592011 0.76394799 0.31375287 0.51273962 0.61948723\n",
            "  0.66340497 0.65850745 0.33965524 0.71418672]\n",
            " [1.00955463 0.63519738 0.28292161 0.29347384 0.19550431 0.58416317\n",
            "  0.36245954 0.70653637 1.02674837 0.70858159 0.31862532 0.43862667\n",
            "  0.35314042 0.47425617 0.92354837 0.75682513 0.12534397 0.84117557\n",
            "  0.43418734 0.19160576 0.24641795 0.44815167 0.92748404 0.78773341\n",
            "  0.84418174 0.52677148 0.54518962 0.80511919 0.65460294 0.\n",
            "  0.6030516  0.62190279 0.65668976 0.4230392  0.68068543 0.40267457\n",
            "  0.65419734 0.46886904 0.32174399 0.64089496 0.57992412 0.35271488\n",
            "  0.60757018 0.83266408 0.63150103 0.71798836 0.14654737 0.90880253\n",
            "  0.66238912 0.47414507 0.51455008 0.13990883 0.62047558 0.37663348\n",
            "  0.55829004 0.76830515 0.90710276 0.7737297  0.85138714 0.79189772\n",
            "  0.76560029 0.92484606 0.79930654 0.86463293 0.75125111 0.54681295\n",
            "  0.99779259 0.76454573 0.96235928 0.73742761 0.45145892 0.76806601\n",
            "  0.94872116 0.15897524 0.71928919 0.16417363 0.66823415 0.24531602\n",
            "  0.55252005 0.76690644 0.47529872 0.44402284 0.48907042 0.14825119\n",
            "  0.82896797 0.56851976 0.01606269 0.54642768 0.55234182 0.19738876\n",
            "  0.28056494 0.40875412 0.51953886 0.84189209 0.83293504 0.11556404\n",
            "  0.1362527  0.037036   0.3288431  0.51620621]\n",
            " [0.66837001 0.26288287 0.39236017 0.58772511 0.42444234 0.57132145\n",
            "  0.57280694 0.41261169 0.53559964 0.59499443 0.5805221  0.18584522\n",
            "  0.32493669 0.15045296 0.51104421 0.44480993 0.60464978 0.24086638\n",
            "  0.4894927  0.42813693 0.4712199  0.46249946 0.34920417 0.51126723\n",
            "  0.59329929 0.18639232 0.74013935 0.38940295 0.09961475 0.6030516\n",
            "  0.         0.68342759 0.12267446 0.34639177 0.58720313 0.59445819\n",
            "  0.59226612 0.41901886 0.59449247 0.10192868 0.76766772 0.5592525\n",
            "  0.23375766 0.37757901 0.03883831 0.63791395 0.47388934 0.39454001\n",
            "  0.63518364 0.60038228 0.21608094 0.51261509 0.06200303 0.30684261\n",
            "  0.73194299 0.21616463 0.33087923 0.28035528 0.57528661 0.20776351\n",
            "  0.16426166 0.37113307 0.44271382 0.3598799  0.32193934 0.26700549\n",
            "  0.47531026 0.38302057 0.49532124 0.17353781 0.17343348 0.42753166\n",
            "  0.57412905 0.61253321 0.32114105 0.43979513 0.67567761 0.37747964\n",
            "  0.77922798 0.55187572 0.48706895 0.30130133 0.36334139 0.45480053\n",
            "  0.33760305 0.23637661 0.6059727  0.44185361 0.58785678 0.49819701\n",
            "  0.4343609  0.45131846 0.78255668 0.27981697 0.59727376 0.58430971\n",
            "  0.59468783 0.6020322  0.27606841 0.73648712]\n",
            " [0.54571533 0.90539686 0.72524767 0.33057506 0.64433873 0.11459197\n",
            "  0.91590947 0.37696686 0.72027414 0.18953569 0.30400763 0.6787861\n",
            "  0.73529898 0.55855426 0.56632666 0.39956748 0.50334448 0.86537897\n",
            "  0.92448783 0.51306202 0.40099637 0.24126546 0.79616651 0.37002333\n",
            "  0.36601546 0.49703536 0.14639155 0.51934595 0.63912216 0.62190279\n",
            "  0.68342759 0.         0.80390174 0.82097475 0.16672961 0.21956858\n",
            "  0.13476069 0.90644159 0.89454452 0.62275181 0.14321714 0.26975642\n",
            "  0.47604888 0.57218919 0.72128467 0.15875177 0.52454786 0.67999308\n",
            "  0.09587488 0.1482732  0.79452943 0.68718694 0.74230211 0.42939031\n",
            "  0.12281492 0.89654801 0.98672665 0.96301334 0.3931814  0.87107849\n",
            "  0.76334049 1.04044643 0.45522111 0.64504327 0.99446122 0.85680771\n",
            "  1.15207413 0.47292961 0.65004943 0.85330421 0.545466   0.43102621\n",
            "  0.54027407 0.76765287 0.98374164 0.56555092 0.06328688 0.49992513\n",
            "  0.18552382 0.30299833 0.20887924 0.80363934 0.32131976 0.58246129\n",
            "  1.02094044 0.84873734 0.60832893 0.24369979 0.09851944 0.73386929\n",
            "  0.76186071 0.88241379 0.22460697 0.95161253 0.34667542 0.50751775\n",
            "  0.74075271 0.65551619 0.60660693 0.1746543 ]\n",
            " [0.77120785 0.16196531 0.40782623 0.68540137 0.46525077 0.69257385\n",
            "  0.5538828  0.53123951 0.60718845 0.71749942 0.68133502 0.21809475\n",
            "  0.33165602 0.25517765 0.6071575  0.5604427  0.67882766 0.20641376\n",
            "  0.4524375  0.50026728 0.56249962 0.57826757 0.38281886 0.6277243\n",
            "  0.70947617 0.30751282 0.8546326  0.49269948 0.20329737 0.65668976\n",
            "  0.12267446 0.80390174 0.         0.32043543 0.70987308 0.70345092\n",
            "  0.71481475 0.37310728 0.58499606 0.21237623 0.88330892 0.66436974\n",
            "  0.35501805 0.47229694 0.08902681 0.76055644 0.5427649  0.46667102\n",
            "  0.75752847 0.71505164 0.17648579 0.54696846 0.06167338 0.41068234\n",
            "  0.84764465 0.11357017 0.25041458 0.15918839 0.68967325 0.13995381\n",
            "  0.1844682  0.27407046 0.55294261 0.43940071 0.20046426 0.20159576\n",
            "  0.36699052 0.49306559 0.57773442 0.08107967 0.27479051 0.54074723\n",
            "  0.67484969 0.63671342 0.20371267 0.50014381 0.79768427 0.45514002\n",
            "  0.89246511 0.67161284 0.60445009 0.27496654 0.48286701 0.51133785\n",
            "  0.21794071 0.16385901 0.66229966 0.56348502 0.70752677 0.51977096\n",
            "  0.44196931 0.4212933  0.89304728 0.18648922 0.71457069 0.65730068\n",
            "  0.62320448 0.64911065 0.33136535 0.84904073]\n",
            " [0.97988082 0.22967218 0.14074228 0.58082231 0.23836404 0.73061567\n",
            "  0.23356285 0.68613724 0.87986196 0.80788439 0.59023004 0.18279852\n",
            "  0.08854489 0.32805028 0.83769974 0.73030595 0.49581193 0.52676843\n",
            "  0.1439709  0.34738514 0.45569053 0.58115435 0.68884834 0.78854709\n",
            "  0.86714171 0.42255098 0.81549821 0.71016032 0.44148582 0.4230392\n",
            "  0.34639177 0.82097475 0.32043543 0.         0.789443   0.64756136\n",
            "  0.77969172 0.08857032 0.26565157 0.43801439 0.84992948 0.59482994\n",
            "  0.51296269 0.70999733 0.35036538 0.83983106 0.36899739 0.73966479\n",
            "  0.81110775 0.69092237 0.14400853 0.28652704 0.32027627 0.39685554\n",
            "  0.81755213 0.40977338 0.54807079 0.38246725 0.85792021 0.45658603\n",
            "  0.49142424 0.5461648  0.74611614 0.7030525  0.34138314 0.13999418\n",
            "  0.59743758 0.69061506 0.83495254 0.39444193 0.32394438 0.72312132\n",
            "  0.89215889 0.34797786 0.30560037 0.31358655 0.83940398 0.33409903\n",
            "  0.84209105 0.80664948 0.61468554 0.04616266 0.5330945  0.3113928\n",
            "  0.42957963 0.17336865 0.4343115  0.62362964 0.72469591 0.23870836\n",
            "  0.14917631 0.10498525 0.82624422 0.47837405 0.86514487 0.47390291\n",
            "  0.34252081 0.40161936 0.21456032 0.79792768]\n",
            " [0.38810266 0.83213297 0.71825756 0.41387041 0.65407237 0.10381553\n",
            "  0.92365074 0.22325137 0.55408623 0.02959202 0.38589466 0.62536501\n",
            "  0.71054398 0.4870971  0.39969924 0.2376351  0.576522   0.73914056\n",
            "  0.91018504 0.5326649  0.43708769 0.23649205 0.64587898 0.20339155\n",
            "  0.20516731 0.40702035 0.30633934 0.36018125 0.52499072 0.68068543\n",
            "  0.58720313 0.16672961 0.70987308 0.789443   0.         0.31047985\n",
            "  0.03527065 0.87778589 0.91123571 0.51026737 0.30880348 0.34267348\n",
            "  0.35953923 0.41369316 0.6224539  0.05159032 0.55756132 0.52090982\n",
            "  0.07272606 0.24059329 0.73476825 0.71482888 0.64881867 0.39553534\n",
            "  0.28407663 0.7902899  0.8647688  0.86602027 0.22956315 0.7558845\n",
            "  0.63899093 0.92313955 0.29175075 0.48866855 0.90808631 0.79809797\n",
            "  1.03793025 0.31616908 0.48427598 0.74754449 0.48042803 0.26992893\n",
            "  0.37470817 0.80882704 0.90321163 0.58587069 0.11752407 0.50334915\n",
            "  0.348597   0.13688233 0.2063029  0.76374483 0.25647566 0.60575762\n",
            "  0.92105759 0.78315885 0.66956513 0.16583212 0.14830689 0.75195108\n",
            "  0.76052033 0.86635648 0.38353141 0.83774893 0.18691724 0.57443606\n",
            "  0.78152715 0.70973087 0.57898216 0.32947969]\n",
            " [0.68802554 0.77278954 0.53477164 0.11136959 0.44481311 0.20666452\n",
            "  0.71144408 0.43272032 0.79586727 0.34007185 0.08444812 0.53508595\n",
            "  0.55917894 0.44844753 0.65660897 0.4743533  0.28392777 0.81346427\n",
            "  0.73404644 0.31292825 0.19751359 0.15189403 0.8006009  0.47581375\n",
            "  0.50635296 0.42138659 0.16799247 0.57028718 0.58179851 0.40267457\n",
            "  0.59445819 0.21956858 0.70345092 0.64756136 0.31047985 0.\n",
            "  0.27771545 0.72783725 0.68577213 0.56437125 0.20275457 0.05511982\n",
            "  0.44408899 0.61604404 0.63316572 0.33554525 0.3153482  0.71817447\n",
            "  0.27250585 0.07438262 0.65108849 0.4763581  0.64493785 0.29359587\n",
            "  0.17188564 0.80941324 0.92178362 0.85932113 0.52411112 0.7994836\n",
            "  0.71374948 0.96550879 0.52933706 0.67635644 0.87507843 0.70934863\n",
            "  1.06849799 0.52156579 0.72430865 0.7674998  0.42877591 0.49859354\n",
            "  0.65439395 0.55094607 0.85720837 0.36222456 0.26974766 0.31381828\n",
            "  0.19645546 0.42937988 0.1491711  0.63879459 0.26059748 0.37663184\n",
            "  0.91932277 0.70940669 0.38892364 0.24441293 0.1642384  0.52687435\n",
            "  0.56611033 0.69423029 0.19004418 0.87420729 0.49034262 0.28799559\n",
            "  0.52436001 0.436736   0.4407628  0.15183802]\n",
            " [0.42337245 0.83209335 0.70321074 0.38281272 0.63556402 0.07181695\n",
            "  0.90645604 0.2464044  0.58558193 0.06384243 0.35476445 0.61978079\n",
            "  0.69905612 0.48498818 0.43199921 0.26553782 0.54761964 0.75354547\n",
            "  0.89722997 0.5116702  0.41255304 0.21491895 0.66864347 0.23584275\n",
            "  0.24042354 0.40913391 0.27181449 0.38664379 0.53496462 0.65419734\n",
            "  0.59226612 0.13476069 0.71481475 0.77969172 0.03527065 0.27771545\n",
            "  0.         0.86770128 0.89236677 0.51966729 0.27541767 0.3120848\n",
            "  0.36917591 0.43988093 0.62839375 0.06473603 0.53447513 0.54752208\n",
            "  0.04677352 0.20675404 0.73115583 0.69341977 0.65339361 0.38358025\n",
            "  0.24979549 0.79883565 0.87806806 0.87217948 0.26455527 0.76693837\n",
            "  0.65256015 0.93513328 0.32078853 0.51390221 0.91153758 0.79445781\n",
            "  1.04915951 0.34126724 0.51529293 0.755842   0.47665889 0.29735434\n",
            "  0.40899932 0.78547765 0.90516196 0.56510086 0.09262982 0.48503353\n",
            "  0.31442033 0.1711986  0.18299343 0.75571359 0.24919343 0.58458667\n",
            "  0.92811109 0.78110135 0.64267986 0.15849231 0.11431775 0.73235101\n",
            "  0.74454602 0.85363393 0.34873467 0.84858351 0.22218659 0.54635889\n",
            "  0.75816162 0.68402452 0.56740336 0.29448281]\n",
            " [1.06453966 0.24863642 0.20082793 0.65539534 0.30085365 0.81778876\n",
            "  0.20007442 0.77323257 0.95460864 0.89636802 0.66674015 0.26819067\n",
            "  0.17114917 0.41474068 0.91937081 0.81681688 0.55577385 0.57563008\n",
            "  0.08250954 0.42127472 0.53318867 0.66749732 0.75211861 0.8757881\n",
            "  0.95475534 0.50917726 0.89578486 0.79254949 0.51687092 0.46886904\n",
            "  0.41901886 0.90644159 0.37310728 0.08857032 0.87778589 0.72783725\n",
            "  0.86770128 0.         0.24449545 0.51503114 0.93057091 0.67426285\n",
            "  0.59842316 0.78985361 0.41746796 0.92808288 0.43706842 0.81353307\n",
            "  0.8986271  0.77404973 0.20479033 0.32897156 0.38463296 0.48447999\n",
            "  0.89884168 0.44686826 0.57885222 0.40177398 0.94502262 0.50113388\n",
            "  0.55291832 0.56672694 0.83108178 0.77857429 0.34554839 0.17312006\n",
            "  0.60154623 0.77483496 0.91257923 0.43928995 0.41162596 0.80877547\n",
            "  0.97563123 0.36663592 0.30682508 0.38183497 0.92627292 0.41413277\n",
            "  0.92074229 0.89486149 0.70115825 0.1232227  0.62151346 0.37607341\n",
            "  0.43997614 0.21133838 0.48188585 0.71195715 0.81076523 0.27317501\n",
            "  0.18891816 0.06965475 0.90282138 0.50967208 0.95302048 0.53458717\n",
            "  0.3677407  0.44242477 0.30128473 0.87692943]\n",
            " [1.17194022 0.486593   0.21522079 0.58808145 0.2571968  0.82986643\n",
            "  0.05189818 0.86463886 1.11268604 0.93525324 0.60810022 0.41115776\n",
            "  0.27035033 0.53125208 1.0483753  0.91343619 0.44030304 0.79138026\n",
            "  0.16980414 0.383015   0.49358793 0.67775857 0.94317049 0.96203615\n",
            "  1.03337736 0.61872555 0.84467121 0.92029869 0.68130407 0.32174399\n",
            "  0.59449247 0.89454452 0.58499606 0.26565157 0.91123571 0.68577213\n",
            "  0.89236677 0.24449545 0.         0.6742468  0.88022871 0.63104328\n",
            "  0.71287401 0.93037491 0.60551177 0.95677178 0.37088598 0.97639563\n",
            "  0.91264891 0.74844704 0.40869499 0.20971286 0.57872076 0.52849545\n",
            "  0.8540319  0.67501617 0.81227843 0.64111107 1.03124586 0.72211737\n",
            "  0.749476   0.80619027 0.94106175 0.93644693 0.58921385 0.40138882\n",
            "  0.84580652 0.89177601 1.06043981 0.66002494 0.51766469 0.91376262\n",
            "  1.09296575 0.17055854 0.55076121 0.32974094 0.92959468 0.40789885\n",
            "  0.85883213 0.96305613 0.71061367 0.31024303 0.67104607 0.31214292\n",
            "  0.68269846 0.43722268 0.33768198 0.75249397 0.80944055 0.16095279\n",
            "  0.16833958 0.176854   0.83040223 0.74255227 1.02708061 0.42431307\n",
            "  0.18726058 0.28589822 0.36776968 0.81894682]\n",
            " [0.56654244 0.36318701 0.4641948  0.5767751  0.47851799 0.50845541\n",
            "  0.65722264 0.31984932 0.44219597 0.51464854 0.56495264 0.26387717\n",
            "  0.40432594 0.16668143 0.4094835  0.34806657 0.62265148 0.24962432\n",
            "  0.58197123 0.45457945 0.47307513 0.42063384 0.28702706 0.41537766\n",
            "  0.4971014  0.14372939 0.69619017 0.2874922  0.01742739 0.64089496\n",
            "  0.10192868 0.62275181 0.21237623 0.43801439 0.51026737 0.56437125\n",
            "  0.51966729 0.51503114 0.6742468  0.         0.72068922 0.53709135\n",
            "  0.15075588 0.2766582  0.12436033 0.55954694 0.50162825 0.30311528\n",
            "  0.56458072 0.55805914 0.31510911 0.5681851  0.1583741  0.29899165\n",
            "  0.68520678 0.28015316 0.36504293 0.35981177 0.47748562 0.24843543\n",
            "  0.14941529 0.41771666 0.34235079 0.26521319 0.41205536 0.36828382\n",
            "  0.53021024 0.28248266 0.39757072 0.23766557 0.18950162 0.3287733\n",
            "  0.47220038 0.6726297  0.41583574 0.47714703 0.60740938 0.400759\n",
            "  0.73764212 0.46086681 0.43999039 0.39439681 0.31308695 0.49490441\n",
            "  0.41245389 0.33824353 0.6413757  0.37912812 0.53138928 0.5627744\n",
            "  0.50898765 0.54201135 0.74657391 0.32949676 0.50233135 0.60411745\n",
            "  0.65222204 0.64543053 0.32852611 0.69687008]\n",
            " [0.68829778 0.9661013  0.73714075 0.29224164 0.64571171 0.23601191\n",
            "  0.90880799 0.50865823 0.85997346 0.33257405 0.27262942 0.73051588\n",
            "  0.76164896 0.62955959 0.70722162 0.53610902 0.45494532 0.96887841\n",
            "  0.93606336 0.51453233 0.39942984 0.30526041 0.91982943 0.5112247\n",
            "  0.50919933 0.58444757 0.03561084 0.65261567 0.7377817  0.57992412\n",
            "  0.76766772 0.14321714 0.88330892 0.84992948 0.30880348 0.20275457\n",
            "  0.27541767 0.93057091 0.88022871 0.72068922 0.         0.25690189\n",
            "  0.58194575 0.70446045 0.8064117  0.30120741 0.51304634 0.81200649\n",
            "  0.23903992 0.16868848 0.84723145 0.67063498 0.82280983 0.48230519\n",
            "  0.03572587 0.98374268 1.08529919 1.04171754 0.53636552 0.96575434\n",
            "  0.86689947 1.13461365 0.59251845 0.77497739 1.06406969 0.90693481\n",
            "  1.24248287 0.60491994 0.7891667  0.94085677 0.61248883 0.56663133\n",
            "  0.68318154 0.73558771 1.04878909 0.56241738 0.20338846 0.51649056\n",
            "  0.04636883 0.44557573 0.28148665 0.84001521 0.40800971 0.57555422\n",
            "  1.10111696 0.90459962 0.56474511 0.34969853 0.19767841 0.72375316\n",
            "  0.76748466 0.89660466 0.09139091 1.04405917 0.4898178  0.46507259\n",
            "  0.71006425 0.61614215 0.64132304 0.06443466]\n",
            " [0.70924962 0.72654898 0.4802495  0.07166573 0.38976795 0.24028753\n",
            "  0.65639808 0.43829197 0.79827527 0.37200523 0.04435748 0.48826945\n",
            "  0.50633322 0.41073359 0.66475855 0.48304062 0.23784211 0.78438688\n",
            "  0.67932468 0.25799776 0.14265402 0.14666635 0.78513715 0.49204375\n",
            "  0.53021818 0.39336204 0.22177749 0.57027938 0.55444869 0.35271488\n",
            "  0.5592525  0.26975642 0.66436974 0.59482994 0.34267348 0.05511982\n",
            "  0.3120848  0.67426285 0.63104328 0.53709135 0.25690189 0.\n",
            "  0.42678219 0.61324251 0.59763658 0.37318387 0.26041358 0.71216317\n",
            "  0.31328306 0.12157742 0.60343782 0.4217957  0.60713983 0.25382306\n",
            "  0.2267264  0.77239148 0.88888887 0.81842552 0.54521133 0.76601222\n",
            "  0.68628221 0.93014227 0.53617741 0.66928929 0.83092085 0.66063498\n",
            "  1.03077926 0.52226209 0.72731244 0.73110645 0.38985365 0.50470332\n",
            "  0.66868786 0.49828132 0.81174036 0.30711059 0.3158444  0.26074587\n",
            "  0.24739042 0.45211364 0.156241   0.58738855 0.2464855  0.32153971\n",
            "  0.87853682 0.66220795 0.33952788 0.25022718 0.20285853 0.47191243\n",
            "  0.51116684 0.63971645 0.23554451 0.8388647  0.51542276 0.23951402\n",
            "  0.47151209 0.38589757 0.39034246 0.20311188]\n",
            " [0.46722097 0.49220843 0.49778274 0.47838739 0.48085558 0.36145701\n",
            "  0.70645386 0.18182597 0.41988792 0.36446352 0.46137188 0.33038357\n",
            "  0.45630669 0.18629004 0.33566922 0.22030998 0.56083999 0.38946867\n",
            "  0.65312307 0.41617189 0.39763115 0.29336218 0.35838355 0.28350382\n",
            "  0.36512865 0.09420611 0.56007564 0.20815658 0.16580101 0.60757018\n",
            "  0.23375766 0.47604888 0.35501805 0.51296269 0.35953923 0.44408899\n",
            "  0.36917591 0.59842316 0.71287401 0.15075588 0.58194575 0.42678219\n",
            "  0.         0.22668216 0.26622523 0.40899692 0.46119798 0.30352431\n",
            "  0.41438787 0.42564649 0.41712281 0.56699915 0.29567088 0.23214641\n",
            "  0.54701606 0.43076555 0.51104287 0.50817617 0.35079879 0.39787366\n",
            "  0.2873501  0.56648866 0.23333816 0.25908422 0.55529198 0.47766882\n",
            "  0.68006571 0.17978779 0.35802472 0.38808569 0.19603923 0.21036006\n",
            "  0.38210554 0.67423475 0.5547656  0.4532223  0.45771047 0.36337865\n",
            "  0.60297874 0.31872371 0.30648259 0.47537471 0.18357403 0.47378677\n",
            "  0.56217581 0.45433477 0.60428781 0.23407313 0.3880053  0.57729256\n",
            "  0.54475181 0.60997417 0.61665675 0.47943444 0.3671669  0.54576639\n",
            "  0.65024928 0.62057187 0.34539363 0.56440216]\n",
            " [0.30185243 0.6320027  0.71549624 0.67465723 0.70608089 0.46848997\n",
            "  0.91948944 0.19586175 0.19418506 0.40164983 0.65336486 0.52983551\n",
            "  0.66587147 0.39919883 0.13487461 0.17705393 0.77831643 0.39560764\n",
            "  0.853634   0.64177964 0.61269436 0.4674909  0.24138052 0.23051559\n",
            "  0.29474622 0.31659352 0.69181725 0.05360151 0.27814216 0.83266408\n",
            "  0.37757901 0.57218919 0.47229694 0.70999733 0.41369316 0.61604404\n",
            "  0.43988093 0.78985361 0.93037491 0.2766582  0.70446045 0.61324251\n",
            "  0.22668216 0.         0.39249365 0.44806997 0.68611888 0.10780978\n",
            "  0.48516374 0.57627596 0.5916889  0.79302754 0.42827777 0.45607864\n",
            "  0.67339707 0.50074077 0.52141615 0.59335837 0.26465618 0.44415926\n",
            "  0.31766421 0.58796374 0.12943776 0.07673162 0.66019534 0.64457231\n",
            "  0.70362372 0.09955603 0.13163509 0.46627606 0.4140955  0.14444922\n",
            "  0.20434393 0.90027191 0.67223265 0.67982663 0.53086458 0.58951026\n",
            "  0.7363452  0.30089307 0.46704746 0.66785075 0.37112339 0.7004394\n",
            "  0.6339855  0.61350559 0.82873597 0.37325179 0.50947913 0.80097516\n",
            "  0.76215417 0.81227552 0.7609929  0.51980875 0.30857282 0.7648481\n",
            "  0.8765489  0.84669222 0.56601097 0.70544364]\n",
            " [0.68811414 0.24043523 0.40938274 0.62521206 0.4488081  0.60884552\n",
            "  0.58085472 0.44230003 0.54068594 0.62943826 0.61842888 0.20390271\n",
            "  0.33858294 0.18794711 0.52708361 0.47212573 0.63783978 0.20975652\n",
            "  0.49135901 0.4603758  0.50752685 0.50127572 0.33878287 0.53923185\n",
            "  0.62108733 0.22436504 0.77894592 0.40890824 0.11699215 0.63150103\n",
            "  0.03883831 0.72128467 0.08902681 0.35036538 0.6224539  0.63316572\n",
            "  0.62839375 0.41746796 0.60551177 0.12436033 0.8064117  0.59763658\n",
            "  0.26622523 0.39249365 0.         0.67289714 0.50555485 0.39915551\n",
            "  0.67170573 0.63919219 0.21268023 0.53575092 0.0358295  0.34482717\n",
            "  0.77068619 0.17736202 0.29360362 0.24378817 0.60179643 0.1706907\n",
            "  0.14456071 0.33256446 0.46639906 0.36747685 0.28948896 0.25688372\n",
            "  0.43647573 0.40649557 0.50488164 0.13469954 0.21046694 0.45313312\n",
            "  0.59263767 0.63332897 0.29168119 0.46928544 0.71260257 0.4107507\n",
            "  0.81806298 0.58259412 0.5256977  0.30441887 0.40164302 0.48341899\n",
            "  0.30023367 0.2231557  0.63508504 0.4791991  0.62601286 0.51774362\n",
            "  0.44946952 0.45513644 0.82135761 0.24125822 0.62591131 0.61720256\n",
            "  0.61660049 0.62884393 0.30294645 0.7753252 ]\n",
            " [0.38711223 0.8836468  0.76632314 0.44309107 0.6998512  0.13397087\n",
            "  0.97041699 0.26376066 0.57625711 0.04743923 0.41502917 0.67667522\n",
            "  0.76030017 0.53868022 0.42029959 0.27102804 0.60994048 0.78531878\n",
            "  0.95935862 0.57635437 0.4770805  0.27957157 0.68421935 0.22662814\n",
            "  0.20916605 0.45840333 0.30473688 0.39450666 0.57399384 0.71798836\n",
            "  0.63791395 0.15875177 0.76055644 0.83983106 0.05159032 0.33554525\n",
            "  0.06473603 0.92808288 0.95677178 0.55954694 0.30120741 0.37318387\n",
            "  0.40899692 0.44806997 0.67289714 0.         0.59917322 0.55401814\n",
            "  0.06687361 0.26247321 0.78630289 0.75814346 0.6996226  0.44494994\n",
            "  0.28134883 0.83969179 0.911579   0.91628322 0.23811967 0.80410931\n",
            "  0.68585425 0.97072069 0.32208203 0.5241241  0.95907498 0.84963488\n",
            "  1.08589114 0.35298519 0.50816726 0.79707469 0.53191934 0.30363305\n",
            "  0.38672185 0.85012602 0.95448357 0.62977005 0.09832322 0.54923093\n",
            "  0.34424722 0.15481002 0.24772944 0.8146066  0.30723127 0.64929145\n",
            "  0.97099124 0.83474903 0.70628239 0.21632359 0.17145676 0.79688068\n",
            "  0.80805066 0.9156282  0.38298178 0.886032   0.18949473 0.60931007\n",
            "  0.82281016 0.74812695 0.62865923 0.33148089]\n",
            " [0.86886589 0.55036987 0.23632386 0.22407804 0.13743473 0.46776947\n",
            "  0.3962698  0.56333227 0.8802127  0.58401514 0.24063583 0.3282498\n",
            "  0.28397294 0.33618993 0.77802965 0.61378093 0.13731566 0.71456398\n",
            "  0.42854819 0.04706263 0.12417095 0.32114468 0.78668517 0.64792287\n",
            "  0.70819545 0.38188784 0.47744671 0.65880684 0.51616807 0.14654737\n",
            "  0.47388934 0.52454786 0.5427649  0.36899739 0.55756132 0.3153482\n",
            "  0.53447513 0.43706842 0.37088598 0.50162825 0.51304634 0.26041358\n",
            "  0.46119798 0.68611888 0.50555485 0.59917322 0.         0.76300508\n",
            "  0.5494187  0.37774027 0.42397832 0.16264602 0.49941602 0.23009179\n",
            "  0.48522419 0.65623312 0.79124299 0.6748914  0.71322251 0.67194331\n",
            "  0.63294552 0.81604786 0.65473162 0.71875521 0.66485442 0.46858021\n",
            "  0.89886607 0.61866946 0.81584724 0.62161413 0.3126453  0.6237364\n",
            "  0.80511247 0.25127009 0.63726812 0.05549435 0.56248043 0.1012102\n",
            "  0.49571698 0.63215545 0.3516734  0.37539623 0.34732135 0.06323302\n",
            "  0.73299637 0.48231939 0.14323993 0.41198253 0.44277357 0.21152935\n",
            "  0.25868606 0.39219016 0.47235183 0.72922237 0.6981763  0.11525789\n",
            "  0.22397701 0.16371479 0.21253158 0.45384932]\n",
            " [0.35324931 0.62855785 0.76434216 0.77100325 0.76750226 0.57599928\n",
            "  0.96028545 0.30356951 0.14153066 0.50802078 0.7509685  0.56690194\n",
            "  0.70705264 0.45256802 0.18485613 0.28354975 0.86412749 0.3449555\n",
            "  0.88335377 0.7172131  0.70006211 0.56792147 0.1529146  0.33232848\n",
            "  0.38846705 0.38282159 0.79892417 0.16088362 0.29827814 0.90880253\n",
            "  0.39454001 0.67999308 0.46667102 0.73966479 0.52090982 0.71817447\n",
            "  0.54752208 0.81353307 0.97639563 0.30311528 0.81200649 0.71216317\n",
            "  0.30352431 0.10780978 0.39915551 0.55401814 0.76300508 0.\n",
            "  0.59263385 0.68131403 0.60981743 0.85636696 0.43419095 0.53534663\n",
            "  0.78073551 0.47008596 0.4625643  0.56422113 0.35641474 0.40714114\n",
            "  0.29009462 0.53040857 0.23249433 0.04444157 0.63757932 0.65599522\n",
            "  0.6426137  0.20727644 0.11836029 0.44223897 0.47111887 0.25106885\n",
            "  0.25973384 0.96298673 0.65545141 0.75074335 0.63824078 0.66358247\n",
            "  0.84345719 0.40418608 0.56983461 0.69520075 0.46691949 0.77059602\n",
            "  0.5966567  0.62160947 0.90624479 0.47744968 0.61654397 0.85791068\n",
            "  0.80994162 0.8441855  0.8673881  0.47423114 0.40426282 0.84925458\n",
            "  0.94065302 0.91973362 0.62125741 0.81195841]\n",
            " [0.45111698 0.87164769 0.72893165 0.38180399 0.65701182 0.08292567\n",
            "  0.92900504 0.29258686 0.62660953 0.09371489 0.35384731 0.65541153\n",
            "  0.72884436 0.52372482 0.47190811 0.30980115 0.55104098 0.79978592\n",
            "  0.92500569 0.53007423 0.4258315  0.23622229 0.71508127 0.2756981\n",
            "  0.27044078 0.45084409 0.2398657  0.43177458 0.58006734 0.66238912\n",
            "  0.63518364 0.09587488 0.75752847 0.81110775 0.07272606 0.27250585\n",
            "  0.04677352 0.8986271  0.91264891 0.56458072 0.23903992 0.31328306\n",
            "  0.41438787 0.48516374 0.67170573 0.06687361 0.5494187  0.59263385\n",
            "  0.         0.19855717 0.76818571 0.71041731 0.69597827 0.41425238\n",
            "  0.21681383 0.84319718 0.92402006 0.9153997  0.29732596 0.81226033\n",
            "  0.69864434 0.98070091 0.36430575 0.55960728 0.95325736 0.83136948\n",
            "  1.09445103 0.38694786 0.55693165 0.80012407 0.51418924 0.34192569\n",
            "  0.44445658 0.79905337 0.94596905 0.58357165 0.0460176  0.5074385\n",
            "  0.2805993  0.20748783 0.20267598 0.78885513 0.28556235 0.60235831\n",
            "  0.97173748 0.81926057 0.65010937 0.19659631 0.11049361 0.75195068\n",
            "  0.76901136 0.88174597 0.31794912 0.8937986  0.25123471 0.55167421\n",
            "  0.77178147 0.69364319 0.59749191 0.26559508]\n",
            " [0.62379465 0.79817659 0.58647019 0.18533435 0.50134061 0.13754155\n",
            "  0.77147659 0.38589865 0.74886998 0.27007344 0.15788473 0.56366688\n",
            "  0.60346709 0.46096256 0.60443747 0.42344061 0.35728636 0.8074339\n",
            "  0.78630559 0.36922557 0.25522345 0.13826106 0.77509589 0.41728565\n",
            "  0.44093884 0.41897438 0.1397635  0.52776667 0.57534816 0.47414507\n",
            "  0.60038228 0.1482732  0.71505164 0.69092237 0.24059329 0.07438262\n",
            "  0.20675404 0.77404973 0.74844704 0.55805914 0.16868848 0.12157742\n",
            "  0.42564649 0.57627596 0.63919219 0.26247321 0.37774027 0.68131403\n",
            "  0.19855717 0.         0.68047659 0.54019968 0.65477253 0.31428008\n",
            "  0.13329834 0.81654688 0.92122527 0.87326015 0.46081471 0.80061569\n",
            "  0.70601951 0.96889994 0.47968699 0.64112868 0.89544432 0.7408826\n",
            "  1.0756022  0.47885086 0.67708905 0.77382175 0.44380048 0.45012023\n",
            "  0.59626054 0.61941321 0.88045247 0.42080152 0.19567261 0.36163957\n",
            "  0.17973342 0.3655061  0.11921512 0.677972   0.2453435  0.43688778\n",
            "  0.93274769 0.73734373 0.46079272 0.20418776 0.09243629 0.58821892\n",
            "  0.62083319 0.74521073 0.19113851 0.87802756 0.42409407 0.36033405\n",
            "  0.59253932 0.50746779 0.47902112 0.13907924]\n",
            " [0.87555454 0.12692936 0.24390716 0.60656214 0.31905777 0.69272562\n",
            "  0.37755334 0.59792902 0.75116048 0.74897284 0.60944296 0.11681081\n",
            "  0.16674032 0.24834192 0.72366232 0.63733642 0.56052688 0.38288317\n",
            "  0.28001511 0.38910046 0.47784559 0.55446806 0.54848074 0.7003026\n",
            "  0.78149944 0.33696579 0.81488404 0.59899874 0.31522012 0.51455008\n",
            "  0.21608094 0.79452943 0.17648579 0.14400853 0.73476825 0.65108849\n",
            "  0.73115583 0.20479033 0.40869499 0.31510911 0.84723145 0.60343782\n",
            "  0.41712281 0.5916889  0.21268023 0.78630289 0.42397832 0.60981743\n",
            "  0.76818571 0.68047659 0.         0.39098192 0.18006937 0.36722126\n",
            "  0.81273504 0.2708305  0.4111233  0.25981095 0.76792002 0.31375522\n",
            "  0.34980055 0.41694082 0.64457006 0.57588523 0.24090885 0.06333543\n",
            "  0.48332888 0.58629789 0.71131919 0.25191209 0.25454397 0.62519621\n",
            "  0.78364731 0.47138612 0.21406988 0.37321649 0.80227821 0.35652173\n",
            "  0.84725167 0.72910591 0.58586866 0.0985032  0.48265422 0.37904064\n",
            "  0.31441851 0.05949964 0.52279315 0.57271793 0.6960453  0.35547281\n",
            "  0.27204574 0.24622142 0.8389515  0.34202969 0.78232371 0.53822248\n",
            "  0.46083984 0.50080093 0.21916448 0.80264694]\n",
            " [1.00508912 0.50610778 0.14949744 0.37862588 0.08967039 0.62822374\n",
            "  0.24013486 0.69620098 0.98406449 0.74033442 0.39839485 0.33341184\n",
            "  0.22481122 0.40525283 0.89849025 0.74642931 0.23970784 0.74225513\n",
            "  0.2967571  0.1822241  0.28660959 0.47871954 0.85355338 0.78775048\n",
            "  0.85351876 0.47687245 0.63506124 0.7736173  0.57954565 0.13990883\n",
            "  0.51261509 0.68718694 0.54696846 0.28652704 0.71482888 0.4763581\n",
            "  0.69341977 0.32897156 0.20971286 0.5681851  0.67063498 0.4217957\n",
            "  0.56699915 0.79302754 0.53575092 0.75814346 0.16264602 0.85636696\n",
            "  0.71041731 0.54019968 0.39098192 0.         0.51902453 0.35297524\n",
            "  0.64431931 0.65493761 0.795474   0.65050353 0.85531642 0.68579299\n",
            "  0.67682335 0.80703258 0.78144369 0.81344113 0.62155325 0.41617569\n",
            "  0.87275267 0.73852844 0.92464091 0.62796808 0.38550543 0.75186289\n",
            "  0.9339618  0.10724817 0.58797925 0.12947276 0.72469491 0.21914055\n",
            "  0.64993532 0.77965359 0.51047387 0.31174734 0.48836413 0.10911569\n",
            "  0.70346813 0.44122893 0.15322101 0.56244663 0.60478273 0.05936086\n",
            "  0.14104212 0.26936159 0.6226725  0.72809332 0.84512719 0.22118569\n",
            "  0.08435358 0.11520064 0.23992316 0.60962773]\n",
            " [0.7234522  0.20517027 0.38767088 0.63090683 0.43373442 0.63090427\n",
            "  0.55229061 0.47387304 0.57570001 0.65686266 0.62566945 0.18561279\n",
            "  0.31469966 0.1965989  0.56282658 0.50502483 0.63375008 0.22323322\n",
            "  0.45979351 0.45533187 0.51016426 0.51761629 0.36882482 0.57183131\n",
            "  0.65380162 0.24584005 0.79445793 0.44420498 0.15208976 0.62047558\n",
            "  0.06200303 0.74230211 0.06167338 0.32027627 0.64881867 0.64493785\n",
            "  0.65339361 0.38463296 0.57872076 0.1583741  0.82280983 0.60713983\n",
            "  0.29567088 0.42827777 0.0358295  0.6996226  0.49941602 0.43419095\n",
            "  0.69597827 0.65477253 0.18006937 0.51902453 0.         0.35334076\n",
            "  0.78711926 0.1654825  0.29274482 0.220716   0.63511485 0.1725508\n",
            "  0.17129951 0.32509188 0.50072456 0.40299263 0.25994715 0.22185317\n",
            "  0.42373288 0.44085223 0.54053883 0.12555535 0.21736549 0.48677367\n",
            "  0.62814558 0.61405746 0.2595601  0.46020075 0.73604441 0.40767748\n",
            "  0.83268464 0.61350899 0.54341083 0.27414146 0.42136045 0.47312537\n",
            "  0.27907671 0.18763847 0.62490731 0.50181683 0.64603878 0.49769041\n",
            "  0.4260383  0.42458447 0.83415283 0.23467429 0.65816862 0.61266025\n",
            "  0.59842094 0.61582549 0.29185914 0.78945802]\n",
            " [0.65216872 0.48390351 0.32518638 0.28169012 0.27551035 0.33406619\n",
            "  0.53464193 0.34322823 0.65021761 0.41615991 0.27368406 0.25059779\n",
            "  0.31548707 0.15716917 0.55020302 0.39346093 0.33149435 0.53855004\n",
            "  0.51466276 0.18653066 0.17454366 0.18820045 0.5725735  0.43614949\n",
            "  0.50525195 0.16173685 0.4511373  0.42918094 0.31562786 0.37663348\n",
            "  0.30684261 0.42939031 0.41068234 0.39685554 0.39553534 0.29359587\n",
            "  0.38358025 0.48447999 0.52849545 0.29899165 0.48230519 0.25382306\n",
            "  0.23214641 0.45607864 0.34482717 0.44494994 0.23009179 0.53534663\n",
            "  0.41425238 0.31428008 0.36722126 0.35297524 0.35334076 0.\n",
            "  0.44729832 0.51867058 0.63756217 0.56578056 0.50458872 0.51444774\n",
            "  0.44445762 0.6769359  0.42974561 0.49093995 0.58271616 0.42861986\n",
            "  0.7769563  0.39023267 0.5857808  0.47760015 0.1360315  0.39963559\n",
            "  0.58183939 0.4582718  0.56655237 0.22922236 0.4432973  0.13657043\n",
            "  0.48624279 0.43460374 0.22066586 0.37568923 0.14358182 0.2505026\n",
            "  0.62581388 0.423391   0.3726983  0.23046376 0.33141027 0.37612174\n",
            "  0.36930401 0.47082114 0.48361688 0.58575104 0.49861872 0.31523081\n",
            "  0.43257553 0.39187616 0.18382653 0.44206411]\n",
            " [0.66785874 0.9311775  0.70661996 0.26733463 0.61642098 0.20515428\n",
            "  0.88143876 0.47783468 0.83189219 0.30927047 0.2459629  0.6959714\n",
            "  0.72942051 0.5939998  0.68017405 0.50688026 0.43406062 0.93354638\n",
            "  0.90593208 0.48472332 0.36934889 0.26954916 0.88659455 0.48478434\n",
            "  0.48706364 0.54875739 0.0237951  0.6219408  0.70231926 0.55829004\n",
            "  0.73194299 0.12281492 0.84764465 0.81755213 0.28407663 0.17188564\n",
            "  0.24979549 0.89884168 0.8540319  0.68520678 0.03572587 0.2267264\n",
            "  0.54701606 0.67339707 0.77068619 0.28134883 0.48522419 0.78073551\n",
            "  0.21681383 0.13329834 0.81273504 0.64431931 0.78711926 0.44729832\n",
            "  0.         0.94801682 1.04973563 1.00609273 0.51315593 0.93010678\n",
            "  0.83160777 1.09893719 0.56349143 0.74318436 1.02874221 0.87267346\n",
            "  1.20676081 0.57394396 0.76079257 0.90513139 0.57703947 0.53694865\n",
            "  0.65873577 0.71240854 1.01366754 0.53350094 0.18559383 0.48472319\n",
            "  0.06468212 0.42088904 0.24582363 0.80686565 0.37242329 0.54727829\n",
            "  1.06546964 0.86993511 0.54339764 0.31540742 0.16477794 0.6964893\n",
            "  0.73789233 0.86606661 0.1018076  1.00836431 0.46797072 0.44290428\n",
            "  0.68653352 0.59409315 0.60801025 0.05552614]\n",
            " [0.80237831 0.20290813 0.51200105 0.79622739 0.57543225 0.78332108\n",
            "  0.63922851 0.59528637 0.60382253 0.79476858 0.79114973 0.33035722\n",
            "  0.43482596 0.36166743 0.6324874  0.61721954 0.79238521 0.14368093\n",
            "  0.52905995 0.61383464 0.67461296 0.67863457 0.35491016 0.68500232\n",
            "  0.76494269 0.40068389 0.95630339 0.53137675 0.26607316 0.76830515\n",
            "  0.21616463 0.89654801 0.11357017 0.40977338 0.7902899  0.80941324\n",
            "  0.79883565 0.44686826 0.67501617 0.28015316 0.98374268 0.77239148\n",
            "  0.43076555 0.50074077 0.17736202 0.83969179 0.65623312 0.47008596\n",
            "  0.84319718 0.81654688 0.2708305  0.65493761 0.1654825  0.51867058\n",
            "  0.94801682 0.         0.14080621 0.09414628 0.74165636 0.06644504\n",
            "  0.18357333 0.16070898 0.60010884 0.45228546 0.16976821 0.27550817\n",
            "  0.25927424 0.54165808 0.58736198 0.04324436 0.38278036 0.59335281\n",
            "  0.70474889 0.74080979 0.19421035 0.61310423 0.8852046  0.56857096\n",
            "  0.99533776 0.73657579 0.70287574 0.36683101 0.57824902 0.6238525\n",
            "  0.13525924 0.23834626 0.77433087 0.65344897 0.80212596 0.62419301\n",
            "  0.54262818 0.50369514 0.99812682 0.07358701 0.7725428  0.77084052\n",
            "  0.72884768 0.75950736 0.44452735 0.95250152]\n",
            " [0.81343239 0.33046073 0.65280422 0.91860123 0.71519606 0.87219033\n",
            "  0.77471736 0.65397391 0.57932536 0.86494298 0.91122388 0.46850378\n",
            "  0.57561595 0.48129166 0.64216727 0.6661376  0.92625303 0.12808531\n",
            "  0.66136173 0.7476981  0.80092903 0.7831208  0.31971718 0.73218339\n",
            "  0.80755117 0.50246133 1.06012363 0.56242077 0.34822303 0.90710276\n",
            "  0.33087923 0.98672665 0.25041458 0.54807079 0.8647688  0.92178362\n",
            "  0.87806806 0.57885222 0.81227843 0.36504293 1.08529919 0.88888887\n",
            "  0.51104287 0.52141615 0.29360362 0.911579   0.79124299 0.4625643\n",
            "  0.92402006 0.92122527 0.4111233  0.795474   0.29274482 0.63756217\n",
            "  1.04973563 0.14080621 0.         0.18337885 0.78049943 0.12312505\n",
            "  0.22578163 0.06786339 0.6379677  0.45789528 0.25895458 0.41103818\n",
            "  0.18220795 0.58403136 0.57984886 0.16995115 0.50402993 0.63813436\n",
            "  0.7172341  0.88158185 0.29456083 0.74999524 0.96806669 0.70042019\n",
            "  1.10095715 0.79199944 0.80409183 0.50607529 0.67731805 0.76157314\n",
            "  0.17437694 0.37513012 0.91268262 0.7435178  0.8963196  0.76499202\n",
            "  0.68312007 0.63880985 1.10767756 0.06973158 0.81813994 0.90503701\n",
            "  0.86964868 0.89920325 0.58108496 1.05942068]\n",
            " [0.89518266 0.15452272 0.50234616 0.83508932 0.57827754 0.85144161\n",
            "  0.60055264 0.67892479 0.69753029 0.87241238 0.83292204 0.34755717\n",
            "  0.42577654 0.41246818 0.72576978 0.703646   0.81220593 0.23210577\n",
            "  0.48394282 0.63582857 0.70940498 0.73693495 0.44647659 0.77144872\n",
            "  0.85217606 0.46632262 1.01265536 0.62235819 0.34751009 0.7737297\n",
            "  0.28035528 0.96301334 0.15918839 0.38246725 0.86602027 0.85932113\n",
            "  0.87217948 0.40177398 0.64111107 0.35981177 1.04171754 0.81842552\n",
            "  0.50817617 0.59335837 0.24378817 0.91628322 0.6748914  0.56422113\n",
            "  0.9153997  0.87326015 0.25981095 0.65050353 0.220716   0.56578056\n",
            "  1.00609273 0.09414628 0.18337885 0.         0.8299266  0.15860885\n",
            "  0.27712712 0.16517112 0.68935784 0.54623256 0.08004573 0.24247679\n",
            "  0.22450001 0.63032107 0.68150077 0.12765998 0.43085897 0.6810442\n",
            "  0.79759807 0.72691009 0.11212509 0.62718489 0.95603091 0.59557716\n",
            "  1.04995316 0.82021438 0.76344766 0.34485553 0.64204637 0.63506449\n",
            "  0.06012516 0.21115107 0.78151375 0.72213405 0.86671207 0.61261702\n",
            "  0.52612893 0.46508286 1.04926564 0.11977437 0.85894384 0.79012202\n",
            "  0.71818557 0.76058487 0.46303959 1.00628163]\n",
            " [0.16412547 0.8379532  0.82148285 0.6163839  0.78009864 0.32482054\n",
            "  1.03316139 0.17179534 0.34697095 0.20395489 0.58956687 0.67724604\n",
            "  0.79300138 0.53031615 0.19212144 0.1309767  0.76337198 0.65289756\n",
            "  0.99409362 0.67818641 0.60610117 0.41042942 0.50385092 0.06972749\n",
            "  0.03324159 0.43601098 0.53567542 0.21852009 0.48656829 0.85138714\n",
            "  0.57528661 0.3931814  0.68967325 0.85792021 0.22956315 0.52411112\n",
            "  0.26455527 0.94502262 1.03124586 0.47748562 0.53636552 0.54521133\n",
            "  0.35079879 0.26465618 0.60179643 0.23811967 0.71322251 0.35641474\n",
            "  0.29732596 0.46081471 0.76792002 0.85531642 0.63511485 0.50458872\n",
            "  0.51315593 0.74165636 0.78049943 0.8299266  0.         0.69197997\n",
            "  0.56495205 0.84567378 0.14282407 0.33870742 0.88818893 0.82832478\n",
            "  0.96214757 0.20002896 0.28388893 0.7028105  0.53423399 0.14913486\n",
            "  0.14880841 0.95816644 0.89329113 0.72760057 0.33587356 0.63619444\n",
            "  0.5774426  0.09533972 0.39091339 0.82280778 0.36741766 0.74885184\n",
            "  0.87690333 0.80409123 0.84281052 0.30631424 0.37166937 0.88070949\n",
            "  0.8675875  0.95018523 0.61306176 0.7714404  0.05207775 0.7567668\n",
            "  0.93160453 0.87522767 0.66939997 0.55902279]\n",
            " [0.74468226 0.26322159 0.54774317 0.7954886  0.60270795 0.75685618\n",
            "  0.68892103 0.55270321 0.53910343 0.75823122 0.78811794 0.35418688\n",
            "  0.47160536 0.35819494 0.57386155 0.57072077 0.80597112 0.07827505\n",
            "  0.58254044 0.62770225 0.67820454 0.66237356 0.28859185 0.63814463\n",
            "  0.71668401 0.38165426 0.9398908  0.47806675 0.23241004 0.79189772\n",
            "  0.20776351 0.87107849 0.13995381 0.45658603 0.7558845  0.7994836\n",
            "  0.76693837 0.50113388 0.72211737 0.24843543 0.96575434 0.76601222\n",
            "  0.39787366 0.44415926 0.1706907  0.80410931 0.67194331 0.40714114\n",
            "  0.81226033 0.80061569 0.31375522 0.68579299 0.1725508  0.51444774\n",
            "  0.93010678 0.06644504 0.12312505 0.15860885 0.69197997 0.\n",
            "  0.12738598 0.16942577 0.54946546 0.39167225 0.2359167  0.32813919\n",
            "  0.28222184 0.49225685 0.52501645 0.06224748 0.38099901 0.54515022\n",
            "  0.64709466 0.77656176 0.26057518 0.63250428 0.85547383 0.57944182\n",
            "  0.98026747 0.69320611 0.68428581 0.41195928 0.55787813 0.6450539\n",
            "  0.19061287 0.29005782 0.79671937 0.62739403 0.77899382 0.65962081\n",
            "  0.58179343 0.55450456 0.98604392 0.08194041 0.72541063 0.78498518\n",
            "  0.76278742 0.78597754 0.46386066 0.93836644]\n",
            " [0.61900125 0.34339417 0.55362598 0.72449291 0.58870208 0.64875339\n",
            "  0.7235811  0.42967532 0.42785537 0.63929212 0.71345066 0.34750913\n",
            "  0.48314157 0.29887817 0.44892088 0.44508918 0.76007608 0.10217808\n",
            "  0.62978669 0.58645095 0.61685806 0.56917613 0.19932652 0.51219294\n",
            "  0.59006125 0.29299976 0.84335654 0.35068923 0.13199628 0.76560029\n",
            "  0.16426166 0.76334049 0.1844682  0.49142424 0.63899093 0.71374948\n",
            "  0.65256015 0.55291832 0.749476   0.14941529 0.86689947 0.68628221\n",
            "  0.2873501  0.31766421 0.14456071 0.68585425 0.63294552 0.29009462\n",
            "  0.69864434 0.70601951 0.34980055 0.67682335 0.17129951 0.44445762\n",
            "  0.83160777 0.18357333 0.22578163 0.27712712 0.56495205 0.12738598\n",
            "  0.         0.28584566 0.42230797 0.26939462 0.34807603 0.38434281\n",
            "  0.40208099 0.36551574 0.40584829 0.15241147 0.32285768 0.4187728\n",
            "  0.52136301 0.7761622  0.36536836 0.60174753 0.74293026 0.53413023\n",
            "  0.8852925  0.56909452 0.58738458 0.44526656 0.46068822 0.61746739\n",
            "  0.31633891 0.34728531 0.76792667 0.52118196 0.67486146 0.66119111\n",
            "  0.59400833 0.59544942 0.8952594  0.20664327 0.59921215 0.74051567\n",
            "  0.75868106 0.76562885 0.44002187 0.84502224]\n",
            " [0.88102977 0.31961595 0.66084408 0.95589408 0.73054989 0.92617186\n",
            "  0.76570963 0.71549564 0.64668186 0.92442729 0.95015772 0.48885433\n",
            "  0.58362282 0.51977455 0.70968787 0.72952747 0.95251663 0.19286126\n",
            "  0.648739   0.77407767 0.8350299  0.83064312 0.38720032 0.7960371\n",
            "  0.87225726 0.5502091  1.10837838 0.62803147 0.40150581 0.92484606\n",
            "  0.37113307 1.04044643 0.27407046 0.5461648  0.92313955 0.96550879\n",
            "  0.93513328 0.56672694 0.80619027 0.41771666 1.13461365 0.93014227\n",
            "  0.56648866 0.58796374 0.33256446 0.97072069 0.81604786 0.53040857\n",
            "  0.98070091 0.96889994 0.41694082 0.80703258 0.32509188 0.6769359\n",
            "  1.09893719 0.16070898 0.06786339 0.16517112 0.84567378 0.16942577\n",
            "  0.28584566 0.         0.70295236 0.52532285 0.22912424 0.4064447\n",
            "  0.11663575 0.64819855 0.64771138 0.19965724 0.54153719 0.70211356\n",
            "  0.78469454 0.88776035 0.26753212 0.77191453 1.02419822 0.72920364\n",
            "  1.14839867 0.85454626 0.85312953 0.50698387 0.72694376 0.78194212\n",
            "  0.13493305 0.37334782 0.93148236 0.79677858 0.94840602 0.7723044\n",
            "  0.68739615 0.63025168 1.15313084 0.09131611 0.88242204 0.93087762\n",
            "  0.87774714 0.91435476 0.60386678 1.10618058]\n",
            " [0.23388355 0.70533465 0.72693275 0.60309583 0.69960016 0.35912884\n",
            "  0.9372678  0.09804558 0.26972455 0.27671931 0.57900344 0.56338916\n",
            "  0.68898067 0.41950286 0.12884969 0.05677322 0.72802634 0.51023678\n",
            "  0.88645449 0.61428033 0.56319424 0.39022406 0.37065137 0.10107863\n",
            "  0.16978042 0.32607027 0.58347087 0.07822777 0.34979284 0.79930654\n",
            "  0.44271382 0.45522111 0.55294261 0.74611614 0.29175075 0.52933706\n",
            "  0.32078853 0.83108178 0.94106175 0.34235079 0.59251845 0.53617741\n",
            "  0.23333816 0.12943776 0.46639906 0.32208203 0.65473162 0.23249433\n",
            "  0.36430575 0.47968699 0.64457006 0.78144369 0.50072456 0.42974561\n",
            "  0.56349143 0.60010884 0.6379677  0.68935784 0.14282407 0.54946546\n",
            "  0.42230797 0.70295236 0.         0.20610515 0.74967841 0.70287698\n",
            "  0.81946705 0.05990761 0.19806734 0.56190578 0.42794679 0.03190742\n",
            "  0.15267869 0.88756074 0.75657846 0.65894077 0.40921676 0.56622218\n",
            "  0.62766999 0.17192967 0.38181878 0.70789462 0.31303406 0.68023803\n",
            "  0.73526507 0.67614098 0.79304257 0.28633406 0.40332477 0.798836\n",
            "  0.7738282  0.84326467 0.65623449 0.62870209 0.18165835 0.71758333\n",
            "  0.86211846 0.81838501 0.5735997  0.60048544]\n",
            " [0.35598653 0.60126469 0.72363172 0.72752789 0.72476662 0.53907723\n",
            "  0.92140725 0.26809061 0.17701748 0.4774849  0.70775556 0.5281746\n",
            "  0.66776585 0.41047202 0.18447013 0.25315985 0.81969975 0.33539287\n",
            "  0.84695646 0.67303169 0.65569602 0.52562641 0.16538494 0.30716338\n",
            "  0.36957801 0.33899681 0.7608991  0.12982614 0.26184018 0.86463293\n",
            "  0.3598799  0.64504327 0.43940071 0.7030525  0.48866855 0.67635644\n",
            "  0.51390221 0.77857429 0.93644693 0.26521319 0.77497739 0.66928929\n",
            "  0.25908422 0.07673162 0.36747685 0.5241241  0.71875521 0.04444157\n",
            "  0.55960728 0.64112868 0.57588523 0.81344113 0.40299263 0.49093995\n",
            "  0.74318436 0.45228546 0.45789528 0.54623256 0.33870742 0.39167225\n",
            "  0.26939462 0.52532285 0.20610515 0.         0.61724654 0.62410913\n",
            "  0.639624   0.17266163 0.13833528 0.42158328 0.42854767 0.22058208\n",
            "  0.25937376 0.92020545 0.6329547  0.70691772 0.60546354 0.61946528\n",
            "  0.80541265 0.37761949 0.52846159 0.65907158 0.42360937 0.72685052\n",
            "  0.58224288 0.59061097 0.86199436 0.43699161 0.57860911 0.81590952\n",
            "  0.76948494 0.80720016 0.82830815 0.46304465 0.38404356 0.80481356\n",
            "  0.89767607 0.87579324 0.57925096 0.77305612]\n",
            " [0.96175005 0.11607379 0.47205581 0.8408482  0.55660924 0.88531058\n",
            "  0.54561088 0.73153129 0.77287241 0.91664589 0.84135173 0.34606008\n",
            "  0.39833648 0.43669156 0.79394898 0.75976886 0.80142879 0.31117961\n",
            "  0.42593479 0.6292882  0.71293459 0.76188537 0.52449979 0.82727245\n",
            "  0.90880988 0.50247878 1.03356049 0.68584795 0.40184365 0.75125111\n",
            "  0.32193934 0.99446122 0.20046426 0.34138314 0.90808631 0.87507843\n",
            "  0.91153758 0.34554839 0.58921385 0.41205536 1.06406969 0.83092085\n",
            "  0.55529198 0.66019534 0.28948896 0.95907498 0.66485442 0.63757932\n",
            "  0.95325736 0.89544432 0.24090885 0.62155325 0.25994715 0.58271616\n",
            "  1.02874221 0.16976821 0.25895458 0.08004573 0.88818893 0.2359167\n",
            "  0.34807603 0.22912424 0.74967841 0.61724654 0.         0.20538131\n",
            "  0.25725264 0.69003401 0.75390475 0.19568867 0.45207355 0.73906538\n",
            "  0.86445247 0.68935717 0.03911728 0.61403189 0.99216949 0.59411056\n",
            "  1.06894432 0.87204363 0.790357   0.31001858 0.67346587 0.61934805\n",
            "  0.09587544 0.18350765 0.76040572 0.75761811 0.89681224 0.57848354\n",
            "  0.48967296 0.41239594 1.0648887  0.1987795  0.91435363 0.77912075\n",
            "  0.6832979  0.73467836 0.45761443 1.02470724]\n",
            " [0.93249564 0.09060106 0.26667882 0.66031362 0.35319376 0.75564947\n",
            "  0.36398073 0.65901587 0.79751833 0.81223822 0.66461174 0.17811318\n",
            "  0.19368326 0.31153988 0.77776718 0.69751774 0.60327041 0.40253409\n",
            "  0.2544293  0.43705926 0.53157921 0.61635182 0.5835423  0.76113592\n",
            "  0.84257614 0.39936762 0.87422298 0.65465248 0.36656562 0.54681295\n",
            "  0.26700549 0.85680771 0.20159576 0.13999418 0.79809797 0.70934863\n",
            "  0.79445781 0.17312006 0.40138882 0.36828382 0.90693481 0.66063498\n",
            "  0.47766882 0.64457231 0.25688372 0.84963488 0.46858021 0.65599522\n",
            "  0.83136948 0.7408826  0.06333543 0.41617569 0.22185317 0.42861986\n",
            "  0.87267346 0.27550817 0.41103818 0.24247679 0.82832478 0.32813919\n",
            "  0.38434281 0.4064447  0.70287698 0.62410913 0.20538131 0.\n",
            "  0.45897601 0.64410295 0.76099946 0.26620516 0.31787085 0.68441688\n",
            "  0.83953276 0.48614831 0.17247624 0.41566615 0.86524978 0.40884905\n",
            "  0.90575335 0.79126591 0.64801691 0.10477496 0.54587096 0.41895651\n",
            "  0.29035879 0.03824248 0.55640638 0.63600706 0.75837302 0.37373726\n",
            "  0.2855877  0.22825302 0.89612946 0.34134648 0.84379212 0.58094205\n",
            "  0.478933   0.52949385 0.27214894 0.86112718]\n",
            " [0.9946555  0.36838624 0.72376982 1.05227365 0.80229025 1.0381319\n",
            "  0.80125922 0.83174305 0.75371944 1.03978901 1.04831548 0.57091261\n",
            "  0.64800167 0.62032629 0.82364404 0.84614132 1.03614696 0.30925083\n",
            "  0.68062123 0.85915328 0.92852109 0.93756715 0.49585545 0.91267223\n",
            "  0.98883706 0.65849651 1.21533525 0.74432794 0.51444768 0.99779259\n",
            "  0.47531026 1.15207413 0.36699052 0.59743758 1.03793025 1.06849799\n",
            "  1.04915951 0.60154623 0.84580652 0.53021024 1.24248287 1.03077926\n",
            "  0.68006571 0.70362372 0.43647573 1.08589114 0.89886607 0.6426137\n",
            "  1.09445103 1.0756022  0.48332888 0.87275267 0.42373288 0.7769563\n",
            "  1.20676081 0.25927424 0.18220795 0.22450001 0.96214757 0.28222184\n",
            "  0.40208099 0.11663575 0.81946705 0.639624   0.25725264 0.45897601\n",
            "  0.         0.7648257  0.75892974 0.30179255 0.64092582 0.81874859\n",
            "  0.89881138 0.94499855 0.29518877 0.85158128 1.13755648 0.81749149\n",
            "  1.25453824 0.97102397 0.96130261 0.56349218 0.835961   0.85956321\n",
            "  0.16928454 0.43157149 1.00577051 0.90841752 1.05889298 0.83252273\n",
            "  0.74456008 0.66915907 1.25736409 0.20071507 0.9990484  1.0141232\n",
            "  0.93785247 0.98391873 0.68663566 1.21175599]\n",
            " [0.28986771 0.64553597 0.67692898 0.58618053 0.6547352  0.36897051\n",
            "  0.8861353  0.09630786 0.27613658 0.30595466 0.56362997 0.50782282\n",
            "  0.63599915 0.36577013 0.16014016 0.0846335  0.70048295 0.45599255\n",
            "  0.83185619 0.57649468 0.53461139 0.37566499 0.33132866 0.14832199\n",
            "  0.2245527  0.27380338 0.59249962 0.04893003 0.28989094 0.76454573\n",
            "  0.38302057 0.47292961 0.49306559 0.69061506 0.31616908 0.52156579\n",
            "  0.34126724 0.77483496 0.89177601 0.28248266 0.60491994 0.52226209\n",
            "  0.17978779 0.09955603 0.40649557 0.35298519 0.61866946 0.20727644\n",
            "  0.38694786 0.47885086 0.58629789 0.73852844 0.44085223 0.39023267\n",
            "  0.57394396 0.54165808 0.58403136 0.63032107 0.20002896 0.49225685\n",
            "  0.36551574 0.64819855 0.05990761 0.17266163 0.69003401 0.64410295\n",
            "  0.7648257  0.         0.20572275 0.50301979 0.37577685 0.05428597\n",
            "  0.20236206 0.84530901 0.69671988 0.61885807 0.43281607 0.52657298\n",
            "  0.63701828 0.21258322 0.37241307 0.65161317 0.28656986 0.63999277\n",
            "  0.6768953  0.61693944 0.75922667 0.27742152 0.41023196 0.75292757\n",
            "  0.72389882 0.78896073 0.66218606 0.57215045 0.23422361 0.68859795\n",
            "  0.82039625 0.78165999 0.52401494 0.60655987]\n",
            " [0.24298642 0.73958447 0.8458773  0.7917997  0.83771076 0.55694889\n",
            "  1.048345   0.29183649 0.07178094 0.46574029 0.76902489 0.6568234\n",
            "  0.79444874 0.5297152  0.09203647 0.25481989 0.90402582 0.46329027\n",
            "  0.97889646 0.77197968 0.73807963 0.58064617 0.26450213 0.28194844\n",
            "  0.3171273  0.44820773 0.78106827 0.15959224 0.39615556 0.96235928\n",
            "  0.49532124 0.65004943 0.57773442 0.83495254 0.48427598 0.72430865\n",
            "  0.51529293 0.91257923 1.06043981 0.39757072 0.7891667  0.72731244\n",
            "  0.35802472 0.13163509 0.50488164 0.50816726 0.81584724 0.11836029\n",
            "  0.55693165 0.67708905 0.71131919 0.92464091 0.54053883 0.5857808\n",
            "  0.76079257 0.58736198 0.57984886 0.68150077 0.28388893 0.52501645\n",
            "  0.40584829 0.64771138 0.19806734 0.13833528 0.75390475 0.76099946\n",
            "  0.75892974 0.20572275 0.         0.55825969 0.54518892 0.22697352\n",
            "  0.15746429 1.03188725 0.77053878 0.81085154 0.60057443 0.72011371\n",
            "  0.82514484 0.35336915 0.5755979  0.79179665 0.49179386 0.83155232\n",
            "  0.71483069 0.72800773 0.95802029 0.47998976 0.60136266 0.93244414\n",
            "  0.89239641 0.93825933 0.85421797 0.59259058 0.33554429 0.89137789\n",
            "  1.00811866 0.97714589 0.69715083 0.79848087]\n",
            " [0.76812487 0.20472282 0.48800379 0.75623696 0.54630784 0.74008266\n",
            "  0.62667763 0.5542109  0.57873364 0.7523022  0.75059841 0.29880861\n",
            "  0.4114405  0.32044561 0.59928721 0.5773094  0.75703292 0.13715326\n",
            "  0.52052567 0.57841183 0.63571059 0.63582781 0.33678752 0.64512661\n",
            "  0.72549558 0.35753218 0.91356337 0.49470646 0.22396041 0.73742761\n",
            "  0.17353781 0.85330421 0.08107967 0.39444193 0.74754449 0.7674998\n",
            "  0.755842   0.43928995 0.66002494 0.23766557 0.94085677 0.73110645\n",
            "  0.38808569 0.46627606 0.13469954 0.79707469 0.62161413 0.44223897\n",
            "  0.80012407 0.77382175 0.25191209 0.62796808 0.12555535 0.47760015\n",
            "  0.90513139 0.04324436 0.16995115 0.12765998 0.7028105  0.06224748\n",
            "  0.15241147 0.19965724 0.56190578 0.42158328 0.19568867 0.26620516\n",
            "  0.30179255 0.50301979 0.55825969 0.         0.34198696 0.55411456\n",
            "  0.67060612 0.71701532 0.21390097 0.58004857 0.84205615 0.53193865\n",
            "  0.95275533 0.69556079 0.65987811 0.34995095 0.5351064  0.59165497\n",
            "  0.17553245 0.22805757 0.74285813 0.61021162 0.75891476 0.60009767\n",
            "  0.52109074 0.49227359 0.95594295 0.10913809 0.73267073 0.7356932\n",
            "  0.70385458 0.73012729 0.41114124 0.91002331]\n",
            " [0.6614462  0.35996391 0.30244399 0.41481235 0.29641661 0.44021936\n",
            "  0.51041921 0.36255132 0.60132628 0.49530222 0.40862262 0.14686349\n",
            "  0.26113584 0.02398442 0.53086508 0.40773484 0.4372693  0.41105973\n",
            "  0.46043274 0.2656773  0.29799754 0.30990003 0.47608118 0.46474767\n",
            "  0.54320523 0.10202319 0.58261114 0.40267311 0.20363067 0.45145892\n",
            "  0.17343348 0.545466   0.27479051 0.32394438 0.48042803 0.42877591\n",
            "  0.47665889 0.41162596 0.51766469 0.18950162 0.61248883 0.38985365\n",
            "  0.19603923 0.4140955  0.21046694 0.53191934 0.3126453  0.47111887\n",
            "  0.51418924 0.44380048 0.25454397 0.38550543 0.21736549 0.1360315\n",
            "  0.57703947 0.38278036 0.50402993 0.43085897 0.53423399 0.38099901\n",
            "  0.32285768 0.54153719 0.42794679 0.42854767 0.45207355 0.31787085\n",
            "  0.64092582 0.37577685 0.54518892 0.34198696 0.         0.40287116\n",
            "  0.57799006 0.49190868 0.43896149 0.28794189 0.54934394 0.21231735\n",
            "  0.61928804 0.48385254 0.33897619 0.290849   0.22869814 0.30610916\n",
            "  0.49075476 0.30516951 0.45187526 0.3182842  0.44712679 0.38794756\n",
            "  0.34935228 0.41675825 0.61855984 0.4505018  0.54140885 0.41787983\n",
            "  0.46985139 0.4567699  0.15196291 0.57549759]\n",
            " [0.25883202 0.69040912 0.70013023 0.5714106  0.67067508 0.33203291\n",
            "  0.91093525 0.066415   0.29875383 0.25721771 0.547423   0.54068495\n",
            "  0.66399547 0.39555155 0.16065785 0.03260583 0.69619036 0.5100709\n",
            "  0.8625414  0.58360685 0.53144112 0.35860282 0.38256062 0.09408051\n",
            "  0.17167015 0.3014547  0.556517   0.09087367 0.33754074 0.76806601\n",
            "  0.42753166 0.43102621 0.54074723 0.72312132 0.26992893 0.49859354\n",
            "  0.29735434 0.80877547 0.91376262 0.3287733  0.56663133 0.50470332\n",
            "  0.21036006 0.14444922 0.45313312 0.30363305 0.6237364  0.25106885\n",
            "  0.34192569 0.45012023 0.62519621 0.75186289 0.48677367 0.39963559\n",
            "  0.53694865 0.59335281 0.63813436 0.6810442  0.14913486 0.54515022\n",
            "  0.4187728  0.70211356 0.03190742 0.22058208 0.73906538 0.68441688\n",
            "  0.81874859 0.05428597 0.22697352 0.55411456 0.40287116 0.\n",
            "  0.18220475 0.85774754 0.74442473 0.62871338 0.38736732 0.53597047\n",
            "  0.60085558 0.15919993 0.35070084 0.68573438 0.28129096 0.65003381\n",
            "  0.72860753 0.65876172 0.76168485 0.25510903 0.37549169 0.77020663\n",
            "  0.74694954 0.81913756 0.62847307 0.62539946 0.18047033 0.68581949\n",
            "  0.83217789 0.78742835 0.54675373 0.57270809]\n",
            " [0.09763826 0.83301511 0.87846581 0.73813295 0.85227883 0.46396368\n",
            "  1.08818866 0.2422373  0.20855541 0.35074719 0.71259435 0.70946566\n",
            "  0.83836056 0.56812398 0.07527963 0.19218196 0.87252253 0.594356\n",
            "  1.03386956 0.7654936  0.70931876 0.5261658  0.41251084 0.17900568\n",
            "  0.17977264 0.47597306 0.68080977 0.18488727 0.47627753 0.94872116\n",
            "  0.57412905 0.54027407 0.67484969 0.89215889 0.37470817 0.65439395\n",
            "  0.40899932 0.97563123 1.09296575 0.47220038 0.68318154 0.66868786\n",
            "  0.38210554 0.20434393 0.59263767 0.38672185 0.80511247 0.25973384\n",
            "  0.44445658 0.59626054 0.78364731 0.9339618  0.62814558 0.58183939\n",
            "  0.65873577 0.70474889 0.7172341  0.79759807 0.14880841 0.64709466\n",
            "  0.52136301 0.78469454 0.15267869 0.25937376 0.86445247 0.83953276\n",
            "  0.89881138 0.20236206 0.15746429 0.67060612 0.57799006 0.18220475\n",
            "  0.         1.03993118 0.87595289 0.81088946 0.48411936 0.71814457\n",
            "  0.72329595 0.23784781 0.51244864 0.85248268 0.46012742 0.83221526\n",
            "  0.83740652 0.81036193 0.94190484 0.41994537 0.51068763 0.9514845\n",
            "  0.92541009 0.9911009  0.75746228 0.72100067 0.19960849 0.86328143\n",
            "  1.01438048 0.96882503 0.72527413 0.70272593]\n",
            " [1.10973273 0.5766658  0.22903742 0.44537472 0.19549224 0.71806559\n",
            "  0.21738995 0.80119235 1.09119948 0.83526236 0.46864858 0.42949382\n",
            "  0.30600649 0.51118308 1.00534466 0.85154548 0.2833882  0.83673651\n",
            "  0.31210569 0.28057231 0.3733751  0.57241132 0.95670639 0.89121847\n",
            "  0.95518503 0.58406374 0.70049114 0.88072386 0.6834409  0.15897524\n",
            "  0.61253321 0.76765287 0.63671342 0.34797786 0.80882704 0.55094607\n",
            "  0.78547765 0.36663592 0.17055854 0.6726297  0.73558771 0.49828132\n",
            "  0.67423475 0.90027191 0.63332897 0.85012602 0.25127009 0.96298673\n",
            "  0.79905337 0.61941321 0.47138612 0.10724817 0.61405746 0.4582718\n",
            "  0.71240854 0.74080979 0.88158185 0.72691009 0.95816644 0.77656176\n",
            "  0.7761622  0.88776035 0.88756074 0.92020545 0.68935717 0.48614831\n",
            "  0.94499855 0.84530901 1.03188725 0.71701532 0.49190868 0.85774754\n",
            "  1.03993118 0.         0.65343283 0.23063239 0.80966073 0.32280663\n",
            "  0.70982553 0.88030161 0.6028451  0.38218775 0.59075467 0.20933816\n",
            "  0.77650054 0.51575903 0.17496787 0.66128625 0.69095537 0.11694288\n",
            "  0.20079837 0.29862344 0.67783576 0.81297332 0.94609463 0.27090231\n",
            "  0.02731603 0.12194365 0.34416087 0.67242562]\n",
            " [0.97283681 0.08714053 0.43859084 0.81880288 0.52545003 0.87609445\n",
            "  0.50684232 0.73341559 0.7925905  0.91297321 0.82041045 0.32420227\n",
            "  0.36615626 0.42519291 0.80669509 0.76379968 0.77319692 0.33766965\n",
            "  0.38697414 0.60312027 0.69037383 0.74861803 0.54832468 0.83090266\n",
            "  0.91276847 0.4963262  1.01766505 0.6952363  0.40700987 0.71928919\n",
            "  0.32114105 0.98374164 0.20371267 0.30560037 0.90321163 0.85720837\n",
            "  0.90516196 0.30682508 0.55076121 0.41583574 1.04878909 0.81174036\n",
            "  0.5547656  0.67223265 0.29168119 0.95448357 0.63726812 0.65545141\n",
            "  0.94596905 0.88045247 0.21406988 0.58797925 0.2595601  0.56655237\n",
            "  1.01366754 0.19421035 0.29456083 0.11212509 0.89329113 0.26057518\n",
            "  0.36536836 0.26753212 0.75657846 0.6329547  0.03911728 0.17247624\n",
            "  0.29518877 0.69671988 0.77053878 0.21390097 0.43896149 0.74442473\n",
            "  0.87595289 0.65343283 0.         0.58552167 0.9838787  0.57005441\n",
            "  1.0521073  0.87300596 0.77793737 0.27624875 0.66376246 0.58992965\n",
            "  0.13493798 0.15503428 0.72884677 0.74965251 0.88564818 0.54360611\n",
            "  0.45444148 0.37402058 1.04655205 0.231876   0.91749283 0.75086275\n",
            "  0.64802072 0.70172911 0.43287293 1.00769598]\n",
            " [0.87933487 0.49891429 0.18125667 0.27655253 0.08379583 0.50099235\n",
            "  0.35068632 0.57111868 0.87300519 0.61114482 0.29125657 0.28306055\n",
            "  0.22903302 0.31046606 0.77897005 0.62154649 0.18770648 0.6790274\n",
            "  0.37553815 0.05351212 0.16574596 0.35019902 0.76399174 0.66058609\n",
            "  0.72502128 0.36793087 0.52690333 0.65641184 0.49065622 0.16417363\n",
            "  0.43979513 0.56555092 0.50014381 0.31358655 0.58587069 0.36222456\n",
            "  0.56510086 0.38183497 0.32974094 0.47714703 0.56241738 0.30711059\n",
            "  0.4532223  0.67982663 0.46928544 0.62977005 0.05549435 0.75074335\n",
            "  0.58357165 0.42080152 0.37321649 0.12947276 0.46020075 0.22922236\n",
            "  0.53350094 0.61310423 0.74999524 0.62718489 0.72760057 0.63250428\n",
            "  0.60174753 0.77191453 0.65894077 0.70691772 0.61403189 0.41566615\n",
            "  0.85158128 0.61885807 0.81085154 0.58004857 0.28794189 0.62871338\n",
            "  0.81088946 0.23063239 0.58552167 0.         0.5998584  0.09274505\n",
            "  0.54699864 0.65068904 0.38240753 0.32087792 0.36022845 0.02136075\n",
            "  0.68460937 0.43088875 0.16622294 0.43301646 0.47970605 0.16878816\n",
            "  0.20584667 0.33824185 0.52512883 0.68648406 0.71629962 0.16536941\n",
            "  0.20430117 0.16945158 0.16891311 0.50449231]\n",
            " [0.48504932 0.90826382 0.75173899 0.38097782 0.67586165 0.10970558\n",
            "  0.94817533 0.33858889 0.66980143 0.13514013 0.35355337 0.68828775\n",
            "  0.75569013 0.56005378 0.51453471 0.35512839 0.55285236 0.84428779\n",
            "  0.94942297 0.54661171 0.43831232 0.25938913 0.76109879 0.31878996\n",
            "  0.30738901 0.49036332 0.20929356 0.47742343 0.6231129  0.66823415\n",
            "  0.67567761 0.06328688 0.79768427 0.83940398 0.11752407 0.26974766\n",
            "  0.09262982 0.92627292 0.92959468 0.60740938 0.20338846 0.3158444\n",
            "  0.45771047 0.53086458 0.71260257 0.09832322 0.56248043 0.63824078\n",
            "  0.0460176  0.19567261 0.80227821 0.72469491 0.73604441 0.4432973\n",
            "  0.18559383 0.8852046  0.96806669 0.95603091 0.33587356 0.85547383\n",
            "  0.74293026 1.02419822 0.40921676 0.60546354 0.99216949 0.86524978\n",
            "  1.13755648 0.43281607 0.60057443 0.84205615 0.54934394 0.38736732\n",
            "  0.48411936 0.80966073 0.9838787  0.5998584  0.         0.52797871\n",
            "  0.24720613 0.2490308  0.22554046 0.81893858 0.32091787 0.6178663\n",
            "  1.01281663 0.85445762 0.65526643 0.23456109 0.12015505 0.76864394\n",
            "  0.79046167 0.90657954 0.28737306 0.93684948 0.28776581 0.55533745\n",
            "  0.78252038 0.7007468  0.625036   0.23793183]\n",
            " [0.7869275  0.48307696 0.22541369 0.25172248 0.15072376 0.42452079\n",
            "  0.42169605 0.47850613 0.78320235 0.52741511 0.25791509 0.24900413\n",
            "  0.24558932 0.23606855 0.68662813 0.52890992 0.2271853  0.61830425\n",
            "  0.42503711 0.05425868 0.12341581 0.27133088 0.68549801 0.56876742\n",
            "  0.6344907  0.28148657 0.4818092  0.56473911 0.41549283 0.24531602\n",
            "  0.37747964 0.49992513 0.45514002 0.33409903 0.50334915 0.31381828\n",
            "  0.48503353 0.41413277 0.40789885 0.400759   0.51649056 0.26074587\n",
            "  0.36337865 0.58951026 0.4107507  0.54923093 0.1012102  0.66358247\n",
            "  0.5074385  0.36163957 0.35652173 0.21914055 0.40767748 0.13657043\n",
            "  0.48472319 0.56857096 0.70042019 0.59557716 0.63619444 0.57944182\n",
            "  0.53413023 0.72920364 0.56622218 0.61946528 0.59411056 0.40884905\n",
            "  0.81749149 0.52657298 0.72011371 0.53193865 0.21231735 0.53597047\n",
            "  0.71814457 0.32280663 0.57005441 0.09274505 0.52797871 0.\n",
            "  0.50799904 0.56105805 0.30476287 0.32833603 0.26928359 0.11407837\n",
            "  0.6548963  0.41601433 0.24351838 0.34580497 0.40857221 0.24940946\n",
            "  0.26254402 0.38362321 0.49303587 0.64062351 0.62633951 0.20688379\n",
            "  0.29674048 0.25721201 0.13737511 0.46383088]\n",
            " [0.73123123 0.96824419 0.7246478  0.27202411 0.63074075 0.26883535\n",
            "  0.88941943 0.54109433 0.89631586 0.37349574 0.25576744 0.73101654\n",
            "  0.75356427 0.63754676 0.74480029 0.57100218 0.42717627 0.9868694\n",
            "  0.9222495  0.50126159 0.38759822 0.31790294 0.94675082 0.54946338\n",
            "  0.55102877 0.59865875 0.04453304 0.68521352 0.75490409 0.55252005\n",
            "  0.77922798 0.18552382 0.89246511 0.84209105 0.348597   0.19645546\n",
            "  0.31442033 0.92074229 0.85883213 0.73764212 0.04636883 0.24739042\n",
            "  0.60297874 0.7363452  0.81806298 0.34424722 0.49571698 0.84345719\n",
            "  0.2805993  0.17973342 0.84725167 0.64993532 0.83268464 0.48624279\n",
            "  0.06468212 0.99533776 1.10095715 1.04995316 0.5774426  0.98026747\n",
            "  0.8852925  1.14839867 0.62766999 0.80541265 1.06894432 0.90575335\n",
            "  1.25453824 0.63701828 0.82514484 0.95275533 0.61928804 0.60085558\n",
            "  0.72329595 0.70982553 1.0521073  0.54699864 0.24720613 0.50799904\n",
            "  0.         0.48545012 0.29791134 0.83464916 0.42467308 0.55879097\n",
            "  1.10969408 0.90537486 0.53702418 0.37415981 0.22691356 0.70456952\n",
            "  0.75280623 0.88380626 0.04566826 1.05744203 0.53183081 0.43894902\n",
            "  0.68487104 0.58916075 0.6370286  0.04462632]\n",
            " [0.25869002 0.81071807 0.75765593 0.5235641  0.70844924 0.2295433\n",
            "  0.96851686 0.14135632 0.42155307 0.11405667 0.49645082 0.63015768\n",
            "  0.73612375 0.48380179 0.26578264 0.12797348 0.67440462 0.66404238\n",
            "  0.93818909 0.59973499 0.52061275 0.32132839 0.54118314 0.07255569\n",
            "  0.07839559 0.39219987 0.44300689 0.24818946 0.4727073  0.76690644\n",
            "  0.55187572 0.30299833 0.67161284 0.80664948 0.13688233 0.42937988\n",
            "  0.1711986  0.89486149 0.96305613 0.46086681 0.44557573 0.45211364\n",
            "  0.31872371 0.30089307 0.58259412 0.15481002 0.63215545 0.40418608\n",
            "  0.20748783 0.3655061  0.72910591 0.77965359 0.61350899 0.43460374\n",
            "  0.42088904 0.73657579 0.79199944 0.82021438 0.09533972 0.69320611\n",
            "  0.56909452 0.85454626 0.17192967 0.37761949 0.87204363 0.79126591\n",
            "  0.97102397 0.21258322 0.35336915 0.69556079 0.48385254 0.15919993\n",
            "  0.23784781 0.88030161 0.87300596 0.65068904 0.2490308  0.56105805\n",
            "  0.48545012 0.         0.29949193 0.77470018 0.29246434 0.67169805\n",
            "  0.87108964 0.77045786 0.75760767 0.22062718 0.27641424 0.80887914\n",
            "  0.80280789 0.89404068 0.5198595  0.77459301 0.06607642 0.66887067\n",
            "  0.85340271 0.79228534 0.60837369 0.46536789]\n",
            " [0.55456674 0.69822148 0.52689254 0.22627076 0.45450162 0.1197643\n",
            "  0.72636506 0.2845005  0.64705565 0.23356938 0.20024463 0.46995476\n",
            "  0.53036765 0.35367854 0.50991193 0.32776717 0.37596144 0.68901095\n",
            "  0.72402477 0.32892335 0.23080661 0.0338696  0.65775546 0.33604852\n",
            "  0.37788733 0.30300082 0.25620025 0.4211186  0.45720004 0.47529872\n",
            "  0.48706895 0.20887924 0.60445009 0.61468554 0.2063029  0.1491711\n",
            "  0.18299343 0.70115825 0.71061367 0.43999039 0.28148665 0.156241\n",
            "  0.30648259 0.46704746 0.5256977  0.24772944 0.3516734  0.56983461\n",
            "  0.20267598 0.11921512 0.58586866 0.51047387 0.54341083 0.22066586\n",
            "  0.24582363 0.70287574 0.80409183 0.76344766 0.39091339 0.68428581\n",
            "  0.58738458 0.85312953 0.38181878 0.52846159 0.790357   0.64801691\n",
            "  0.96130261 0.37241307 0.5755979  0.65987811 0.33897619 0.35070084\n",
            "  0.51244864 0.6028451  0.77793737 0.38240753 0.22554046 0.30476287\n",
            "  0.29791134 0.29949193 0.         0.59574373 0.12690399 0.40172858\n",
            "  0.82237607 0.64051985 0.46463041 0.0956718  0.11074487 0.55018562\n",
            "  0.56650076 0.68109596 0.31017901 0.76261295 0.36426382 0.3717994\n",
            "  0.57553336 0.50373118 0.40014089 0.2582018 ]\n",
            " [0.94132054 0.19527727 0.16234591 0.57893303 0.25255094 0.70955\n",
            "  0.2794513  0.65107993 0.8356983  0.78104646 0.58622716 0.14556292\n",
            "  0.09267674 0.29257093 0.79666468 0.69416666 0.50702993 0.48137552\n",
            "  0.18821497 0.34862747 0.45157414 0.56264114 0.64277832 0.75374631\n",
            "  0.83318035 0.38679946 0.80613074 0.66960476 0.39728434 0.44402284\n",
            "  0.30130133 0.80363934 0.27496654 0.04616266 0.76374483 0.63879459\n",
            "  0.75571359 0.1232227  0.31024303 0.39439681 0.84001521 0.58738855\n",
            "  0.47537471 0.66785075 0.30441887 0.8146066  0.37539623 0.69520075\n",
            "  0.78885513 0.677972   0.0985032  0.31174734 0.27414146 0.37568923\n",
            "  0.80686565 0.36683101 0.50607529 0.34485553 0.82280778 0.41195928\n",
            "  0.44526656 0.50698387 0.70789462 0.65907158 0.31001858 0.10477496\n",
            "  0.56349218 0.65161317 0.79179665 0.34995095 0.290849   0.68573438\n",
            "  0.85248268 0.38218775 0.27624875 0.32087792 0.81893858 0.32833603\n",
            "  0.83464916 0.77470018 0.59574373 0.         0.50737591 0.32173723\n",
            "  0.39458848 0.13381243 0.45416634 0.5983296  0.70634435 0.26905091\n",
            "  0.18139987 0.15072205 0.82118277 0.43651938 0.83192244 0.48481503\n",
            "  0.37436777 0.42557455 0.19898234 0.79019689]\n",
            " [0.52154475 0.58738303 0.46870607 0.30417423 0.41598638 0.21238184\n",
            "  0.67814109 0.21794543 0.5611297  0.27500397 0.28416102 0.37060139\n",
            "  0.45533555 0.2391912  0.44033436 0.26798795 0.41525229 0.56219681\n",
            "  0.65620544 0.31090093 0.25016034 0.10999575 0.5403975  0.300962\n",
            "  0.36521456 0.17757639 0.38310424 0.33236262 0.33030255 0.48907042\n",
            "  0.36334139 0.32131976 0.48286701 0.5330945  0.25647566 0.26059748\n",
            "  0.24919343 0.62151346 0.67104607 0.31308695 0.40800971 0.2464855\n",
            "  0.18357403 0.37112339 0.40164302 0.30723127 0.34732135 0.46691949\n",
            "  0.28556235 0.2453435  0.48265422 0.48836413 0.42136045 0.14358182\n",
            "  0.37242329 0.57824902 0.67731805 0.64204637 0.36741766 0.55787813\n",
            "  0.46068822 0.72694376 0.31303406 0.42360937 0.67346587 0.54587096\n",
            "  0.835961   0.28656986 0.49179386 0.5351064  0.22869814 0.28129096\n",
            "  0.46012742 0.59075467 0.66376246 0.36022845 0.32091787 0.26928359\n",
            "  0.42467308 0.29246434 0.12690399 0.50737591 0.         0.38145815\n",
            "  0.70031667 0.53385589 0.48191184 0.09100412 0.22468184 0.51642261\n",
            "  0.51287932 0.61217183 0.43525925 0.63668211 0.35733556 0.4045526\n",
            "  0.56418848 0.5105517  0.32426833 0.38438737]\n",
            " [0.90068934 0.50375588 0.17533117 0.28728597 0.07528425 0.51993067\n",
            "  0.33497916 0.59247888 0.89346395 0.63122077 0.30344901 0.29349531\n",
            "  0.22920245 0.32831015 0.80011628 0.64290584 0.18531224 0.69314783\n",
            "  0.36543622 0.07311069 0.18169513 0.36977525 0.78189263 0.6818887\n",
            "  0.74615395 0.38786224 0.53997649 0.67737107 0.50813972 0.14825119\n",
            "  0.45480053 0.58246129 0.51133785 0.3113928  0.60575762 0.37663184\n",
            "  0.58458667 0.37607341 0.31214292 0.49490441 0.57555422 0.32153971\n",
            "  0.47378677 0.7004394  0.48341899 0.64929145 0.06323302 0.77059602\n",
            "  0.60235831 0.43688778 0.37904064 0.10911569 0.47312537 0.2505026\n",
            "  0.54727829 0.6238525  0.76157314 0.63506449 0.74885184 0.6450539\n",
            "  0.61746739 0.78194212 0.68023803 0.72685052 0.61934805 0.41895651\n",
            "  0.85956321 0.63999277 0.83155232 0.59165497 0.30610916 0.65003381\n",
            "  0.83221526 0.20933816 0.58992965 0.02136075 0.6178663  0.11407837\n",
            "  0.55879097 0.67169805 0.40172858 0.32173723 0.38145815 0.\n",
            "  0.69192298 0.43588869 0.15180957 0.45373139 0.49775739 0.1514225\n",
            "  0.19561266 0.32948363 0.53558391 0.69735862 0.73734999 0.1631396\n",
            "  0.18296117 0.150663   0.18126701 0.51675954]\n",
            " [0.93502726 0.19995881 0.55451242 0.89510638 0.63347565 0.90891443\n",
            "  0.63999334 0.72974168 0.72569266 0.92663821 0.89302436 0.40643846\n",
            "  0.47872249 0.47215177 0.76438508 0.75236256 0.87029428 0.25467039\n",
            "  0.52095296 0.69449184 0.76926101 0.7961672  0.46946503 0.82016006\n",
            "  0.9001856  0.52395031 1.07222586 0.6659915  0.39921784 0.82896797\n",
            "  0.33760305 1.02094044 0.21794071 0.42957963 0.92105759 0.91932277\n",
            "  0.92811109 0.43997614 0.68269846 0.41245389 1.10111696 0.87853682\n",
            "  0.56217581 0.6339855  0.30023367 0.97099124 0.73299637 0.5966567\n",
            "  0.97173748 0.93274769 0.31441851 0.70346813 0.27907671 0.62581388\n",
            "  1.06546964 0.13525924 0.17437694 0.06012516 0.87690333 0.19061287\n",
            "  0.31633891 0.13493305 0.73526507 0.58224288 0.09587544 0.29035879\n",
            "  0.16928454 0.6768953  0.71483069 0.17553245 0.49075476 0.72860753\n",
            "  0.83740652 0.77650054 0.13493798 0.68460937 1.01281663 0.6548963\n",
            "  1.10969408 0.87108964 0.82237607 0.39458848 0.70031667 0.69192298\n",
            "  0.         0.26230276 0.83715487 0.77936937 0.92499283 0.6635176\n",
            "  0.57585974 0.50587753 1.10924019 0.12731047 0.90770644 0.84815112\n",
            "  0.76893193 0.81474238 0.52162723 1.06608002]\n",
            " [0.90415028 0.06805596 0.29221179 0.66600482 0.3734664  0.74519161\n",
            "  0.40088336 0.63613413 0.76305864 0.79614626 0.66871439 0.1743584\n",
            "  0.21662782 0.29620961 0.7473251  0.67312308 0.61847347 0.36429951\n",
            "  0.29248476 0.44814283 0.53730663 0.60962975 0.54630289 0.73766394\n",
            "  0.81942765 0.3801516  0.87252209 0.62553423 0.33539963 0.56851976\n",
            "  0.23637661 0.84873734 0.16385901 0.17336865 0.78315885 0.70940669\n",
            "  0.78110135 0.21133838 0.43722268 0.33824353 0.90459962 0.66220795\n",
            "  0.45433477 0.61350559 0.2231557  0.83474903 0.48231939 0.62160947\n",
            "  0.81926057 0.73734373 0.05949964 0.44122893 0.18763847 0.423391\n",
            "  0.86993511 0.23834626 0.37513012 0.21115107 0.80409123 0.29005782\n",
            "  0.34728531 0.37334782 0.67614098 0.59061097 0.18350765 0.03824248\n",
            "  0.43157149 0.61693944 0.72800773 0.22805757 0.30516951 0.65876172\n",
            "  0.81036193 0.51575903 0.15503428 0.43088875 0.85445762 0.41601433\n",
            "  0.90537486 0.77045786 0.64051985 0.13381243 0.53385589 0.43588869\n",
            "  0.26230276 0.         0.57737087 0.62304159 0.75021919 0.40169037\n",
            "  0.3149807  0.26544382 0.89765338 0.30539884 0.82137564 0.59614688\n",
            "  0.50722892 0.55306368 0.27865003 0.86079566]\n",
            " [1.00161444 0.64433194 0.29383276 0.27924097 0.20391992 0.57237009\n",
            "  0.37814449 0.69966862 1.02289823 0.69762451 0.30470659 0.44421778\n",
            "  0.36275608 0.47491717 0.91786022 0.749857   0.10990383 0.84483707\n",
            "  0.44856837 0.18938667 0.23701409 0.43803664 0.92757254 0.77964552\n",
            "  0.83508989 0.52488125 0.53008816 0.80032555 0.655346   0.01606269\n",
            "  0.6059727  0.60832893 0.66229966 0.4343115  0.66956513 0.38892364\n",
            "  0.64267986 0.48188585 0.33768198 0.6413757  0.56474511 0.33952788\n",
            "  0.60428781 0.82873597 0.63508504 0.70628239 0.14323993 0.90624479\n",
            "  0.65010937 0.46079272 0.52279315 0.15322101 0.62490731 0.3726983\n",
            "  0.54339764 0.77433087 0.91268262 0.78151375 0.84281052 0.79671937\n",
            "  0.76792667 0.93148236 0.79304257 0.86199436 0.76040572 0.55640638\n",
            "  1.00577051 0.75922667 0.95802029 0.74285813 0.45187526 0.76168485\n",
            "  0.94190484 0.17496787 0.72884677 0.16622294 0.65526643 0.24351838\n",
            "  0.53702418 0.75760767 0.46463041 0.45416634 0.48191184 0.15180957\n",
            "  0.83715487 0.57737087 0.         0.53734104 0.53990817 0.21135757\n",
            "  0.29324876 0.42248586 0.5038185  0.84790345 0.82358595 0.10117114\n",
            "  0.15231521 0.05302902 0.33305232 0.50093904]\n",
            " [0.46786639 0.67505225 0.5547789  0.31852101 0.49567997 0.12987544\n",
            "  0.76228634 0.18885201 0.55149479 0.18569617 0.29355915 0.46137884\n",
            "  0.54488745 0.32721571 0.41467265 0.23281381 0.45737884 0.6233536\n",
            "  0.74498785 0.38110637 0.30034497 0.10627143 0.57287463 0.24652802\n",
            "  0.29776593 0.25599535 0.33025132 0.32625964 0.39558764 0.54642768\n",
            "  0.44185361 0.24369979 0.56348502 0.62362964 0.16583212 0.24441293\n",
            "  0.15849231 0.71195715 0.75249397 0.37912812 0.34969853 0.25022718\n",
            "  0.23407313 0.37325179 0.4791991  0.21632359 0.41198253 0.47744968\n",
            "  0.19659631 0.20418776 0.57271793 0.56244663 0.50181683 0.23046376\n",
            "  0.31540742 0.65344897 0.7435178  0.72213405 0.30631424 0.62739403\n",
            "  0.52118196 0.79677858 0.28633406 0.43699161 0.75761811 0.63600706\n",
            "  0.90841752 0.27742152 0.47998976 0.61021162 0.3182842  0.25510903\n",
            "  0.41994537 0.66128625 0.74965251 0.43301646 0.23456109 0.34580497\n",
            "  0.37415981 0.22062718 0.0956718  0.5983296  0.09100412 0.45373139\n",
            "  0.77936937 0.62304159 0.53734104 0.         0.15400953 0.59516641\n",
            "  0.59794744 0.70107133 0.39307321 0.70792097 0.28670167 0.45046651\n",
            "  0.63423857 0.5716602  0.41342191 0.33859755]\n",
            " [0.53359466 0.8070038  0.63301062 0.27192746 0.55588504 0.04689357\n",
            "  0.82817852 0.31451715 0.67292463 0.17772134 0.24389773 0.5803913\n",
            "  0.63975115 0.46053145 0.5242897  0.34655456 0.44055945 0.77703855\n",
            "  0.83139268 0.42645749 0.31866432 0.14372181 0.72215404 0.33253762\n",
            "  0.35039887 0.40166774 0.18238067 0.45856666 0.54810799 0.55234182\n",
            "  0.58785678 0.09851944 0.70752677 0.72469591 0.14830689 0.1642384\n",
            "  0.11431775 0.81076523 0.80944055 0.53138928 0.19767841 0.20285853\n",
            "  0.3880053  0.50947913 0.62601286 0.17145676 0.44277357 0.61654397\n",
            "  0.11049361 0.09243629 0.6960453  0.60478273 0.64603878 0.33141027\n",
            "  0.16477794 0.80212596 0.8963196  0.86671207 0.37166937 0.77899382\n",
            "  0.67486146 0.94840602 0.40332477 0.57860911 0.89681224 0.75837302\n",
            "  1.05889298 0.41023196 0.60136266 0.75891476 0.44712679 0.37549169\n",
            "  0.51068763 0.69095537 0.88564818 0.47970605 0.12015505 0.40857221\n",
            "  0.22691356 0.27641424 0.11074487 0.70634435 0.22468184 0.49775739\n",
            "  0.92499283 0.75021919 0.53990817 0.15400953 0.         0.64849041\n",
            "  0.67111575 0.78885223 0.25298693 0.85886719 0.3330924  0.44123199\n",
            "  0.66374608 0.58396365 0.51014884 0.19722233]\n",
            " [1.02632858 0.46430794 0.11221231 0.43264313 0.10062532 0.66923388\n",
            "  0.18505741 0.71746923 0.98927385 0.77646691 0.4511259  0.31385715\n",
            "  0.18939525 0.40543849 0.91196454 0.76716099 0.29874728 0.72010236\n",
            "  0.2375903  0.22209144 0.33308921 0.51753025 0.84449304 0.81217136\n",
            "  0.88094821 0.48466699 0.68814308 0.7853269  0.57270889 0.19738876\n",
            "  0.49819701 0.73386929 0.51977096 0.23870836 0.75195108 0.52687435\n",
            "  0.73235101 0.27317501 0.16095279 0.5627744  0.72375316 0.47191243\n",
            "  0.57729256 0.80097516 0.51774362 0.79688068 0.21152935 0.85791068\n",
            "  0.75195068 0.58821892 0.35547281 0.05936086 0.49769041 0.37612174\n",
            "  0.6964893  0.62419301 0.76499202 0.61261702 0.88070949 0.65962081\n",
            "  0.66119111 0.7723044  0.798836   0.81590952 0.57848354 0.37373726\n",
            "  0.83252273 0.75292757 0.93244414 0.60009767 0.38794756 0.77020663\n",
            "  0.9514845  0.11694288 0.54360611 0.16878816 0.76864394 0.24940946\n",
            "  0.70456952 0.80887914 0.55018562 0.26905091 0.51642261 0.1514225\n",
            "  0.6635176  0.40169037 0.21135757 0.59516641 0.64849041 0.\n",
            "  0.0896166  0.21143804 0.67851855 0.69654822 0.87366493 0.27986713\n",
            "  0.1055719  0.16933217 0.23666848 0.66358901]\n",
            " [1.00550971 0.37617421 0.04697317 0.48223731 0.12206802 0.6861963\n",
            "  0.16577252 0.69937917 0.94533166 0.78294628 0.49704193 0.24870741\n",
            "  0.11136423 0.36297728 0.8801393  0.74764537 0.36873571 0.64572447\n",
            "  0.16986917 0.25318228 0.36860324 0.53281938 0.7834593  0.79807929\n",
            "  0.87119692 0.45056598 0.73205524 0.75201309 0.51695841 0.28056494\n",
            "  0.4343609  0.76186071 0.44196931 0.14917631 0.76052033 0.56611033\n",
            "  0.74454602 0.18891816 0.16833958 0.50898765 0.76748466 0.51116684\n",
            "  0.54475181 0.76215417 0.44946952 0.80805066 0.25868606 0.80994162\n",
            "  0.76901136 0.62083319 0.27204574 0.14104212 0.4260383  0.36930401\n",
            "  0.73789233 0.54262818 0.68312007 0.52612893 0.8675875  0.58179343\n",
            "  0.59400833 0.68739615 0.7738282  0.76948494 0.48967296 0.2855877\n",
            "  0.74456008 0.72389882 0.89239641 0.52109074 0.34935228 0.74694954\n",
            "  0.92541009 0.20079837 0.45444148 0.20584667 0.79046167 0.26254402\n",
            "  0.75280623 0.80280789 0.56650076 0.18139987 0.51287932 0.19561266\n",
            "  0.57585974 0.3149807  0.29324876 0.59794744 0.67111575 0.0896166\n",
            "  0.         0.13471192 0.73077589 0.6140754  0.86583972 0.34804396\n",
            "  0.19363013 0.25583881 0.20023342 0.71016538]\n",
            " [1.07713118 0.31072735 0.1594678  0.61466064 0.25479072 0.79969479\n",
            "  0.13592041 0.7788494  0.98412001 0.88667891 0.6282527  0.28272223\n",
            "  0.15791889 0.42377083 0.93850948 0.82448222 0.50293954 0.62678779\n",
            "  0.0441629  0.38258458 0.49721085 0.64722884 0.79336143 0.88052159\n",
            "  0.95757144 0.51768555 0.86138248 0.81051208 0.54592011 0.40875412\n",
            "  0.45131846 0.88241379 0.4212933  0.10498525 0.86635648 0.69423029\n",
            "  0.85363393 0.06965475 0.176854   0.54201135 0.89660466 0.63971645\n",
            "  0.60997417 0.81227552 0.45513644 0.9156282  0.39219016 0.8441855\n",
            "  0.88174597 0.74521073 0.24622142 0.26936159 0.42458447 0.47082114\n",
            "  0.86606661 0.50369514 0.63880985 0.46508286 0.95018523 0.55450456\n",
            "  0.59544942 0.63025168 0.84326467 0.80720016 0.41239594 0.22825302\n",
            "  0.66915907 0.78896073 0.93825933 0.49227359 0.41675825 0.81913756\n",
            "  0.9911009  0.29862344 0.37402058 0.33824185 0.90657954 0.38362321\n",
            "  0.88380626 0.89404068 0.68109596 0.15072205 0.61217183 0.32948363\n",
            "  0.50587753 0.26544382 0.42248586 0.70107133 0.78885223 0.21143804\n",
            "  0.13471192 0.         0.8631862  0.56921787 0.95439785 0.48246039\n",
            "  0.30119148 0.38034956 0.28790544 0.84066356]\n",
            " [0.76905005 0.9617091  0.70475548 0.24857635 0.60887688 0.29743998\n",
            "  0.86273666 0.56699526 0.92570627 0.40957173 0.23615851 0.7235733\n",
            "  0.73775079 0.63790007 0.77587789 0.59946148 0.39446735 0.99619598\n",
            "  0.90060381 0.48173724 0.37055614 0.32608875 0.9655506  0.58176633\n",
            "  0.58764716 0.60544135 0.07825249 0.71078095 0.76394799 0.51953886\n",
            "  0.78255668 0.22460697 0.89304728 0.82624422 0.38353141 0.19004418\n",
            "  0.34873467 0.90282138 0.83040223 0.74657391 0.09139091 0.23554451\n",
            "  0.61665675 0.7609929  0.82135761 0.38298178 0.47235183 0.8673881\n",
            "  0.31794912 0.19113851 0.8389515  0.6226725  0.83415283 0.48361688\n",
            "  0.1018076  0.99812682 1.10767756 1.04926564 0.61306176 0.98604392\n",
            "  0.8952594  1.15313084 0.65623449 0.82830815 1.0648887  0.89612946\n",
            "  1.25736409 0.66218606 0.85421797 0.95594295 0.61855984 0.62847307\n",
            "  0.75746228 0.67783576 1.04655205 0.52512883 0.28737306 0.49303587\n",
            "  0.04566826 0.5198595  0.31017901 0.82118277 0.43525925 0.53558391\n",
            "  1.10924019 0.89765338 0.5038185  0.39307321 0.25298693 0.67851855\n",
            "  0.73077589 0.8631862  0.         1.06191821 0.56872282 0.40768748\n",
            "  0.6534462  0.5564284  0.62533743 0.05576505]\n",
            " [0.81831831 0.26163313 0.58443035 0.86506754 0.64894821 0.83756517\n",
            "  0.70511053 0.63430176 0.60031612 0.84017013 0.85908688 0.40386951\n",
            "  0.50715754 0.42861115 0.64690366 0.65147772 0.86512002 0.12952399\n",
            "  0.59217344 0.68651041 0.74483837 0.73979019 0.3428056  0.71872123\n",
            "  0.79670019 0.4596153  1.01758422 0.55602726 0.31375287 0.84189209\n",
            "  0.27981697 0.95161253 0.18648922 0.47837405 0.83774893 0.87420729\n",
            "  0.84858351 0.50967208 0.74255227 0.32949676 1.04405917 0.8388647\n",
            "  0.47943444 0.51980875 0.24125822 0.886032   0.72922237 0.47423114\n",
            "  0.8937986  0.87802756 0.34202969 0.72809332 0.23467429 0.58575104\n",
            "  1.00836431 0.07358701 0.06973158 0.11977437 0.7714404  0.08194041\n",
            "  0.20664327 0.09131611 0.62870209 0.46304465 0.1987795  0.34134648\n",
            "  0.20071507 0.57215045 0.59259058 0.10913809 0.4505018  0.62539946\n",
            "  0.72100067 0.81297332 0.231876   0.68648406 0.93684948 0.64062351\n",
            "  1.05744203 0.77459301 0.76261295 0.43651938 0.63668211 0.69735862\n",
            "  0.12731047 0.30539884 0.84790345 0.70792097 0.85886719 0.69654822\n",
            "  0.6140754  0.56921787 1.06191821 0.         0.80581766 0.84365588\n",
            "  0.80143536 0.83302436 0.51779989 1.01512469]\n",
            " [0.20118619 0.85862626 0.82037751 0.58702692 0.77314409 0.28673465\n",
            "  1.03160918 0.18538138 0.39902909 0.15940948 0.55967762 0.68673936\n",
            "  0.79658599 0.53977416 0.24395808 0.15536187 0.73973736 0.69014461\n",
            "  0.99849609 0.66552274 0.5866098  0.38689617 0.54942697 0.08754857\n",
            "  0.01988549 0.44663217 0.49086119 0.25960679 0.51273962 0.83293504\n",
            "  0.59727376 0.34667542 0.71457069 0.86514487 0.18691724 0.49034262\n",
            "  0.22218659 0.95302048 1.02708061 0.50233135 0.4898178  0.51542276\n",
            "  0.3671669  0.30857282 0.62591131 0.18949473 0.6981763  0.40426282\n",
            "  0.25123471 0.42409407 0.78232371 0.84512719 0.65816862 0.49861872\n",
            "  0.46797072 0.7725428  0.81813994 0.85894384 0.05207775 0.72541063\n",
            "  0.59921215 0.88242204 0.18165835 0.38404356 0.91435363 0.84379212\n",
            "  0.9990484  0.23422361 0.33554429 0.73267073 0.54140885 0.18047033\n",
            "  0.19960849 0.94609463 0.91749283 0.71629962 0.28776581 0.62633951\n",
            "  0.53183081 0.06607642 0.36426382 0.83192244 0.35733556 0.73734999\n",
            "  0.90770644 0.82137564 0.82358595 0.28670167 0.3330924  0.87366493\n",
            "  0.86583972 0.95439785 0.56872282 0.80581766 0.         0.7344769\n",
            "  0.91922771 0.85836098 0.67006545 0.51543248]\n",
            " [0.91786116 0.66419037 0.3355598  0.17806991 0.23575273 0.47536506\n",
            "  0.45979946 0.62182276 0.9585184  0.60297231 0.2036659  0.44346922\n",
            "  0.39233146 0.44181056 0.84464881 0.6712713  0.02233706 0.82515985\n",
            "  0.51421063 0.15734423 0.15439928 0.34758099 0.8854201  0.69588004\n",
            "  0.74696813 0.4754397  0.43016072 0.73211904 0.61948723 0.11556404\n",
            "  0.58430971 0.50751775 0.65730068 0.47390291 0.57443606 0.28799559\n",
            "  0.54635889 0.53458717 0.42431307 0.60411745 0.46507259 0.23951402\n",
            "  0.54576639 0.7648481  0.61720256 0.60931007 0.11525789 0.84925458\n",
            "  0.55167421 0.36033405 0.53822248 0.22118569 0.61266025 0.31523081\n",
            "  0.44290428 0.77084052 0.90503701 0.79012202 0.7567668  0.78498518\n",
            "  0.74051567 0.93087762 0.71758333 0.80481356 0.77912075 0.58094205\n",
            "  1.0141232  0.68859795 0.89137789 0.7356932  0.41787983 0.68581949\n",
            "  0.86328143 0.27090231 0.75086275 0.16536941 0.55533745 0.20688379\n",
            "  0.43894902 0.66887067 0.3717994  0.48481503 0.4045526  0.1631396\n",
            "  0.84815112 0.59614688 0.10117114 0.45046651 0.44123199 0.27986713\n",
            "  0.34804396 0.48246039 0.40768748 0.84365588 0.7344769  0.\n",
            "  0.24597415 0.15119984 0.32772135 0.4016582 ]\n",
            " [1.08361156 0.56953173 0.21708957 0.41933552 0.1738669  0.6907644\n",
            "  0.23127049 0.77523927 1.06796172 0.80798159 0.44233041 0.41317093\n",
            "  0.29441031 0.489593   0.9804913  0.82562923 0.25928867 0.82148708\n",
            "  0.31830607 0.25373137 0.34607707 0.54512134 0.93718605 0.86480092\n",
            "  0.92841584 0.56070376 0.6748886  0.85627196 0.66340497 0.1362527\n",
            "  0.59468783 0.74075271 0.62320448 0.34252081 0.78152715 0.52436001\n",
            "  0.75816162 0.3677407  0.18726058 0.65222204 0.71006425 0.47151209\n",
            "  0.65024928 0.8765489  0.61660049 0.82281016 0.22397701 0.94065302\n",
            "  0.77178147 0.59253932 0.46083984 0.08435358 0.59842094 0.43257553\n",
            "  0.68653352 0.72884768 0.86964868 0.71818557 0.93160453 0.76278742\n",
            "  0.75868106 0.87774714 0.86211846 0.89767607 0.6832979  0.478933\n",
            "  0.93785247 0.82039625 1.00811866 0.70385458 0.46985139 0.83217789\n",
            "  1.01438048 0.02731603 0.64802072 0.20430117 0.78252038 0.29674048\n",
            "  0.68487104 0.85340271 0.57553336 0.37436777 0.56418848 0.18296117\n",
            "  0.76893193 0.50722892 0.15231521 0.63423857 0.66374608 0.1055719\n",
            "  0.19363013 0.30119148 0.6534462  0.80143536 0.91922771 0.24597415\n",
            "  0.         0.0995613  0.32376133 0.64709286]\n",
            " [1.03197011 0.61886666 0.26330987 0.32842316 0.18407626 0.61457215\n",
            "  0.32768955 0.726998   1.04041396 0.7372891  0.35305423 0.43180716\n",
            "  0.33654302 0.47890876 0.94127815 0.77743194 0.16206066 0.83795083\n",
            "  0.40374928 0.20534662 0.27334329 0.47558395 0.93244897 0.81062756\n",
            "  0.86907833 0.53694618 0.58130295 0.82105491 0.65850745 0.037036\n",
            "  0.6020322  0.65551619 0.64911065 0.40161936 0.70973087 0.436736\n",
            "  0.68402452 0.44242477 0.28589822 0.64543053 0.61614215 0.38589757\n",
            "  0.62057187 0.84669222 0.62884393 0.74812695 0.16371479 0.91973362\n",
            "  0.69364319 0.50746779 0.50080093 0.11520064 0.61582549 0.39187616\n",
            "  0.59409315 0.75950736 0.89920325 0.76058487 0.87522767 0.78597754\n",
            "  0.76562885 0.91435476 0.81838501 0.87579324 0.73467836 0.52949385\n",
            "  0.98391873 0.78165999 0.97714589 0.73012729 0.4567699  0.78742835\n",
            "  0.96882503 0.12194365 0.70172911 0.16945158 0.7007468  0.25721201\n",
            "  0.58916075 0.79228534 0.50373118 0.42557455 0.5105517  0.150663\n",
            "  0.81474238 0.55306368 0.05302902 0.5716602  0.58396365 0.16933217\n",
            "  0.25583881 0.38034956 0.5564284  0.83302436 0.85836098 0.15119984\n",
            "  0.0995613  0.         0.32611267 0.55255558]\n",
            " [0.80539079 0.34582697 0.15337733 0.38824694 0.15038835 0.51650808\n",
            "  0.36455432 0.50005836 0.75295676 0.59890782 0.3925849  0.11576657\n",
            "  0.13166398 0.16878075 0.68105601 0.54790723 0.34963885 0.51245107\n",
            "  0.33195613 0.17286893 0.25947674 0.36659456 0.61364249 0.59973049\n",
            "  0.67442461 0.25143617 0.60763153 0.55326786 0.33965524 0.3288431\n",
            "  0.27606841 0.60660693 0.33136535 0.21456032 0.57898216 0.4407628\n",
            "  0.56740336 0.30128473 0.36776968 0.32852611 0.64132304 0.39034246\n",
            "  0.34539363 0.56601097 0.30294645 0.62865923 0.21253158 0.62125741\n",
            "  0.59749191 0.47902112 0.21916448 0.23992316 0.29185914 0.18382653\n",
            "  0.60801025 0.44452735 0.58108496 0.46303959 0.66939997 0.46386066\n",
            "  0.44002187 0.60386678 0.5735997  0.57925096 0.45761443 0.27214894\n",
            "  0.68663566 0.52401494 0.69715083 0.41114124 0.15196291 0.54675373\n",
            "  0.72527413 0.34416087 0.43287293 0.16891311 0.625036   0.13737511\n",
            "  0.6370286  0.60837369 0.40014089 0.19898234 0.32426833 0.18126701\n",
            "  0.52162723 0.27865003 0.33305232 0.41342191 0.51014884 0.23666848\n",
            "  0.20023342 0.28790544 0.62533743 0.51779989 0.67006545 0.32772135\n",
            "  0.32376133 0.32611267 0.         0.59247244]\n",
            " [0.71618761 0.92374124 0.68137904 0.23104504 0.58813949 0.24179024\n",
            "  0.84859219 0.51128919 0.86998381 0.35606027 0.21333351 0.68643832\n",
            "  0.70941897 0.59398908 0.72035573 0.54371223 0.39106982 0.94634774\n",
            "  0.87939774 0.45808094 0.34395691 0.2763984  0.9114019  0.52655048\n",
            "  0.53416999 0.55696579 0.03345023 0.65512195 0.71418672 0.51620621\n",
            "  0.73648712 0.1746543  0.84904073 0.79792768 0.32947969 0.15183802\n",
            "  0.29448281 0.87692943 0.81894682 0.69687008 0.06443466 0.20311188\n",
            "  0.56440216 0.70544364 0.7753252  0.33148089 0.45384932 0.81195841\n",
            "  0.26559508 0.13907924 0.80264694 0.60962773 0.78945802 0.44206411\n",
            "  0.05552614 0.95250152 1.05942068 1.00628163 0.55902279 0.93836644\n",
            "  0.84502224 1.10618058 0.60048544 0.77305612 1.02470724 0.86112718\n",
            "  1.21175599 0.60655987 0.79848087 0.91002331 0.57549759 0.57270809\n",
            "  0.70272593 0.67242562 1.00769598 0.50449231 0.23793183 0.46383088\n",
            "  0.04462632 0.46536789 0.2582018  0.79019689 0.38438737 0.51675954\n",
            "  1.06608002 0.86079566 0.50093904 0.33859755 0.19722233 0.66358901\n",
            "  0.71016538 0.84066356 0.05576505 1.01512469 0.51543248 0.4016582\n",
            "  0.64709286 0.55255558 0.59247244 0.        ]]\n"
          ]
        }
      ],
      "source": [
        "a= np.random.random((100,2))\n",
        "x,y = np.atleast_2d(a[:,0], a[:,1])\n",
        "d = np.sqrt( (x-x.T)**2 + (y-y.T)**2)\n",
        "print(d)"
      ]
    },
    {
      "cell_type": "markdown",
      "metadata": {
        "id": "6Mv46vx6A2-E"
      },
      "source": [
        "#### 53. How to convert a float (32 bits) array into an integer (32 bits) in place? \n",
        "(**hint**: astype(copy=False))"
      ]
    },
    {
      "cell_type": "code",
      "execution_count": null,
      "metadata": {
        "id": "BZ7ab3R5A2-F",
        "colab": {
          "base_uri": "https://localhost:8080/"
        },
        "outputId": "d1ce61cc-4527-4ac5-df70-9daefd489edc"
      },
      "outputs": [
        {
          "output_type": "stream",
          "name": "stdout",
          "text": [
            "[33  9 32 67  7 87 24 60 36 38]\n"
          ]
        }
      ],
      "source": [
        "Z = (np.random.rand(10)*100).astype(np.float32)\n",
        "Y = Z.view(np.int32)\n",
        "Y[:] = Z\n",
        "print(Y)"
      ]
    },
    {
      "cell_type": "markdown",
      "metadata": {
        "id": "QdhjZr-LA2-F"
      },
      "source": [
        "#### 54. How to read the following file? (★★☆) \n",
        "(**hint**: np.genfromtxt)"
      ]
    },
    {
      "cell_type": "markdown",
      "metadata": {
        "id": "c2b-CXdTA2-F"
      },
      "source": [
        "```\n",
        "1, 2, 3, 4, 5\n",
        "6,  ,  , 7, 8\n",
        " ,  , 9,10,11\n",
        "```"
      ]
    },
    {
      "cell_type": "code",
      "execution_count": null,
      "metadata": {
        "id": "C3VtCgOsA2-F",
        "colab": {
          "base_uri": "https://localhost:8080/"
        },
        "outputId": "60a26000-7711-4b00-e18e-0590bdfe3f91"
      },
      "outputs": [
        {
          "output_type": "stream",
          "name": "stdout",
          "text": [
            "[[ 1  2  3  4  5]\n",
            " [ 6 -1 -1  7  8]\n",
            " [-1 -1  9 10 11]]\n"
          ]
        },
        {
          "output_type": "stream",
          "name": "stderr",
          "text": [
            "/usr/local/lib/python3.7/dist-packages/ipykernel_launcher.py:9: DeprecationWarning: `np.int` is a deprecated alias for the builtin `int`. To silence this warning, use `int` by itself. Doing this will not modify any behavior and is safe. When replacing `np.int`, you may wish to use e.g. `np.int64` or `np.int32` to specify the precision. If you wish to review your current use, check the release note link for additional information.\n",
            "Deprecated in NumPy 1.20; for more details and guidance: https://numpy.org/devdocs/release/1.20.0-notes.html#deprecations\n",
            "  if __name__ == '__main__':\n"
          ]
        }
      ],
      "source": [
        "from io import StringIO\n",
        "\n",
        "s = StringIO('''1, 2, 3, 4, 5\n",
        "\n",
        "                6,  ,  , 7, 8\n",
        "\n",
        "                 ,  , 9,10,11\n",
        "''')\n",
        "Z = np.genfromtxt(s, delimiter=\",\", dtype=np.int)\n",
        "print(Z)\n"
      ]
    },
    {
      "cell_type": "markdown",
      "metadata": {
        "id": "iIegxXJNA2-G"
      },
      "source": [
        "#### 55. What is the equivalent of enumerate for numpy arrays? (★★☆) \n",
        "(**hint**: np.ndenumerate, np.ndindex)"
      ]
    },
    {
      "cell_type": "code",
      "execution_count": null,
      "metadata": {
        "id": "wI3UEQ0eA2-G",
        "colab": {
          "base_uri": "https://localhost:8080/"
        },
        "outputId": "a12ee2f2-6b16-48a1-9dee-6ef3ebd65fa7"
      },
      "outputs": [
        {
          "output_type": "stream",
          "name": "stdout",
          "text": [
            "(0, 0) 0\n",
            "(0, 1) 1\n",
            "(0, 2) 2\n",
            "(1, 0) 3\n",
            "(1, 1) 4\n",
            "(1, 2) 5\n",
            "(2, 0) 6\n",
            "(2, 1) 7\n",
            "(2, 2) 8\n",
            "(0, 0) 0\n",
            "(0, 1) 1\n",
            "(0, 2) 2\n",
            "(1, 0) 3\n",
            "(1, 1) 4\n",
            "(1, 2) 5\n",
            "(2, 0) 6\n",
            "(2, 1) 7\n",
            "(2, 2) 8\n"
          ]
        }
      ],
      "source": [
        "Z = np.arange(9).reshape(3,3)\n",
        "for index, value in np.ndenumerate(Z):\n",
        "    print(index, value)\n",
        "for index in np.ndindex(Z.shape):\n",
        "    print(index, Z[index])"
      ]
    },
    {
      "cell_type": "markdown",
      "metadata": {
        "id": "DK5n8G4FA2-G"
      },
      "source": [
        "#### 56. Generate a generic 2D Gaussian-like array (★★☆) \n",
        "(**hint**: np.meshgrid, np.exp)"
      ]
    },
    {
      "cell_type": "code",
      "execution_count": null,
      "metadata": {
        "id": "7WcBF0igA2-G",
        "colab": {
          "base_uri": "https://localhost:8080/"
        },
        "outputId": "68445402-9d12-4fcb-ec39-65301ad2ac2d"
      },
      "outputs": [
        {
          "output_type": "stream",
          "name": "stdout",
          "text": [
            "[[0.36787944 0.44822088 0.51979489 0.57375342 0.60279818 0.60279818\n",
            "  0.57375342 0.51979489 0.44822088 0.36787944]\n",
            " [0.44822088 0.54610814 0.63331324 0.69905581 0.73444367 0.73444367\n",
            "  0.69905581 0.63331324 0.54610814 0.44822088]\n",
            " [0.51979489 0.63331324 0.73444367 0.81068432 0.85172308 0.85172308\n",
            "  0.81068432 0.73444367 0.63331324 0.51979489]\n",
            " [0.57375342 0.69905581 0.81068432 0.89483932 0.9401382  0.9401382\n",
            "  0.89483932 0.81068432 0.69905581 0.57375342]\n",
            " [0.60279818 0.73444367 0.85172308 0.9401382  0.98773022 0.98773022\n",
            "  0.9401382  0.85172308 0.73444367 0.60279818]\n",
            " [0.60279818 0.73444367 0.85172308 0.9401382  0.98773022 0.98773022\n",
            "  0.9401382  0.85172308 0.73444367 0.60279818]\n",
            " [0.57375342 0.69905581 0.81068432 0.89483932 0.9401382  0.9401382\n",
            "  0.89483932 0.81068432 0.69905581 0.57375342]\n",
            " [0.51979489 0.63331324 0.73444367 0.81068432 0.85172308 0.85172308\n",
            "  0.81068432 0.73444367 0.63331324 0.51979489]\n",
            " [0.44822088 0.54610814 0.63331324 0.69905581 0.73444367 0.73444367\n",
            "  0.69905581 0.63331324 0.54610814 0.44822088]\n",
            " [0.36787944 0.44822088 0.51979489 0.57375342 0.60279818 0.60279818\n",
            "  0.57375342 0.51979489 0.44822088 0.36787944]]\n"
          ]
        }
      ],
      "source": [
        "X, Y = np.meshgrid(np.linspace(-1,1,10), np.linspace(-1,1,10))\n",
        "D = np.sqrt(X*X+Y*Y)\n",
        "sigma, mu = 1.0, 0.0\n",
        "G = np.exp(-( (D-mu)**2 / ( 2.0 * sigma**2 ) ) )\n",
        "print(G)"
      ]
    },
    {
      "cell_type": "markdown",
      "metadata": {
        "id": "m0iuqKAnA2-H"
      },
      "source": [
        "#### 57. How to randomly place p elements in a 2D array? (★★☆) \n",
        "(**hint**: np.put, np.random.choice)"
      ]
    },
    {
      "cell_type": "code",
      "execution_count": null,
      "metadata": {
        "id": "dSu0SHD0A2-I",
        "colab": {
          "base_uri": "https://localhost:8080/"
        },
        "outputId": "6965238d-5bad-42e7-d106-956780cb8b44"
      },
      "outputs": [
        {
          "output_type": "stream",
          "name": "stdout",
          "text": [
            "[[0. 0. 0. 0. 0. 0. 0. 0. 0. 0.]\n",
            " [0. 0. 0. 0. 0. 0. 0. 0. 0. 0.]\n",
            " [0. 0. 0. 0. 0. 0. 0. 0. 0. 0.]\n",
            " [0. 0. 0. 0. 0. 0. 0. 0. 1. 0.]\n",
            " [0. 0. 0. 0. 0. 0. 0. 0. 0. 0.]\n",
            " [0. 0. 0. 0. 0. 0. 0. 0. 0. 0.]\n",
            " [0. 0. 1. 0. 0. 1. 0. 0. 0. 0.]\n",
            " [0. 0. 0. 0. 0. 0. 0. 0. 0. 0.]\n",
            " [0. 0. 0. 0. 0. 0. 0. 0. 0. 0.]\n",
            " [0. 0. 0. 0. 0. 0. 0. 0. 0. 0.]]\n"
          ]
        }
      ],
      "source": [
        "n = 10\n",
        "p = 3\n",
        "Z = np.zeros((n,n))\n",
        "np.put(Z, np.random.choice(range(n*n), p, replace=False),1)\n",
        "print(Z)"
      ]
    },
    {
      "cell_type": "markdown",
      "metadata": {
        "id": "NdUbD6VYA2-I"
      },
      "source": [
        "#### 58. Subtract the mean of each row of a matrix (★★☆) \n",
        "(**hint**: mean(axis=,keepdims=))"
      ]
    },
    {
      "cell_type": "code",
      "execution_count": null,
      "metadata": {
        "id": "LR16NG2CA2-I",
        "colab": {
          "base_uri": "https://localhost:8080/"
        },
        "outputId": "8f09b159-050f-4b40-af07-e2d0a431127b"
      },
      "outputs": [
        {
          "output_type": "stream",
          "name": "stdout",
          "text": [
            "[[-0.09573889  0.29759061  0.20781099 -0.04196127 -0.38418703  0.20872813\n",
            "  -0.16315492 -0.00599256  0.17433643 -0.19743146]\n",
            " [ 0.08073736  0.31376343  0.0730129   0.02906804 -0.3222778  -0.10901924\n",
            "   0.25278539 -0.46560444  0.23052846 -0.0829941 ]\n",
            " [ 0.42287507  0.42841852 -0.17764234  0.12964193  0.21972041 -0.25366359\n",
            "  -0.17476675 -0.45373487  0.02719364 -0.16804202]\n",
            " [ 0.11148086  0.45514369 -0.05399878 -0.33415531 -0.22074615 -0.29547612\n",
            "  -0.34951365  0.23971548  0.32014404  0.12740596]\n",
            " [-0.14614444  0.35144067  0.37020661  0.15761553 -0.16672397  0.02091759\n",
            "  -0.4571345  -0.06784528 -0.47778672  0.41545452]]\n"
          ]
        }
      ],
      "source": [
        "X = np.random.rand(5, 10)\n",
        "\n",
        "# Recent versions of numpy\n",
        "Y = X - X.mean(axis=1, keepdims=True)\n",
        "\n",
        "# Older versions of numpy\n",
        "Y = X - X.mean(axis=1).reshape(-1, 1)\n",
        "\n",
        "print(Y)"
      ]
    },
    {
      "cell_type": "markdown",
      "metadata": {
        "id": "nzHWLSRcA2-I"
      },
      "source": [
        "#### 59. How to sort an array by the nth column? (★★☆) \n",
        "(**hint**: argsort)"
      ]
    },
    {
      "cell_type": "code",
      "execution_count": null,
      "metadata": {
        "id": "fsfwQBmVA2-J",
        "colab": {
          "base_uri": "https://localhost:8080/"
        },
        "outputId": "0248ec9b-2821-42bb-86c5-d572f9198d48"
      },
      "outputs": [
        {
          "output_type": "stream",
          "name": "stdout",
          "text": [
            "[[2 8 6]\n",
            " [4 6 5]\n",
            " [1 5 6]]\n",
            "[[1 5 6]\n",
            " [4 6 5]\n",
            " [2 8 6]]\n"
          ]
        }
      ],
      "source": [
        "Z = np.random.randint(0,10,(3,3))\n",
        "print(Z)\n",
        "print(Z[Z[:,1].argsort()])"
      ]
    },
    {
      "cell_type": "markdown",
      "metadata": {
        "id": "SbROID2wA2-J"
      },
      "source": [
        "#### 60. How to tell if a given 2D array has null columns? (★★☆) \n",
        "(**hint**: any, ~)"
      ]
    },
    {
      "cell_type": "code",
      "execution_count": null,
      "metadata": {
        "id": "q3Qo0oocA2-J",
        "colab": {
          "base_uri": "https://localhost:8080/"
        },
        "outputId": "31206cee-b919-4d69-9369-915246e58d45"
      },
      "outputs": [
        {
          "output_type": "stream",
          "name": "stdout",
          "text": [
            "False\n"
          ]
        }
      ],
      "source": [
        "Z = np.random.randint(0,3,(3,10))\n",
        "print((~Z.any(axis=0)).any())"
      ]
    },
    {
      "cell_type": "markdown",
      "metadata": {
        "id": "0WtbVJYlA2-J"
      },
      "source": [
        "#### 61. Find the nearest value from a given value in an array (★★☆) \n",
        "(**hint**: np.abs, argmin, flat)"
      ]
    },
    {
      "cell_type": "code",
      "execution_count": null,
      "metadata": {
        "id": "s5C-W2snA2-K",
        "colab": {
          "base_uri": "https://localhost:8080/"
        },
        "outputId": "cb08b0db-049d-451b-9cce-b9e503a10ac8"
      },
      "outputs": [
        {
          "output_type": "stream",
          "name": "stdout",
          "text": [
            "0.41558653213143726\n"
          ]
        }
      ],
      "source": [
        "Z = np.random.uniform(0,1,10)\n",
        "z = 0.5\n",
        "m = Z.flat[np.abs(Z - z).argmin()]\n",
        "print(m)"
      ]
    },
    {
      "cell_type": "markdown",
      "metadata": {
        "id": "vCgPuLGsA2-K"
      },
      "source": [
        "#### 62. Considering two arrays with shape (1,3) and (3,1), how to compute their sum using an iterator? (★★☆) \n",
        "(**hint**: np.nditer)"
      ]
    },
    {
      "cell_type": "code",
      "execution_count": null,
      "metadata": {
        "id": "GhaLz93NA2-K",
        "colab": {
          "base_uri": "https://localhost:8080/"
        },
        "outputId": "6bc1dd02-cbe0-4e2d-d178-096d8f171672"
      },
      "outputs": [
        {
          "output_type": "stream",
          "name": "stdout",
          "text": [
            "[[0 1 2]\n",
            " [1 2 3]\n",
            " [2 3 4]]\n"
          ]
        }
      ],
      "source": [
        "A = np.arange(3).reshape(3,1)\n",
        "B = np.arange(3).reshape(1,3)\n",
        "it = np.nditer([A,B,None])\n",
        "for x,y,z in it: z[...] = x + y\n",
        "print(it.operands[2])"
      ]
    },
    {
      "cell_type": "markdown",
      "metadata": {
        "id": "S2mkQ4HuA2-K"
      },
      "source": [
        "#### 63. Create an array class that has a name attribute (★★☆) \n",
        "(**hint**: class method)"
      ]
    },
    {
      "cell_type": "code",
      "execution_count": null,
      "metadata": {
        "id": "veVWbQVNA2-K",
        "colab": {
          "base_uri": "https://localhost:8080/"
        },
        "outputId": "93ed742c-ce6d-4149-de06-224a1ca7c934"
      },
      "outputs": [
        {
          "output_type": "stream",
          "name": "stdout",
          "text": [
            "range_10\n"
          ]
        }
      ],
      "source": [
        "class NamedArray(np.ndarray):\n",
        "    def __new__(cls, array, name=\"no name\"):\n",
        "        obj = np.asarray(array).view(cls)\n",
        "        obj.name = name\n",
        "        return obj\n",
        "    def __array_finalize__(self, obj):\n",
        "        if obj is None: return\n",
        "        self.info = getattr(obj, 'name', \"no name\")\n",
        "\n",
        "Z = NamedArray(np.arange(10), \"range_10\")\n",
        "print (Z.name)"
      ]
    },
    {
      "cell_type": "markdown",
      "metadata": {
        "id": "NUSTiHYHA2-L"
      },
      "source": [
        "#### 64. Consider a given vector, how to add 1 to each element indexed by a second vector (be careful with repeated indices)? (★★★) \n",
        "(**hint**: np.bincount | np.add.at)"
      ]
    },
    {
      "cell_type": "code",
      "execution_count": null,
      "metadata": {
        "id": "ssTAHRFjA2-L",
        "colab": {
          "base_uri": "https://localhost:8080/"
        },
        "outputId": "0109525f-2b1d-4a02-83b3-e94bb4042368"
      },
      "outputs": [
        {
          "output_type": "stream",
          "name": "stdout",
          "text": [
            "[3. 1. 4. 3. 2. 5. 2. 3. 3. 4.]\n"
          ]
        }
      ],
      "source": [
        "Z = np.ones(10)\n",
        "I = np.random.randint(0,len(Z),20)\n",
        "Z += np.bincount(I, minlength=len(Z))\n",
        "print(Z)"
      ]
    },
    {
      "cell_type": "code",
      "source": [
        "Z = np.ones(10)\n",
        "np.add.at(Z, I, 1)\n",
        "print(Z)"
      ],
      "metadata": {
        "id": "GAk0qtvCYrFe",
        "outputId": "939ee9d8-90ec-4e79-916e-e9ffaa2572e5",
        "colab": {
          "base_uri": "https://localhost:8080/"
        }
      },
      "execution_count": null,
      "outputs": [
        {
          "output_type": "stream",
          "name": "stdout",
          "text": [
            "[3. 1. 4. 3. 2. 5. 2. 3. 3. 4.]\n"
          ]
        }
      ]
    },
    {
      "cell_type": "markdown",
      "metadata": {
        "id": "Pt_CElOpA2-L"
      },
      "source": [
        "#### 65. How to accumulate elements of a vector (X) to an array (F) based on an index list (I)? (★★★) \n",
        "(**hint**: np.bincount)"
      ]
    },
    {
      "cell_type": "code",
      "execution_count": null,
      "metadata": {
        "id": "qBWGUTXzA2-L",
        "colab": {
          "base_uri": "https://localhost:8080/"
        },
        "outputId": "cd58ad16-4108-457d-9f30-f9bbc41429e0"
      },
      "outputs": [
        {
          "output_type": "stream",
          "name": "stdout",
          "text": [
            "[0. 7. 0. 6. 5. 0. 0. 0. 0. 3.]\n"
          ]
        }
      ],
      "source": [
        "X = [1,2,3,4,5,6]\n",
        "I = [1,3,9,3,4,1]\n",
        "F = np.bincount(I,X)\n",
        "print(F)"
      ]
    },
    {
      "cell_type": "markdown",
      "metadata": {
        "id": "0qy3_S94A2-M"
      },
      "source": [
        "#### 66. Considering a (w,h,3) image of (dtype=ubyte), compute the number of unique colors (★★★) \n",
        "(**hint**: np.unique)"
      ]
    },
    {
      "cell_type": "code",
      "execution_count": null,
      "metadata": {
        "id": "VejJz6__A2-M",
        "colab": {
          "base_uri": "https://localhost:8080/"
        },
        "outputId": "5114883f-1d06-4ed5-f3c6-b09e080f4850"
      },
      "outputs": [
        {
          "output_type": "stream",
          "name": "stdout",
          "text": [
            "[0 1]\n"
          ]
        }
      ],
      "source": [
        "w,h = 16,16\n",
        "I = np.random.randint(0,2,(h,w,3)).astype(np.ubyte)\n",
        "F = I[...,0]*256*256 + I[...,1]*256 +I[...,2]\n",
        "n = len(np.unique(F))\n",
        "print(np.unique(I))"
      ]
    },
    {
      "cell_type": "markdown",
      "metadata": {
        "id": "aDn5Dl2mA2-M"
      },
      "source": [
        "#### 67. Considering a four dimensions array, how to get sum over the last two axis at once? (★★★) \n",
        "(**hint**: sum(axis=(-2,-1)))"
      ]
    },
    {
      "cell_type": "code",
      "execution_count": null,
      "metadata": {
        "id": "2qBb04vqA2-N",
        "colab": {
          "base_uri": "https://localhost:8080/"
        },
        "outputId": "64ea1c98-bd25-4a8c-8a3b-1f5ed7f21511"
      },
      "outputs": [
        {
          "output_type": "stream",
          "name": "stdout",
          "text": [
            "[[51 58 48 48]\n",
            " [47 50 60 34]\n",
            " [61 41 51 46]]\n",
            "[[51 58 48 48]\n",
            " [47 50 60 34]\n",
            " [61 41 51 46]]\n"
          ]
        }
      ],
      "source": [
        "A = np.random.randint(0,10,(3,4,3,4))\n",
        "sum = A.sum(axis=(-2,-1))\n",
        "print(sum)\n",
        "sum = A.reshape(A.shape[:-2] + (-1,)).sum(axis=-1)\n",
        "print(sum)"
      ]
    },
    {
      "cell_type": "markdown",
      "metadata": {
        "id": "pAdOvDJ2A2-N"
      },
      "source": [
        "#### 68. Considering a one-dimensional vector D, how to compute means of subsets of D using a vector S of same size describing subset  indices? (★★★) \n",
        "(**hint**: np.bincount)"
      ]
    },
    {
      "cell_type": "code",
      "execution_count": null,
      "metadata": {
        "id": "C1NICl8sA2-N",
        "colab": {
          "base_uri": "https://localhost:8080/"
        },
        "outputId": "94e42313-b1c1-45dd-ea02-da9563157b31"
      },
      "outputs": [
        {
          "output_type": "stream",
          "name": "stdout",
          "text": [
            "[0.46537791 0.49881132 0.48349793 0.54032521 0.47110484 0.45066272\n",
            " 0.41271836 0.48353866 0.5408519  0.5245788 ]\n"
          ]
        }
      ],
      "source": [
        "D = np.random.uniform(0,1,100)\n",
        "S = np.random.randint(0,10,100)\n",
        "D_sums = np.bincount(S, weights=D)\n",
        "D_counts = np.bincount(S)\n",
        "D_means = D_sums / D_counts\n",
        "print(D_means)"
      ]
    },
    {
      "cell_type": "code",
      "source": [
        "# Pandas solution as a reference due to more intuitive code\n",
        "import pandas as pd\n",
        "print(pd.Series(D).groupby(S).mean())"
      ],
      "metadata": {
        "colab": {
          "base_uri": "https://localhost:8080/"
        },
        "id": "W0oGwhWP6G4b",
        "outputId": "2e7ee384-5b32-4634-9c95-1cbe9cba66df"
      },
      "execution_count": null,
      "outputs": [
        {
          "output_type": "stream",
          "name": "stdout",
          "text": [
            "0    0.465378\n",
            "1    0.498811\n",
            "2    0.483498\n",
            "3    0.540325\n",
            "4    0.471105\n",
            "5    0.450663\n",
            "6    0.412718\n",
            "7    0.483539\n",
            "8    0.540852\n",
            "9    0.524579\n",
            "dtype: float64\n"
          ]
        }
      ]
    },
    {
      "cell_type": "markdown",
      "metadata": {
        "id": "vLL8zw6DA2-O"
      },
      "source": [
        "#### 69. How to get the diagonal of a dot product? (★★★) \n",
        "(**hint**: np.diag)"
      ]
    },
    {
      "cell_type": "code",
      "execution_count": null,
      "metadata": {
        "id": "6xb6xExMA2-O",
        "colab": {
          "base_uri": "https://localhost:8080/"
        },
        "outputId": "3e602c7f-5d35-41c3-8e6d-c56be1702cb5"
      },
      "outputs": [
        {
          "output_type": "execute_result",
          "data": {
            "text/plain": [
              "array([1.1672318 , 1.54919196, 2.00146271, 1.64199311, 1.78351685])"
            ]
          },
          "metadata": {},
          "execution_count": 9
        }
      ],
      "source": [
        "A = np.random.uniform(0,1,(5,5))\n",
        "B = np.random.uniform(0,1,(5,5))\n",
        "\n",
        "np.diag(np.dot(A, B))\n",
        "np.sum(A * B.T, axis=1)\n",
        "np.einsum(\"ij,ji->i\", A, B)"
      ]
    },
    {
      "cell_type": "markdown",
      "metadata": {
        "id": "AKiYxmdJA2-O"
      },
      "source": [
        "#### 70. Consider the vector \\[1, 2, 3, 4, 5\\], how to build a new vector with 3 consecutive zeros interleaved between each value? (★★★) \n",
        "(**hint**: array\\[::4\\])"
      ]
    },
    {
      "cell_type": "code",
      "execution_count": null,
      "metadata": {
        "id": "nylTHQb8A2-P",
        "colab": {
          "base_uri": "https://localhost:8080/"
        },
        "outputId": "2dad40d6-e59c-408a-8f15-4f2e20e439be"
      },
      "outputs": [
        {
          "output_type": "stream",
          "name": "stdout",
          "text": [
            "[1. 0. 0. 0. 2. 0. 0. 0. 3. 0. 0. 0. 4. 0. 0. 0. 5.]\n"
          ]
        }
      ],
      "source": [
        "Z = np.array([1,2,3,4,5])\n",
        "nz = 3\n",
        "Z0 = np.zeros(len(Z) + (len(Z)-1)*(nz))\n",
        "Z0[::nz+1] = Z\n",
        "print(Z0)"
      ]
    },
    {
      "cell_type": "markdown",
      "metadata": {
        "id": "LHwg9SLUA2-P"
      },
      "source": [
        "#### 71. Consider an array of dimension (5,5,3), how to mulitply it by an array with dimensions (5,5)? (★★★) \n",
        "(**hint**: array\\[:, :, None\\])"
      ]
    },
    {
      "cell_type": "code",
      "execution_count": null,
      "metadata": {
        "collapsed": true,
        "id": "poZNIci5A2-P",
        "colab": {
          "base_uri": "https://localhost:8080/"
        },
        "outputId": "0265c7ea-6af4-4a4b-a45a-eb5773dbfd3a"
      },
      "outputs": [
        {
          "output_type": "stream",
          "name": "stdout",
          "text": [
            "[[[2. 2. 2.]\n",
            "  [2. 2. 2.]\n",
            "  [2. 2. 2.]\n",
            "  [2. 2. 2.]\n",
            "  [2. 2. 2.]]\n",
            "\n",
            " [[2. 2. 2.]\n",
            "  [2. 2. 2.]\n",
            "  [2. 2. 2.]\n",
            "  [2. 2. 2.]\n",
            "  [2. 2. 2.]]\n",
            "\n",
            " [[2. 2. 2.]\n",
            "  [2. 2. 2.]\n",
            "  [2. 2. 2.]\n",
            "  [2. 2. 2.]\n",
            "  [2. 2. 2.]]\n",
            "\n",
            " [[2. 2. 2.]\n",
            "  [2. 2. 2.]\n",
            "  [2. 2. 2.]\n",
            "  [2. 2. 2.]\n",
            "  [2. 2. 2.]]\n",
            "\n",
            " [[2. 2. 2.]\n",
            "  [2. 2. 2.]\n",
            "  [2. 2. 2.]\n",
            "  [2. 2. 2.]\n",
            "  [2. 2. 2.]]]\n"
          ]
        }
      ],
      "source": [
        "A = np.ones((5,5,3))\n",
        "B = 2*np.ones((5,5))\n",
        "print(A * B[:,:,None])"
      ]
    },
    {
      "cell_type": "markdown",
      "metadata": {
        "id": "pNuo-8wOA2-P"
      },
      "source": [
        "#### 72. How to swap two rows of an array? (★★★) \n",
        "(**hint**: array\\[\\[\\]\\] = array\\[\\[\\]\\])"
      ]
    },
    {
      "cell_type": "code",
      "execution_count": null,
      "metadata": {
        "id": "C00NgKCyA2-R",
        "colab": {
          "base_uri": "https://localhost:8080/"
        },
        "outputId": "20db06e5-034b-4f2d-ce2d-037b0c52992e"
      },
      "outputs": [
        {
          "output_type": "stream",
          "name": "stdout",
          "text": [
            "[[ 5  6  7  8  9]\n",
            " [ 0  1  2  3  4]\n",
            " [10 11 12 13 14]\n",
            " [15 16 17 18 19]\n",
            " [20 21 22 23 24]]\n"
          ]
        }
      ],
      "source": [
        "A = np.arange(25).reshape(5,5)\n",
        "A[[0,1]] = A[[1,0]]\n",
        "print(A)"
      ]
    },
    {
      "cell_type": "markdown",
      "metadata": {
        "id": "vePY3_SqA2-R"
      },
      "source": [
        "#### 73. Consider a set of 10 triplets describing 10 triangles (with shared vertices), find the set of unique line segments composing all the  triangles (★★★) \n",
        "(**hint**: repeat, np.roll, np.sort, view, np.unique)"
      ]
    },
    {
      "cell_type": "code",
      "execution_count": null,
      "metadata": {
        "id": "QClLg5tCA2-S",
        "colab": {
          "base_uri": "https://localhost:8080/"
        },
        "outputId": "41a2b978-d263-4ad9-875c-822150ec4b11"
      },
      "outputs": [
        {
          "output_type": "stream",
          "name": "stdout",
          "text": [
            "[( 3, 34) ( 3, 73) ( 6, 19) ( 6, 83) (12, 22) (12, 40) (17, 41) (17, 90)\n",
            " (18, 72) (18, 83) (19, 83) (22, 40) (25, 52) (25, 61) (25, 87) (25, 98)\n",
            " (34, 73) (35, 90) (35, 93) (37, 83) (41, 90) (42, 43) (42, 83) (43, 83)\n",
            " (52, 87) (61, 98) (72, 83) (83, 83) (90, 93)]\n"
          ]
        }
      ],
      "source": [
        "faces = np.random.randint(0,100,(10,3))\n",
        "F = np.roll(faces.repeat(2,axis=1),-1,axis=1)\n",
        "F = F.reshape(len(F)*3,2)\n",
        "F = np.sort(F,axis=1)\n",
        "G = F.view( dtype=[('p0',F.dtype),('p1',F.dtype)] )\n",
        "G = np.unique(G)\n",
        "print(G)"
      ]
    },
    {
      "cell_type": "markdown",
      "metadata": {
        "id": "sQKJUySuA2-S"
      },
      "source": [
        "#### 74. Given an array C that is a bincount, how to produce an array A such that np.bincount(A) == C? (★★★) \n",
        "(**hint**: np.repeat)"
      ]
    },
    {
      "cell_type": "code",
      "execution_count": null,
      "metadata": {
        "id": "adLUelFIA2-S",
        "colab": {
          "base_uri": "https://localhost:8080/"
        },
        "outputId": "3d02d939-e687-4ce9-bc09-bcbfd2b78f34"
      },
      "outputs": [
        {
          "output_type": "stream",
          "name": "stdout",
          "text": [
            "[1 1 2 3 4 4 6]\n"
          ]
        }
      ],
      "source": [
        "C = np.bincount([1,1,2,3,4,4,6])\n",
        "A = np.repeat(np.arange(len(C)), C)\n",
        "print(A)"
      ]
    },
    {
      "cell_type": "markdown",
      "metadata": {
        "id": "DzmtZREmA2-S"
      },
      "source": [
        "#### 75. How to compute averages using a sliding window over an array? (★★★) \n",
        "(**hint**: np.cumsum)"
      ]
    },
    {
      "cell_type": "code",
      "execution_count": null,
      "metadata": {
        "id": "J0taqIA6A2-S",
        "colab": {
          "base_uri": "https://localhost:8080/"
        },
        "outputId": "73bf6c78-0176-441b-b067-6e495d59b6bd"
      },
      "outputs": [
        {
          "output_type": "stream",
          "name": "stdout",
          "text": [
            "[ 1.  2.  3.  4.  5.  6.  7.  8.  9. 10. 11. 12. 13. 14. 15. 16. 17. 18.]\n"
          ]
        }
      ],
      "source": [
        "def moving_average(a, n=3) :\n",
        "    ret = np.cumsum(a, dtype=float)\n",
        "    ret[n:] = ret[n:] - ret[:-n]\n",
        "    return ret[n - 1:] / n\n",
        "Z = np.arange(20)\n",
        "print(moving_average(Z, n=3))"
      ]
    },
    {
      "cell_type": "markdown",
      "metadata": {
        "id": "QaMf2Py_A2-T"
      },
      "source": [
        "#### 76. Consider a one-dimensional array Z, build a two-dimensional array whose first row is (Z\\[0\\],Z\\[1\\],Z\\[2\\]) and each subsequent row is  shifted by 1 (last row should be (Z\\[-3\\],Z\\[-2\\],Z\\[-1\\]) (★★★) \n",
        "(**hint**: from numpy.lib import stride_tricks)"
      ]
    },
    {
      "cell_type": "code",
      "execution_count": null,
      "metadata": {
        "id": "LowBvCJbA2-T",
        "colab": {
          "base_uri": "https://localhost:8080/"
        },
        "outputId": "a79735a8-d567-4c95-a126-047f739b53b3"
      },
      "outputs": [
        {
          "output_type": "stream",
          "name": "stdout",
          "text": [
            "[[0 1 2]\n",
            " [1 2 3]\n",
            " [2 3 4]\n",
            " [3 4 5]\n",
            " [4 5 6]\n",
            " [5 6 7]\n",
            " [6 7 8]\n",
            " [7 8 9]]\n"
          ]
        }
      ],
      "source": [
        "from numpy.lib import stride_tricks\n",
        "\n",
        "def rolling(a, window):\n",
        "    shape = (a.size - window + 1, window)\n",
        "    strides = (a.itemsize, a.itemsize)\n",
        "    return stride_tricks.as_strided(a, shape=shape, strides=strides)\n",
        "Z = rolling(np.arange(10), 3)\n",
        "print(Z)"
      ]
    },
    {
      "cell_type": "markdown",
      "metadata": {
        "id": "F-7M2SJNA2-T"
      },
      "source": [
        "#### 77. How to negate a boolean, or to change the sign of a float inplace? (★★★) \n",
        "(**hint**: np.logical_not, np.negative)"
      ]
    },
    {
      "cell_type": "code",
      "execution_count": null,
      "metadata": {
        "id": "ZNdvIqX2A2-T",
        "colab": {
          "base_uri": "https://localhost:8080/"
        },
        "outputId": "5a0ef373-c1cc-421f-f36a-e3e258146515"
      },
      "outputs": [
        {
          "output_type": "execute_result",
          "data": {
            "text/plain": [
              "array([ 0.66233793,  0.68914292, -0.23666101, -0.38331957, -0.53382739,\n",
              "       -0.18724802,  0.29895042,  0.56362827, -0.98821548,  0.20799946,\n",
              "       -0.3728706 ,  0.69461542,  0.66387878,  0.22194685,  0.91401961,\n",
              "        0.64008238,  0.83922362,  0.10492657, -0.21854134, -0.10464935,\n",
              "       -0.34075328,  0.26336924,  0.5261885 ,  0.81540394,  0.83506051,\n",
              "        0.68495524,  0.68596766, -0.67088292,  0.92660331,  0.83156282,\n",
              "       -0.0096888 ,  0.69755178,  0.57966489,  0.85243238, -0.30890548,\n",
              "       -0.5889648 ,  0.20952233, -0.43413464, -0.16078175, -0.67284436,\n",
              "        0.11589986, -0.76646197, -0.15235679, -0.21829871,  0.4578787 ,\n",
              "       -0.76359365, -0.74074404, -0.92493398, -0.16761126,  0.93954011,\n",
              "        0.05424561,  0.92443629,  0.47244147,  0.61584101, -0.15348722,\n",
              "        0.51814154, -0.53187118, -0.70485518,  0.42819991, -0.55606835,\n",
              "       -0.81326915, -0.70805122, -0.69348723,  0.39217453,  0.13740268,\n",
              "       -0.12350083,  0.79331542,  0.12763222, -0.65992695,  0.82913483,\n",
              "        0.09155529, -0.67645581, -0.45605514,  0.98661503, -0.69864853,\n",
              "        0.05369954,  0.38876838, -0.18100167, -0.37452441, -0.78258081,\n",
              "        0.10196684, -0.50916078,  0.57568596,  0.11957982,  0.89411662,\n",
              "       -0.73815972, -0.15935208,  0.42564768, -0.23882786,  0.9139672 ,\n",
              "       -0.14993961, -0.10984452, -0.72394906, -0.92736128, -0.92833284,\n",
              "       -0.92335343, -0.05111443, -0.29208133,  0.56556408, -0.66358259])"
            ]
          },
          "metadata": {},
          "execution_count": 16
        }
      ],
      "source": [
        "Z = np.random.randint(0,2,100)\n",
        "np.logical_not(Z, out=Z)\n",
        "\n",
        "Z = np.random.uniform(-1.0,1.0,100)\n",
        "np.negative(Z, out=Z)"
      ]
    },
    {
      "cell_type": "markdown",
      "metadata": {
        "id": "L2IHaVZ7A2-U"
      },
      "source": [
        "#### 78. Consider 2 sets of points P0,P1 describing lines (2d) and a point p, how to compute distance from p to each line i  (P0\\[i\\],P1\\[i\\])? (★★★)"
      ]
    },
    {
      "cell_type": "code",
      "execution_count": null,
      "metadata": {
        "id": "BSk2gSY4A2-U",
        "colab": {
          "base_uri": "https://localhost:8080/"
        },
        "outputId": "4c378488-5629-454c-8ae3-aeb7b93964fc"
      },
      "outputs": [
        {
          "output_type": "stream",
          "name": "stdout",
          "text": [
            "[1.64924089 4.78800757 4.88484673 1.95792123 1.37245952 0.06662628\n",
            " 5.43644392 6.01917028 2.17905518 5.57795777]\n"
          ]
        }
      ],
      "source": [
        "def distance(P0, P1, p):\n",
        "    T = P1 - P0\n",
        "    L = (T**2).sum(axis=1)\n",
        "    U = -((P0[:,0]-p[...,0])*T[:,0] + (P0[:,1]-p[...,1])*T[:,1]) / L\n",
        "    U = U.reshape(len(U),1)\n",
        "    D = P0 + U*T - p\n",
        "    return np.sqrt((D**2).sum(axis=1))\n",
        "\n",
        "P0 = np.random.uniform(-10,10,(10,2))\n",
        "P1 = np.random.uniform(-10,10,(10,2))\n",
        "p  = np.random.uniform(-10,10,( 1,2))\n",
        "print(distance(P0, P1, p))"
      ]
    },
    {
      "cell_type": "markdown",
      "metadata": {
        "id": "qPuAGvzFA2-V"
      },
      "source": [
        "#### 79. Consider 2 sets of points P0,P1 describing lines (2d) and a set of points P, how to compute distance from each point j (P\\[j\\]) to each line i (P0\\[i\\],P1\\[i\\])? (★★★)"
      ]
    },
    {
      "cell_type": "code",
      "execution_count": null,
      "metadata": {
        "id": "hVesEj42A2-V",
        "colab": {
          "base_uri": "https://localhost:8080/"
        },
        "outputId": "95548185-68e6-4cb1-a3d8-7591b730ac02"
      },
      "outputs": [
        {
          "output_type": "stream",
          "name": "stdout",
          "text": [
            "[[ 4.12217712  5.57976495  2.48184109  1.6310646   3.08767182  6.34048907\n",
            "   6.75360142  4.87562767  2.6173755   9.39486313]\n",
            " [ 6.48688708  0.11715288  3.5346143   4.32724734  6.6998284  13.40952765\n",
            "  11.5889239   1.64644871  2.78201828 10.73964738]\n",
            " [ 4.6651509   3.42336741  9.5858464   8.81435509  5.61074552  2.77568129\n",
            "  10.43183934 11.08491021 10.68530694  0.76554203]\n",
            " [ 6.08543058  1.22772615  7.92056594  7.21636655  6.14522408  6.38727087\n",
            "  15.01905118  8.76341965 13.59029986  1.29913723]\n",
            " [ 2.42551726  8.08141053 10.46179417  9.61807603  4.2258869   0.31457662\n",
            "   5.68179778 12.67741265  7.10027035  3.60461666]\n",
            " [ 2.26112595  1.26475912  1.46339807  0.6782655   2.02690363  9.34086888\n",
            "  11.11305426  3.20891938  5.76174813  6.96651114]\n",
            " [ 1.40032348 15.25432111 11.44535399 10.48818355  1.70138772  4.83024971\n",
            "   1.70474107 14.79178136  1.26794145  8.33234921]\n",
            " [ 3.79895272  2.25658444  0.62195312  0.18483461  3.4247223   9.36667731\n",
            "   9.89914918  2.59711627  4.12118363  8.57235918]\n",
            " [ 6.59419125 12.87783825  4.858977    3.90117206  4.17940378  0.83041483\n",
            "   0.49069715  8.30011244  2.14215657 12.86433127]\n",
            " [ 4.51715534  1.30362565  6.35142299  5.63890742  4.49949707  7.47194114\n",
            "  14.79016608  7.29917204 12.32186182  0.16919625]]\n"
          ]
        }
      ],
      "source": [
        "P0 = np.random.uniform(-10, 10, (10,2))\n",
        "P1 = np.random.uniform(-10,10,(10,2))\n",
        "p = np.random.uniform(-10, 10, (10,2))\n",
        "print(np.array([distance(P0,P1,p_i) for p_i in p]))"
      ]
    },
    {
      "cell_type": "markdown",
      "metadata": {
        "id": "RRU4UShoA2-V"
      },
      "source": [
        "#### 80. Consider an arbitrary array, write a function that extract a subpart with a fixed shape and centered on a given element (pad with a `fill` value when necessary) (★★★) \n",
        "(**hint**: minimum, maximum)"
      ]
    },
    {
      "cell_type": "code",
      "execution_count": null,
      "metadata": {
        "id": "eWlzYlbGA2-V",
        "colab": {
          "base_uri": "https://localhost:8080/"
        },
        "outputId": "1e2a393b-ffb2-4793-93bf-4c3e09834453"
      },
      "outputs": [
        {
          "output_type": "stream",
          "name": "stdout",
          "text": [
            "[[9 8 9 5 8 6 9 2 2 7]\n",
            " [8 7 0 5 8 4 5 0 0 1]\n",
            " [6 0 1 8 8 4 5 4 9 2]\n",
            " [4 8 1 8 1 1 2 6 9 4]\n",
            " [7 0 4 7 7 7 7 2 7 3]\n",
            " [6 5 8 8 5 7 5 4 4 2]\n",
            " [4 3 6 7 5 5 3 3 8 2]\n",
            " [2 6 4 0 0 1 3 3 0 4]\n",
            " [5 0 7 6 3 7 0 6 0 6]\n",
            " [7 7 5 1 4 2 6 5 7 4]]\n",
            "[[0 0 0 0 0]\n",
            " [0 9 8 9 5]\n",
            " [0 8 7 0 5]\n",
            " [0 6 0 1 8]\n",
            " [0 4 8 1 8]]\n"
          ]
        },
        {
          "output_type": "stream",
          "name": "stderr",
          "text": [
            "/usr/local/lib/python3.7/dist-packages/ipykernel_launcher.py:23: FutureWarning: Using a non-tuple sequence for multidimensional indexing is deprecated; use `arr[tuple(seq)]` instead of `arr[seq]`. In the future this will be interpreted as an array index, `arr[np.array(seq)]`, which will result either in an error or a different result.\n"
          ]
        }
      ],
      "source": [
        "Z = np.random.randint(0,10,(10,10))\n",
        "shape = (5,5)\n",
        "fill  = 0\n",
        "position = (1,1)\n",
        "\n",
        "R = np.ones(shape, dtype=Z.dtype)*fill\n",
        "P  = np.array(list(position)).astype(int)\n",
        "Rs = np.array(list(R.shape)).astype(int)\n",
        "Zs = np.array(list(Z.shape)).astype(int)\n",
        "\n",
        "R_start = np.zeros((len(shape),)).astype(int)\n",
        "R_stop  = np.array(list(shape)).astype(int)\n",
        "Z_start = (P-Rs//2)\n",
        "Z_stop  = (P+Rs//2)+Rs%2\n",
        "\n",
        "R_start = (R_start - np.minimum(Z_start,0)).tolist()\n",
        "Z_start = (np.maximum(Z_start,0)).tolist()\n",
        "R_stop = np.maximum(R_start, (R_stop - np.maximum(Z_stop-Zs,0))).tolist()\n",
        "Z_stop = (np.minimum(Z_stop,Zs)).tolist()\n",
        "\n",
        "r = [slice(start,stop) for start,stop in zip(R_start,R_stop)]\n",
        "z = [slice(start,stop) for start,stop in zip(Z_start,Z_stop)]\n",
        "R[r] = Z[z]\n",
        "print(Z)\n",
        "print(R)"
      ]
    },
    {
      "cell_type": "markdown",
      "metadata": {
        "id": "_MT9KCjDA2-X"
      },
      "source": [
        "#### 81. Consider an array Z = \\[1,2,3,4,5,6,7,8,9,10,11,12,13,14\\], how to generate an array R = \\[\\[1,2,3,4\\], \\[2,3,4,5\\], \\[3,4,5,6\\], ..., \\[11,12,13,14\\]\\]? (★★★) \n",
        "(**hint**: stride\\_tricks.as\\_strided)"
      ]
    },
    {
      "cell_type": "code",
      "execution_count": null,
      "metadata": {
        "id": "T8eWZAZEA2-Y",
        "colab": {
          "base_uri": "https://localhost:8080/"
        },
        "outputId": "6b51e45f-5597-48f1-ac13-4cd891c02f9d"
      },
      "outputs": [
        {
          "output_type": "stream",
          "name": "stdout",
          "text": [
            "[[ 1  2  3  4]\n",
            " [ 2  3  4  5]\n",
            " [ 3  4  5  6]\n",
            " [ 4  5  6  7]\n",
            " [ 5  6  7  8]\n",
            " [ 6  7  8  9]\n",
            " [ 7  8  9 10]\n",
            " [ 8  9 10 11]\n",
            " [ 9 10 11 12]\n",
            " [10 11 12 13]\n",
            " [11 12 13 14]]\n"
          ]
        }
      ],
      "source": [
        "Z = np.arange(1,15,dtype=np.uint32)\n",
        "R = stride_tricks.as_strided(Z,(11,4),(4,4))\n",
        "print(R)"
      ]
    },
    {
      "cell_type": "markdown",
      "metadata": {
        "id": "zLa8EOViA2-Y"
      },
      "source": [
        "#### 82. Compute a matrix rank (★★★) \n",
        "(**hint**: np.linalg.svd) (suggestion: np.linalg.svd)"
      ]
    },
    {
      "cell_type": "code",
      "execution_count": null,
      "metadata": {
        "id": "RwOdnpteA2-Y",
        "colab": {
          "base_uri": "https://localhost:8080/"
        },
        "outputId": "7d41e11d-b0ef-4875-886d-0b4a91b8faf3"
      },
      "outputs": [
        {
          "output_type": "stream",
          "name": "stdout",
          "text": [
            "10\n"
          ]
        }
      ],
      "source": [
        "Z = np.random.uniform(0,1,(10,10))\n",
        "U, S, V = np.linalg.svd(Z)\n",
        "rank = np.sum(S > 1e-10)\n",
        "print(rank)"
      ]
    },
    {
      "cell_type": "markdown",
      "metadata": {
        "id": "_d5AK2u7A2-Y"
      },
      "source": [
        "#### 83. How to find the most frequent value in an array? \n",
        "(**hint**: np.bincount, argmax)"
      ]
    },
    {
      "cell_type": "code",
      "execution_count": null,
      "metadata": {
        "id": "MNKDgdM4A2-Z",
        "colab": {
          "base_uri": "https://localhost:8080/"
        },
        "outputId": "d2e2e409-c5d9-4a8b-d322-9176755e3dd2"
      },
      "outputs": [
        {
          "output_type": "stream",
          "name": "stdout",
          "text": [
            "2\n"
          ]
        }
      ],
      "source": [
        "Z = np.random.randint(0,10,50)\n",
        "print(np.bincount(Z).argmax())"
      ]
    },
    {
      "cell_type": "markdown",
      "metadata": {
        "id": "gs9W4UX-A2-Z"
      },
      "source": [
        "#### 84. Extract all the contiguous 3x3 blocks from a random 10x10 matrix (★★★) \n",
        "(**hint**: stride\\_tricks.as\\_strided)"
      ]
    },
    {
      "cell_type": "code",
      "execution_count": null,
      "metadata": {
        "id": "I5sgTb9mA2-Z",
        "colab": {
          "base_uri": "https://localhost:8080/"
        },
        "outputId": "bea68d42-9a87-46ab-81ae-e6cec519d45b"
      },
      "outputs": [
        {
          "output_type": "stream",
          "name": "stdout",
          "text": [
            "[[[[1 2 3]\n",
            "   [4 0 2]\n",
            "   [4 0 4]]\n",
            "\n",
            "  [[2 3 4]\n",
            "   [0 2 2]\n",
            "   [0 4 2]]\n",
            "\n",
            "  [[3 4 3]\n",
            "   [2 2 3]\n",
            "   [4 2 3]]\n",
            "\n",
            "  [[4 3 2]\n",
            "   [2 3 4]\n",
            "   [2 3 4]]\n",
            "\n",
            "  [[3 2 2]\n",
            "   [3 4 3]\n",
            "   [3 4 0]]\n",
            "\n",
            "  [[2 2 2]\n",
            "   [4 3 4]\n",
            "   [4 0 4]]\n",
            "\n",
            "  [[2 2 3]\n",
            "   [3 4 0]\n",
            "   [0 4 2]]\n",
            "\n",
            "  [[2 3 3]\n",
            "   [4 0 4]\n",
            "   [4 2 0]]]\n",
            "\n",
            "\n",
            " [[[4 0 2]\n",
            "   [4 0 4]\n",
            "   [4 2 3]]\n",
            "\n",
            "  [[0 2 2]\n",
            "   [0 4 2]\n",
            "   [2 3 4]]\n",
            "\n",
            "  [[2 2 3]\n",
            "   [4 2 3]\n",
            "   [3 4 4]]\n",
            "\n",
            "  [[2 3 4]\n",
            "   [2 3 4]\n",
            "   [4 4 3]]\n",
            "\n",
            "  [[3 4 3]\n",
            "   [3 4 0]\n",
            "   [4 3 4]]\n",
            "\n",
            "  [[4 3 4]\n",
            "   [4 0 4]\n",
            "   [3 4 1]]\n",
            "\n",
            "  [[3 4 0]\n",
            "   [0 4 2]\n",
            "   [4 1 4]]\n",
            "\n",
            "  [[4 0 4]\n",
            "   [4 2 0]\n",
            "   [1 4 4]]]\n",
            "\n",
            "\n",
            " [[[4 0 4]\n",
            "   [4 2 3]\n",
            "   [4 3 0]]\n",
            "\n",
            "  [[0 4 2]\n",
            "   [2 3 4]\n",
            "   [3 0 3]]\n",
            "\n",
            "  [[4 2 3]\n",
            "   [3 4 4]\n",
            "   [0 3 1]]\n",
            "\n",
            "  [[2 3 4]\n",
            "   [4 4 3]\n",
            "   [3 1 3]]\n",
            "\n",
            "  [[3 4 0]\n",
            "   [4 3 4]\n",
            "   [1 3 0]]\n",
            "\n",
            "  [[4 0 4]\n",
            "   [3 4 1]\n",
            "   [3 0 1]]\n",
            "\n",
            "  [[0 4 2]\n",
            "   [4 1 4]\n",
            "   [0 1 0]]\n",
            "\n",
            "  [[4 2 0]\n",
            "   [1 4 4]\n",
            "   [1 0 4]]]\n",
            "\n",
            "\n",
            " [[[4 2 3]\n",
            "   [4 3 0]\n",
            "   [0 4 1]]\n",
            "\n",
            "  [[2 3 4]\n",
            "   [3 0 3]\n",
            "   [4 1 4]]\n",
            "\n",
            "  [[3 4 4]\n",
            "   [0 3 1]\n",
            "   [1 4 3]]\n",
            "\n",
            "  [[4 4 3]\n",
            "   [3 1 3]\n",
            "   [4 3 0]]\n",
            "\n",
            "  [[4 3 4]\n",
            "   [1 3 0]\n",
            "   [3 0 2]]\n",
            "\n",
            "  [[3 4 1]\n",
            "   [3 0 1]\n",
            "   [0 2 0]]\n",
            "\n",
            "  [[4 1 4]\n",
            "   [0 1 0]\n",
            "   [2 0 4]]\n",
            "\n",
            "  [[1 4 4]\n",
            "   [1 0 4]\n",
            "   [0 4 3]]]\n",
            "\n",
            "\n",
            " [[[4 3 0]\n",
            "   [0 4 1]\n",
            "   [4 3 0]]\n",
            "\n",
            "  [[3 0 3]\n",
            "   [4 1 4]\n",
            "   [3 0 2]]\n",
            "\n",
            "  [[0 3 1]\n",
            "   [1 4 3]\n",
            "   [0 2 4]]\n",
            "\n",
            "  [[3 1 3]\n",
            "   [4 3 0]\n",
            "   [2 4 0]]\n",
            "\n",
            "  [[1 3 0]\n",
            "   [3 0 2]\n",
            "   [4 0 1]]\n",
            "\n",
            "  [[3 0 1]\n",
            "   [0 2 0]\n",
            "   [0 1 1]]\n",
            "\n",
            "  [[0 1 0]\n",
            "   [2 0 4]\n",
            "   [1 1 1]]\n",
            "\n",
            "  [[1 0 4]\n",
            "   [0 4 3]\n",
            "   [1 1 3]]]\n",
            "\n",
            "\n",
            " [[[0 4 1]\n",
            "   [4 3 0]\n",
            "   [1 0 3]]\n",
            "\n",
            "  [[4 1 4]\n",
            "   [3 0 2]\n",
            "   [0 3 0]]\n",
            "\n",
            "  [[1 4 3]\n",
            "   [0 2 4]\n",
            "   [3 0 3]]\n",
            "\n",
            "  [[4 3 0]\n",
            "   [2 4 0]\n",
            "   [0 3 2]]\n",
            "\n",
            "  [[3 0 2]\n",
            "   [4 0 1]\n",
            "   [3 2 0]]\n",
            "\n",
            "  [[0 2 0]\n",
            "   [0 1 1]\n",
            "   [2 0 3]]\n",
            "\n",
            "  [[2 0 4]\n",
            "   [1 1 1]\n",
            "   [0 3 1]]\n",
            "\n",
            "  [[0 4 3]\n",
            "   [1 1 3]\n",
            "   [3 1 1]]]\n",
            "\n",
            "\n",
            " [[[4 3 0]\n",
            "   [1 0 3]\n",
            "   [3 3 4]]\n",
            "\n",
            "  [[3 0 2]\n",
            "   [0 3 0]\n",
            "   [3 4 3]]\n",
            "\n",
            "  [[0 2 4]\n",
            "   [3 0 3]\n",
            "   [4 3 1]]\n",
            "\n",
            "  [[2 4 0]\n",
            "   [0 3 2]\n",
            "   [3 1 2]]\n",
            "\n",
            "  [[4 0 1]\n",
            "   [3 2 0]\n",
            "   [1 2 3]]\n",
            "\n",
            "  [[0 1 1]\n",
            "   [2 0 3]\n",
            "   [2 3 4]]\n",
            "\n",
            "  [[1 1 1]\n",
            "   [0 3 1]\n",
            "   [3 4 0]]\n",
            "\n",
            "  [[1 1 3]\n",
            "   [3 1 1]\n",
            "   [4 0 1]]]\n",
            "\n",
            "\n",
            " [[[1 0 3]\n",
            "   [3 3 4]\n",
            "   [0 1 0]]\n",
            "\n",
            "  [[0 3 0]\n",
            "   [3 4 3]\n",
            "   [1 0 2]]\n",
            "\n",
            "  [[3 0 3]\n",
            "   [4 3 1]\n",
            "   [0 2 3]]\n",
            "\n",
            "  [[0 3 2]\n",
            "   [3 1 2]\n",
            "   [2 3 4]]\n",
            "\n",
            "  [[3 2 0]\n",
            "   [1 2 3]\n",
            "   [3 4 4]]\n",
            "\n",
            "  [[2 0 3]\n",
            "   [2 3 4]\n",
            "   [4 4 2]]\n",
            "\n",
            "  [[0 3 1]\n",
            "   [3 4 0]\n",
            "   [4 2 0]]\n",
            "\n",
            "  [[3 1 1]\n",
            "   [4 0 1]\n",
            "   [2 0 2]]]]\n"
          ]
        }
      ],
      "source": [
        "Z = np.random.randint(0,5,(10,10))\n",
        "n = 3\n",
        "i = 1 + (Z.shape[0]-3)\n",
        "j = 1 + (Z.shape[1]-3)\n",
        "C = stride_tricks.as_strided(Z, shape=(i, j, n, n), strides=Z.strides + Z.strides)\n",
        "print(C)"
      ]
    },
    {
      "cell_type": "markdown",
      "metadata": {
        "id": "IEWus-YPA2-Z"
      },
      "source": [
        "#### 85. Create a 2D array subclass such that Z\\[i,j\\] == Z\\[j,i\\] (★★★) \n",
        "(**hint**: class method)"
      ]
    },
    {
      "cell_type": "code",
      "execution_count": null,
      "metadata": {
        "id": "fAGN0i5sA2-b",
        "colab": {
          "base_uri": "https://localhost:8080/"
        },
        "outputId": "52100fea-8c9e-4c57-c8a6-2e201efaf949"
      },
      "outputs": [
        {
          "output_type": "stream",
          "name": "stdout",
          "text": [
            "[[ 9 11 14 10  2]\n",
            " [11  6 11  8  3]\n",
            " [14 11  7 42 14]\n",
            " [10  8 42  7 15]\n",
            " [ 2  3 14 15  3]]\n"
          ]
        }
      ],
      "source": [
        "class Symetric(np.ndarray):\n",
        "    def __setitem__(self, index, value):\n",
        "        i,j = index\n",
        "        super(Symetric, self).__setitem__((i,j), value)\n",
        "        super(Symetric, self).__setitem__((j,i), value)\n",
        "\n",
        "def symetric(Z):\n",
        "    return np.asarray(Z + Z.T - np.diag(Z.diagonal())).view(Symetric)\n",
        "\n",
        "S = symetric(np.random.randint(0,10,(5,5)))\n",
        "S[2,3] = 42\n",
        "print(S)"
      ]
    },
    {
      "cell_type": "markdown",
      "metadata": {
        "id": "eukPZKGhA2-c"
      },
      "source": [
        "#### 86. Consider a set of p matrices wich shape (n,n) and a set of p vectors with shape (n,1). How to compute the sum of of the p matrix products at once? (result has shape (n,1)) (★★★) \n",
        "(**hint**: np.tensordot)"
      ]
    },
    {
      "cell_type": "code",
      "execution_count": null,
      "metadata": {
        "id": "wLj5PelaA2-c",
        "colab": {
          "base_uri": "https://localhost:8080/"
        },
        "outputId": "f30e0d15-44ae-4b1a-82fd-bf623be8c845"
      },
      "outputs": [
        {
          "output_type": "stream",
          "name": "stdout",
          "text": [
            "[[200.]\n",
            " [200.]\n",
            " [200.]\n",
            " [200.]\n",
            " [200.]\n",
            " [200.]\n",
            " [200.]\n",
            " [200.]\n",
            " [200.]\n",
            " [200.]\n",
            " [200.]\n",
            " [200.]\n",
            " [200.]\n",
            " [200.]\n",
            " [200.]\n",
            " [200.]\n",
            " [200.]\n",
            " [200.]\n",
            " [200.]\n",
            " [200.]]\n"
          ]
        }
      ],
      "source": [
        "p, n = 10, 20\n",
        "M = np.ones((p,n,n))\n",
        "V = np.ones((p,n,1))\n",
        "S = np.tensordot(M, V, axes=[[0, 2], [0, 1]])\n",
        "print(S)\n"
      ]
    },
    {
      "cell_type": "markdown",
      "metadata": {
        "id": "FStwicyRA2-c"
      },
      "source": [
        "#### 87. Consider a 16x16 array, how to get the block-sum (block size is 4x4)? (★★★) \n",
        "(**hint**: np.add.reduceat)"
      ]
    },
    {
      "cell_type": "code",
      "execution_count": null,
      "metadata": {
        "id": "Uq6LyBG8A2-d",
        "colab": {
          "base_uri": "https://localhost:8080/"
        },
        "outputId": "ef6ad714-e056-4ed8-dccc-28e91222eadd"
      },
      "outputs": [
        {
          "output_type": "stream",
          "name": "stdout",
          "text": [
            "[[16. 16. 16. 16.]\n",
            " [16. 16. 16. 16.]\n",
            " [16. 16. 16. 16.]\n",
            " [16. 16. 16. 16.]]\n"
          ]
        }
      ],
      "source": [
        "Z = np.ones((16,16))\n",
        "k = 4\n",
        "S = np.add.reduceat(np.add.reduceat(Z, np.arange(0, Z.shape[0], k), axis=0),\n",
        "                                       np.arange(0, Z.shape[1], k), axis=1)\n",
        "print(S)"
      ]
    },
    {
      "cell_type": "markdown",
      "metadata": {
        "id": "AadZ9AyDA2-d"
      },
      "source": [
        "#### 88. How to implement the Game of Life using numpy arrays? (★★★)"
      ]
    },
    {
      "cell_type": "code",
      "execution_count": null,
      "metadata": {
        "id": "hf7tYhCiA2-e",
        "colab": {
          "base_uri": "https://localhost:8080/"
        },
        "outputId": "dd52079b-a32a-4ef1-82fb-12ef3cb163a0"
      },
      "outputs": [
        {
          "output_type": "stream",
          "name": "stdout",
          "text": [
            "[[0 0 0 ... 0 0 0]\n",
            " [0 0 0 ... 0 0 0]\n",
            " [0 0 0 ... 0 0 0]\n",
            " ...\n",
            " [0 0 0 ... 0 0 0]\n",
            " [0 0 0 ... 0 0 0]\n",
            " [0 0 0 ... 0 0 0]]\n"
          ]
        }
      ],
      "source": [
        "def iterate(Z):\n",
        "    # Count neighbours\n",
        "    N = (Z[0:-2,0:-2] + Z[0:-2,1:-1] + Z[0:-2,2:] +\n",
        "         Z[1:-1,0:-2]                + Z[1:-1,2:] +\n",
        "         Z[2:  ,0:-2] + Z[2:  ,1:-1] + Z[2:  ,2:])\n",
        "\n",
        "    # Apply rules\n",
        "    birth = (N==3) & (Z[1:-1,1:-1]==0)\n",
        "    survive = ((N==2) | (N==3)) & (Z[1:-1,1:-1]==1)\n",
        "    Z[...] = 0\n",
        "    Z[1:-1,1:-1][birth | survive] = 1\n",
        "    return Z\n",
        "\n",
        "Z = np.random.randint(0,2,(50,50))\n",
        "for i in range(100): Z = iterate(Z)\n",
        "print(Z)"
      ]
    },
    {
      "cell_type": "markdown",
      "metadata": {
        "id": "TOukPoQWA2-e"
      },
      "source": [
        "#### 89. How to get the n largest values of an array (★★★) \n",
        "(**hint**: np.argsort | np.argpartition)"
      ]
    },
    {
      "cell_type": "code",
      "execution_count": null,
      "metadata": {
        "id": "oVYQ-G3xA2-e",
        "colab": {
          "base_uri": "https://localhost:8080/"
        },
        "outputId": "bef144df-9417-40ac-9f2e-46c7289902f1"
      },
      "outputs": [
        {
          "output_type": "stream",
          "name": "stdout",
          "text": [
            "[9995 9996 9997 9998 9999]\n",
            "[9999 9998 9997 9996 9995]\n"
          ]
        }
      ],
      "source": [
        "Z = np.arange(10000)\n",
        "np.random.shuffle(Z)\n",
        "n = 5\n",
        "\n",
        "# Slow\n",
        "print (Z[np.argsort(Z)[-n:]])\n",
        "\n",
        "# Fast\n",
        "print (Z[np.argpartition(-Z,n)[:n]])"
      ]
    },
    {
      "cell_type": "markdown",
      "metadata": {
        "id": "NL9ZMMCqA2-f"
      },
      "source": [
        "#### 90. Given an arbitrary number of vectors, build the cartesian product (every combinations of every item) (★★★) \n",
        "(**hint**: np.indices)"
      ]
    },
    {
      "cell_type": "code",
      "execution_count": null,
      "metadata": {
        "scrolled": true,
        "id": "urDeWz5wA2-f",
        "colab": {
          "base_uri": "https://localhost:8080/"
        },
        "outputId": "1d35e010-e761-4f4e-ac75-5754b3742a8e"
      },
      "outputs": [
        {
          "output_type": "stream",
          "name": "stdout",
          "text": [
            "[[1 4 6]\n",
            " [1 4 7]\n",
            " [1 5 6]\n",
            " [1 5 7]\n",
            " [2 4 6]\n",
            " [2 4 7]\n",
            " [2 5 6]\n",
            " [2 5 7]\n",
            " [3 4 6]\n",
            " [3 4 7]\n",
            " [3 5 6]\n",
            " [3 5 7]]\n"
          ]
        }
      ],
      "source": [
        "def cartesian(arrays):\n",
        "    arrays = [np.asarray(a) for a in arrays]\n",
        "    shape = (len(x) for x in arrays)\n",
        "\n",
        "    ix = np.indices(shape, dtype=int)\n",
        "    ix = ix.reshape(len(arrays), -1).T\n",
        "\n",
        "    for n, arr in enumerate(arrays):\n",
        "        ix[:, n] = arrays[n][ix[:, n]]\n",
        "\n",
        "    return ix\n",
        "\n",
        "print (cartesian(([1, 2, 3], [4, 5], [6, 7])))"
      ]
    },
    {
      "cell_type": "markdown",
      "metadata": {
        "id": "gf8GjOAeA2-f"
      },
      "source": [
        "#### 91. How to create a record array from a regular array? (★★★) \n",
        "(**hint**: np.core.records.fromarrays)"
      ]
    },
    {
      "cell_type": "code",
      "execution_count": null,
      "metadata": {
        "id": "xhalh7QVA2-f",
        "colab": {
          "base_uri": "https://localhost:8080/"
        },
        "outputId": "3602d2c4-d24b-4c9a-9399-28ef67dbd3cc"
      },
      "outputs": [
        {
          "output_type": "stream",
          "name": "stdout",
          "text": [
            "[(b'Hello', 2.5, 3) (b'World', 3.6, 2)]\n"
          ]
        }
      ],
      "source": [
        "Z = np.array([(\"Hello\", 2.5, 3),\n",
        "              (\"World\", 3.6, 2)])\n",
        "R = np.core.records.fromarrays(Z.T,\n",
        "                               names='col1, col2, col3',\n",
        "                               formats = 'S8, f8, i8')\n",
        "print(R)"
      ]
    },
    {
      "cell_type": "markdown",
      "metadata": {
        "id": "WVTBSeM6A2-f"
      },
      "source": [
        "#### 92. Consider a large vector Z, compute Z to the power of 3 using 3 different methods (★★★) \n",
        "(**hint**: np.power, \\*, np.einsum)"
      ]
    },
    {
      "cell_type": "code",
      "execution_count": null,
      "metadata": {
        "id": "Cat8t2TDA2-g",
        "colab": {
          "base_uri": "https://localhost:8080/"
        },
        "outputId": "910f91b6-8668-4344-dde5-34f87a0a715c"
      },
      "outputs": [
        {
          "output_type": "stream",
          "name": "stdout",
          "text": [
            "1 loop, best of 5: 3.74 s per loop\n",
            "10 loops, best of 5: 137 ms per loop\n",
            "10 loops, best of 5: 119 ms per loop\n"
          ]
        }
      ],
      "source": [
        "x = np.random.rand(int(5e7))\n",
        "\n",
        "%timeit np.power(x,3)\n",
        "%timeit x*x*x\n",
        "%timeit np.einsum('i,i,i->i',x,x,x)"
      ]
    },
    {
      "cell_type": "markdown",
      "metadata": {
        "id": "ct_cU1ljA2-g"
      },
      "source": [
        "#### 93. Consider two arrays A and B of shape (8,3) and (2,2). How to find rows of A that contain elements of each row of B regardless of the order of the elements in B? (★★★) \n",
        "(**hint**: np.where)"
      ]
    },
    {
      "cell_type": "code",
      "execution_count": null,
      "metadata": {
        "id": "V0IQy24vA2-g",
        "colab": {
          "base_uri": "https://localhost:8080/"
        },
        "outputId": "f318cded-6ec7-45e6-d915-4a9514b4619d"
      },
      "outputs": [
        {
          "output_type": "stream",
          "name": "stdout",
          "text": [
            "[0 2 3 5 6]\n"
          ]
        }
      ],
      "source": [
        "A = np.random.randint(0,5,(8,3))\n",
        "B = np.random.randint(0,5,(2,2))\n",
        "\n",
        "C = (A[..., np.newaxis, np.newaxis] == B)\n",
        "rows = np.where(C.any((3,1)).all(1))[0]\n",
        "print(rows)"
      ]
    },
    {
      "cell_type": "markdown",
      "metadata": {
        "id": "7gpeJ-yAA2-g"
      },
      "source": [
        "#### 94. Considering a 10x3 matrix, extract rows with unequal values (e.g. \\[2,2,3\\]) (★★★)"
      ]
    },
    {
      "cell_type": "code",
      "execution_count": null,
      "metadata": {
        "id": "VZRELc4IA2-g",
        "colab": {
          "base_uri": "https://localhost:8080/"
        },
        "outputId": "e7009316-22e0-4741-96d8-4adba7f23dfc"
      },
      "outputs": [
        {
          "output_type": "stream",
          "name": "stdout",
          "text": [
            "[[4 1 4]\n",
            " [4 2 1]\n",
            " [1 1 1]\n",
            " [2 2 2]\n",
            " [3 1 1]\n",
            " [0 3 3]\n",
            " [2 0 3]\n",
            " [2 2 4]\n",
            " [0 3 2]\n",
            " [2 2 4]]\n",
            "[[4 1 4]\n",
            " [4 2 1]\n",
            " [3 1 1]\n",
            " [0 3 3]\n",
            " [2 0 3]\n",
            " [2 2 4]\n",
            " [0 3 2]\n",
            " [2 2 4]]\n",
            "[[4 1 4]\n",
            " [4 2 1]\n",
            " [3 1 1]\n",
            " [0 3 3]\n",
            " [2 0 3]\n",
            " [2 2 4]\n",
            " [0 3 2]\n",
            " [2 2 4]]\n"
          ]
        }
      ],
      "source": [
        "Z = np.random.randint(0,5,(10,3))\n",
        "print(Z)\n",
        "# solution for arrays of all dtypes (including string arrays and record arrays)\n",
        "E = np.all(Z[:,1:] == Z[:,:-1], axis=1)\n",
        "U = Z[~E]\n",
        "print(U)\n",
        "# soluiton for numerical arrays only, will work for any number of columns in Z\n",
        "U = Z[Z.max(axis=1) != Z.min(axis=1),:]\n",
        "print(U)"
      ]
    },
    {
      "cell_type": "markdown",
      "metadata": {
        "id": "2lNch7M1A2-g"
      },
      "source": [
        "#### 95. Convert a vector of ints into a matrix binary representation (★★★) \n",
        "(**hint**: np.unpackbits)"
      ]
    },
    {
      "cell_type": "code",
      "execution_count": null,
      "metadata": {
        "id": "nXcu_ZuNA2-h",
        "colab": {
          "base_uri": "https://localhost:8080/"
        },
        "outputId": "ec82ce71-dad7-4e57-8e09-85af437842e9"
      },
      "outputs": [
        {
          "output_type": "stream",
          "name": "stdout",
          "text": [
            "[[0 0 0 0 0 0 0 0]\n",
            " [0 0 0 0 0 0 0 1]\n",
            " [0 0 0 0 0 0 1 0]\n",
            " [0 0 0 0 0 0 1 1]\n",
            " [0 0 0 0 1 1 1 1]\n",
            " [0 0 0 1 0 0 0 0]\n",
            " [0 0 1 0 0 0 0 0]\n",
            " [0 1 0 0 0 0 0 0]\n",
            " [1 0 0 0 0 0 0 0]]\n"
          ]
        }
      ],
      "source": [
        "I = np.array([0, 1, 2, 3, 15, 16, 32, 64, 128])\n",
        "B = ((I.reshape(-1,1) & (2**np.arange(8))) != 0).astype(int)\n",
        "print(B[:,::-1])\n"
      ]
    },
    {
      "cell_type": "markdown",
      "metadata": {
        "id": "K6h55ZBZA2-h"
      },
      "source": [
        "#### 96. Given a two dimensional array, how to extract unique rows? (★★★) \n",
        "(**hint**: np.ascontiguousarray)"
      ]
    },
    {
      "cell_type": "code",
      "execution_count": null,
      "metadata": {
        "id": "equJDrgrA2-h",
        "colab": {
          "base_uri": "https://localhost:8080/"
        },
        "outputId": "000c6b35-3556-4954-fe87-82303139320f"
      },
      "outputs": [
        {
          "output_type": "stream",
          "name": "stdout",
          "text": [
            "[[0 0 0]\n",
            " [0 0 1]\n",
            " [0 1 0]\n",
            " [1 0 1]]\n"
          ]
        }
      ],
      "source": [
        "Z = np.random.randint(0,2,(6,3))\n",
        "T = np.ascontiguousarray(Z).view(np.dtype((np.void, Z.dtype.itemsize * Z.shape[1])))\n",
        "_, idx = np.unique(T, return_index=True)\n",
        "uZ = Z[idx]\n",
        "print(uZ)"
      ]
    },
    {
      "cell_type": "markdown",
      "metadata": {
        "id": "tFxkiOw-A2-h"
      },
      "source": [
        "#### 97. Considering 2 vectors A & B, write the einsum equivalent of inner, outer, sum, and mul function (★★★) \n",
        "(**hint**: np.einsum)"
      ]
    },
    {
      "cell_type": "code",
      "execution_count": null,
      "metadata": {
        "id": "7qmMgH3FA2-h",
        "colab": {
          "base_uri": "https://localhost:8080/"
        },
        "outputId": "a3410aef-65ed-454c-edc3-cf6256c9d582"
      },
      "outputs": [
        {
          "output_type": "execute_result",
          "data": {
            "text/plain": [
              "array([[0.17674772, 0.19943185, 0.34865046, 0.13282341, 0.16133192,\n",
              "        0.32363379, 0.21537094, 0.10631164, 0.15595267, 0.05515964],\n",
              "       [0.22952052, 0.25897762, 0.45274947, 0.17248143, 0.20950192,\n",
              "        0.42026341, 0.27967576, 0.13805385, 0.20251655, 0.07162904],\n",
              "       [0.38984463, 0.43987802, 0.76900292, 0.29296273, 0.35584269,\n",
              "        0.71382476, 0.47503418, 0.23448689, 0.34397792, 0.12166319],\n",
              "       [0.38091644, 0.42980398, 0.75139129, 0.28625332, 0.34769321,\n",
              "        0.69747682, 0.46415499, 0.22911669, 0.33610017, 0.11887687],\n",
              "       [0.38042136, 0.42924535, 0.75041468, 0.28588127, 0.34724131,\n",
              "        0.69657029, 0.46355172, 0.2288189 , 0.33566333, 0.11872236],\n",
              "       [0.1138033 , 0.12840903, 0.22448704, 0.08552157, 0.10387746,\n",
              "        0.20837946, 0.1386718 , 0.06845132, 0.1004139 , 0.03551587],\n",
              "       [0.30405573, 0.34307881, 0.59977674, 0.22849358, 0.27753623,\n",
              "        0.55674105, 0.37049853, 0.18288589, 0.26828241, 0.09489008],\n",
              "       [0.17188473, 0.19394474, 0.3390578 , 0.12916895, 0.15689308,\n",
              "        0.31472943, 0.2094453 , 0.10338661, 0.15166184, 0.053642  ],\n",
              "       [0.23722967, 0.26767617, 0.46795645, 0.17827475, 0.21653869,\n",
              "        0.43437924, 0.28906953, 0.14269081, 0.20931869, 0.07403492],\n",
              "       [0.21477491, 0.24233953, 0.42366246, 0.16140031, 0.19604241,\n",
              "        0.39326347, 0.26170791, 0.12918454, 0.18950582, 0.06702722]])"
            ]
          },
          "metadata": {},
          "execution_count": 38
        }
      ],
      "source": [
        "A = np.random.uniform(0,1,10)\n",
        "B = np.random.uniform(0,1,10)\n",
        "\n",
        "np.einsum('i->', A)       # np.sum(A)\n",
        "np.einsum('i,i->i', A, B) # A * B\n",
        "np.einsum('i,i', A, B)    # np.inner(A, B)\n",
        "np.einsum('i,j->ij', A, B)    # np.outer(A, B)"
      ]
    },
    {
      "cell_type": "markdown",
      "metadata": {
        "id": "P5RKEUK5A2-h"
      },
      "source": [
        "#### 98. Considering a path described by two vectors (X,Y), how to sample it using equidistant samples (★★★)? \n",
        "(**hint**: np.cumsum, np.interp)"
      ]
    },
    {
      "cell_type": "code",
      "execution_count": null,
      "metadata": {
        "collapsed": true,
        "id": "QcU194DaA2-i"
      },
      "outputs": [],
      "source": [
        "phi = np.arange(0, 10*np.pi, 0.1)\n",
        "a = 1\n",
        "x = a*phi*np.cos(phi)\n",
        "y = a*phi*np.sin(phi)\n",
        "\n",
        "dr = (np.diff(x)**2 + np.diff(y)**2)**.5 # segment lengths\n",
        "r = np.zeros_like(x)\n",
        "r[1:] = np.cumsum(dr)                # integrate path\n",
        "r_int = np.linspace(0, r.max(), 200) # regular spaced path\n",
        "x_int = np.interp(r_int, r, x)       # integrate path\n",
        "y_int = np.interp(r_int, r, y)"
      ]
    },
    {
      "cell_type": "markdown",
      "metadata": {
        "id": "8RRBNnTAA2-i"
      },
      "source": [
        "#### 99. Given an integer n and a 2D array X, select from X the rows which can be interpreted as draws from a multinomial distribution with n degrees, i.e., the rows which only contain integers and which sum to n. (★★★) \n",
        "(**hint**: np.logical\\_and.reduce, np.mod)"
      ]
    },
    {
      "cell_type": "code",
      "execution_count": null,
      "metadata": {
        "id": "2K78keL0A2-i",
        "colab": {
          "base_uri": "https://localhost:8080/"
        },
        "outputId": "a09a9788-f3fe-4c11-8db9-7845f6c9e7a1"
      },
      "outputs": [
        {
          "output_type": "stream",
          "name": "stdout",
          "text": [
            "[[2. 0. 1. 1.]]\n"
          ]
        }
      ],
      "source": [
        "X = np.asarray([[1.0, 0.0, 3.0, 8.0],\n",
        "                [2.0, 0.0, 1.0, 1.0],\n",
        "                [1.5, 2.5, 1.0, 0.0]])\n",
        "n = 4\n",
        "M = np.logical_and.reduce(np.mod(X, 1) == 0, axis=-1)\n",
        "M &= (X.sum(axis=-1) == n)\n",
        "print(X[M])"
      ]
    },
    {
      "cell_type": "markdown",
      "metadata": {
        "id": "dwlbtNDhA2-i"
      },
      "source": [
        "#### 100. Compute bootstrapped 95% confidence intervals for the mean of a 1D array X (i.e., resample the elements of an array with replacement N times, compute the mean of each sample, and then compute percentiles over the means). (★★★) \n",
        "(**hint**: np.percentile)"
      ]
    },
    {
      "cell_type": "code",
      "execution_count": null,
      "metadata": {
        "id": "lRG99rJlA2-i",
        "colab": {
          "base_uri": "https://localhost:8080/"
        },
        "outputId": "ea9fa234-aa12-407b-ba66-70d252b91855"
      },
      "outputs": [
        {
          "output_type": "stream",
          "name": "stdout",
          "text": [
            "[-0.28017801  0.1140893 ]\n"
          ]
        }
      ],
      "source": [
        "X = np.random.randn(100) # random 1D array\n",
        "N = 1000 # number of bootstrap samples\n",
        "idx = np.random.randint(0, X.size, (N, X.size))\n",
        "means = X[idx].mean(axis=1)\n",
        "confint = np.percentile(means, [2.5, 97.5])\n",
        "print(confint)"
      ]
    }
  ],
  "metadata": {
    "kernelspec": {
      "display_name": "Python 3",
      "language": "python",
      "name": "python3"
    },
    "language_info": {
      "codemirror_mode": {
        "name": "ipython",
        "version": 3
      },
      "file_extension": ".py",
      "mimetype": "text/x-python",
      "name": "python",
      "nbconvert_exporter": "python",
      "pygments_lexer": "ipython3",
      "version": "3.8.3"
    },
    "colab": {
      "name": "Copy of Numpy_tasks.ipynb",
      "provenance": [],
      "collapsed_sections": []
    }
  },
  "nbformat": 4,
  "nbformat_minor": 0
}